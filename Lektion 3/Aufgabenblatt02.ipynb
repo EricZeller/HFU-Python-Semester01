{
 "cells": [
  {
   "cell_type": "markdown",
   "id": "7e6a602e-be87-4212-ba8b-21cdcc9c97e1",
   "metadata": {},
   "source": [
    "# Tutorium Programmieren (Prof. Dr. Ralf Gerlich)\n",
    "# Aufgabenblatt 2"
   ]
  },
  {
   "cell_type": "markdown",
   "id": "744c35ac-dbeb-4c73-8171-95b1ea8ca440",
   "metadata": {},
   "source": [
    "## Aufgabe 1: Größter Gemeinsamer Teiler\n",
    "Schreiben Sie eine Funktion `gcd`, die den größten gemeinsamen Teiler (gcd auf Englisch) zweier gegebener nicht-negativer Zahlen berechnet. Der Algorithmus dazu wurde in der Vorlesung zu Lektion 1 beschrieben.\n",
    "\n",
    "Beispiel: Das Ergebnis von `gcd(18, 783)` sollte `9` sein.\n",
    "\n",
    "Testen Sie Ihre Implementierung."
   ]
  },
  {
   "cell_type": "code",
   "execution_count": null,
   "id": "458cbe8d-3191-4476-ab85-bebc1008e068",
   "metadata": {},
   "outputs": [
    {
     "name": "stdout",
     "output_type": "stream",
     "text": [
      "Größter gemeinsamer Teiler: 9\n"
     ]
    }
   ],
   "source": [
    "zahl1 = int(input('Zahl 1 eingeben: '))\n",
    "zahl2 = int(input('Zahl 2 eingeben: '))\n",
    "\n",
    "\n",
    "def gcd(a, b):\n",
    "    while a != b:\n",
    "        if a>b:\n",
    "            a = a - b\n",
    "        else:\n",
    "            b = b -a\n",
    "    return a\n",
    "\n",
    "\n",
    "print('Größter gemeinsamer Teiler:', gcd(zahl1, zahl2))"
   ]
  },
  {
   "cell_type": "markdown",
   "id": "50af8614-9bc5-43d1-a765-28d2a55350dd",
   "metadata": {},
   "source": [
    "**Hinweis:** Die `pass`-Anweisung entspricht in Python einer leeren Anweisung, die nichts tut. Sie wird häufig als Platzhalter eingesetzt, wenn ein Block erforderlich ist (z.B. bei einer Schleife), aber der Rumpf leer bleiben soll. Ohne die `pass`-Anweisung würde ein leerer Rumpf sonst zu einer Fehlermeldung führen."
   ]
  },
  {
   "cell_type": "markdown",
   "id": "7ddbbd1d-88d7-4584-99d9-5e1791591a70",
   "metadata": {},
   "source": [
    "## Aufgage 2: Primzahlen erkennen\n",
    "Schreiben Sie eine Funktion `ist_prim`, die `True` zurückgibt, wenn die übergebene, nicht-negative Zahl eine Primzahl ist, und ansonsten `False`.\n",
    "\n",
    "Beispiel: Das Ergebnis von `ist_prim(29)` soll `True` sein, das von `ist_prim(25)` soll `False` sein."
   ]
  },
  {
   "cell_type": "code",
   "execution_count": 12,
   "id": "7ba5fb07-e210-413e-bd5d-b71bdd2a80fe",
   "metadata": {},
   "outputs": [
    {
     "name": "stdout",
     "output_type": "stream",
     "text": [
      "False\n"
     ]
    }
   ],
   "source": [
    "eingabe = int(input('Bitte Zahl eingeben: '))\n",
    "\n",
    "def ist_prim(n):\n",
    "    if n < 0:\n",
    "        return 'Zahl kleiner Null!'\n",
    "    for i in range (n-1, 1, -1):\n",
    "        if type(n/i) == int:\n",
    "            return True\n",
    "    return False\n",
    "        \n",
    "print(str(ist_prim(eingabe)))\n",
    "\n"
   ]
  },
  {
   "cell_type": "markdown",
   "id": "bc2ba23c-027a-4e02-803f-7497b353eefe",
   "metadata": {},
   "source": [
    "## Aufgabe 3: Pyramide\n",
    "Schreiben Sie eine Funktion `pyramid`, die eine Pyramide mit der angegebenen Anzahl von Ebenen ausgibt.\n",
    "\n",
    "Beachten Sie dabei, dass Leerzeichen mit einem Punkt gefüllt werden.\n",
    "\n",
    "Beispiel: `levels = 4`\n",
    "```\n",
    " ...#\n",
    " ..##\n",
    " .###\n",
    " ####\n",
    "```"
   ]
  },
  {
   "cell_type": "code",
   "execution_count": 18,
   "id": "43ae947d-08ef-4fdc-a642-4b9433eb25b8",
   "metadata": {},
   "outputs": [
    {
     "name": "stdout",
     "output_type": "stream",
     "text": [
      "..#\n",
      ".##\n",
      "###\n"
     ]
    }
   ],
   "source": [
    "eingabe = int(input(\"Bitte Level eingeben: \"))\n",
    "\n",
    "def pyramid(n):\n",
    "    for i in range(n):\n",
    "        a = \".\"*(n-i-1)\n",
    "        b = \"#\"*(i+1)\n",
    "        print(a+b)\n",
    "\n",
    "pyramid(eingabe)\n"
   ]
  },
  {
   "cell_type": "markdown",
   "id": "c3ccaaad-a473-4b48-8960-c8da945ab95a",
   "metadata": {},
   "source": [
    "## Aufgabe 4: Taschenrechner\n",
    "Entwicklen Sie ein Python-Programm, das als einfacher Taschenrechner dient. Dieser Taschenrechner soll die Grundrechenarten (Addition, Subtraktion, Multiplikation, Division) unterstützen.\n",
    "\n",
    "### Anforderungen:\n",
    "1. Benutzereingaben erfassen: Das Programm soll den Benutzer auffordern, zwei Zahlen einzugeben und eine Operation: Addition (+), Subtraktion (-), Multiplikation (*) oder Division (/).\n",
    "2. Berechnungen durchführen: Je nach gewählter Operation soll das Programm das Ergebnis berechnen und ausgeben.\n",
    "3. Fehlerbehandlung: Das Programm soll Fehler wie Division durch Null angemessen behandeln und eine entsprechende Fehlermeldung ausgeben.\n",
    "4. Programmende: Der Benutzer soll die Möglichkeit haben, nach einer Berechnung weitere Berechnungen durchzuführen oder das Programm zu beenden.\n",
    "\n",
    "### Erweiterung (optional):\n",
    "- Fügen Sie zusätzlich eine Funktion hinzu, mit der man eine Zahl potenzieren kann.\n",
    "- Fügen Sie zusätzlich eine Funktion hinzu, mit der man die Quadratwurzel einer Zahl berechnen kann.\n",
    "\n",
    "## Hinweis\n",
    "Für die Berechnung der Potenz \"`a` hoch `b`\" können Sie in der untenstehenden Vorlage die Funktion `pow(a,b)` verwenden.\n",
    "Für die Berechnung der Quadratwurzel von `a` können Sie dort die Funktion `sqrt(a)` verwenden."
   ]
  },
  {
   "cell_type": "code",
   "execution_count": 1,
   "id": "3bcb852f-1a90-42da-b5dd-346fd9d81bff",
   "metadata": {},
   "outputs": [
    {
     "name": "stdout",
     "output_type": "stream",
     "text": [
      "Ergebnis: 2.0\n",
      "Ergebnis: 90.0\n",
      "Programmende\n"
     ]
    }
   ],
   "source": [
    "from math import sqrt\n",
    "weiter = True\n",
    "while weiter:\n",
    "    eingabe = input('Bitte Rechnung im Format <Zahl1><Leerzeichen><Operator><Leerzeichen><Zahl2> eingeben: ')\n",
    "    zahl1 = float(eingabe.split()[0])\n",
    "    operation = eingabe.split()[1]\n",
    "    zahl2 = float(eingabe.split()[2])\n",
    "    def calculator(pZahl1, pZahl2, pOperation):\n",
    "        if pZahl2 != 0:\n",
    "            if pOperation == '+':\n",
    "                return pZahl1 + pZahl2\n",
    "            elif pOperation == '-':\n",
    "                return pZahl1 - pZahl2\n",
    "            elif pOperation == '*':\n",
    "                return pZahl1 * pZahl2\n",
    "            elif pOperation == '/':\n",
    "                return pZahl1 / pZahl2\n",
    "            else: return \"Bitte einen korrekten Operator eingeben!\"\n",
    "        elif pOperation == '/': return \"Bitte nicht durch Null teilen!🤨\"\n",
    "\n",
    "    print('Ergebnis:',calculator(zahl1, zahl2, operation))\n",
    "    if input('Weitere Berechnung durchführen? y/n') == 'n': \n",
    "        weiter = False\n",
    "        print('Programmende')"
   ]
  }
 ],
 "metadata": {
  "kernelspec": {
   "display_name": "Python 3",
   "language": "python",
   "name": "python3"
  },
  "language_info": {
   "codemirror_mode": {
    "name": "ipython",
    "version": 3
   },
   "file_extension": ".py",
   "mimetype": "text/x-python",
   "name": "python",
   "nbconvert_exporter": "python",
   "pygments_lexer": "ipython3",
   "version": "3.13.0"
  }
 },
 "nbformat": 4,
 "nbformat_minor": 5
}
