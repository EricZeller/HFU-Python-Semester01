{
 "cells": [
  {
   "cell_type": "markdown",
   "metadata": {
    "id": "B-nBzDvXVeEG"
   },
   "source": [
    "# Tutorium Programmieren (Prof. Dr. Ralf Gerlich)\n",
    "# Aufgabenblatt 8: Labyrinth lösen mit DFS"
   ]
  },
  {
   "cell_type": "markdown",
   "metadata": {
    "id": "wenNAm9GVuwy"
   },
   "source": [
    "## Einführung\n",
    "\n",
    "In dieser Aufgabe werden Sie eine Funktion implementieren, die eine [Tiefensuche](https://de.wikipedia.org/wiki/Tiefensuche) (Depth-First Search, DFS) durchführt, um einen Weg von einem Startpunkt zu einem Endpunkt in einem vorgegebenen Labyrinth zu finden."
   ]
  },
  {
   "cell_type": "markdown",
   "metadata": {
    "id": "ojjw7qwhivtZ"
   },
   "source": [
    "### Motivation\n",
    "\n",
    "Die Tiefensuche ist ein leistungsfähiges Verfahren, das in vielen Bereichen der Künstlichen Intelligenz eingesetzt wird, um Probleme zu lösen, die das Durchsuchen und Analysieren von großen Zustandsräumen erfordern.\n",
    "\n",
    "#### Beispielanwendungen:\n",
    "- **Lösung von Labyrinthen:** Finden eines Weges durch ein Labyrinth.\n",
    "- **Topologisches Sortieren:** Sortieren von Knoten in einem gerichteten Graphen (z.B. Reihenfolge bei der Installation von Softwarepaketen).\n",
    "- **Erkennung von Zyklen:** Prüfung, ob ein Graph (z.B. ein Computernetzwerk oder ein Kontrollflussgraph eines Programms) Schleifen enthält.\n",
    "- **Komponentenverbindung:** Prüfung, ob in einem Graphen (z.B. einem Computernetzwerk) jeder Knoten mit jedem anderen direkt oder indirekt verbunden ist.\n",
    "\n",
    "#### Vorteile:\n",
    "- **Einfach zu implementieren:** Besonders mit Rekursion leicht umsetzbar.\n",
    "- **Speicherökonomisch:** Verbraucht im Vergleich zu anderen Suchalgorithmen weniger Speicher, wenn das zu lösende Problem groß ist.\n",
    "- **Pfadfindung:** Gut geeignet, um Pfade oder Lösungen in Szenarien wie Labyrinthen zu finden.\n",
    "\n",
    "#### Nachteile:\n",
    "- **Nicht die kürzeste Route:** DFS garantiert nicht die kürzeste Route zwischen zwei Punkten.\n",
    "- **Kann ineffizient sein:** Im ungünstigsten Fall müssen alle Knoten im Graphen (z.B. Orte im Labyrinth) besucht werden, bevor eine Lösung gefunden wird.\n",
    "\n",
    "Effizientere Alternativen zur Tiefensuche sind etwa der [Dijkstra-](https://de.wikipedia.org/wiki/Dijkstra-Algorithmus) oder der [A*-Algorithmus](https://de.wikipedia.org/wiki/A*-Algorithmus). Diese sind auch in der Lage, den kürzesten (oder kostengünstigsten) Weg zwischen zwei Punkten zu finden. [Hier](https://www.youtube.com/watch?v=aW9kZcJx64o) können Sie in einem Video einen Vergleich dieser Algorithmen finden."
   ]
  },
  {
   "cell_type": "markdown",
   "metadata": {
    "id": "Lf5kR4wTgCiA"
   },
   "source": [
    "### Darstellung eines Labyrinths\n",
    "\n",
    "Wir können ein Labyrinth als eine Liste von Strings darstellen:\n",
    "\n",
    "\n",
    "        maze = [\n",
    "            \"#########\",\n",
    "            \"#       #\",\n",
    "            \"# ##### #\",\n",
    "            \"# #   # #\",\n",
    "            \"# # # # #\",\n",
    "            \"#   #   #\",\n",
    "            \"#########\"\n",
    "        ]\n",
    "\n",
    "Diese Liste enthällt Strings.\n",
    "\n",
    "**Wände** werden mit ``'#'`` dargestellt.\n",
    "\n",
    "**Offene Pfade** werden mit ``' '`` dargestellt.\n",
    "\n",
    "Der **Startpunkt** wird mit ``'S'`` dargestellt.\n",
    "\n",
    "Der **Endpunkt** wird mit ``'E'`` dargestellt.\n",
    "\n",
    "Die **besuchten Pfade** werden mit ``'.'`` dargestellt.\n",
    "\n",
    "\n",
    "Beispiel:\n",
    "\n",
    "\n",
    "        maze = [\n",
    "            \"#########\",\n",
    "            \"#S      #\",\n",
    "            \"#.##### #\",\n",
    "            \"#.#...# #\",\n",
    "            \"#.#.#.# #\",\n",
    "            \"#...#..E#\",\n",
    "            \"#########\"\n",
    "        ]\n",
    "Das folgende Bild zeigt die Darstellung dieses gelösten Labyrinths:\n",
    "- Blau ist der Startpunt\n",
    "- Grün ist der gewählte Weg\n",
    "- Rot ist der Endpunkt, also unser Ziel"
   ]
  },
  {
   "cell_type": "markdown",
   "metadata": {
    "id": "L6EQl2yvVuuU"
   },
   "source": [
    "![dfs2.png](data:image/png;base64,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)"
   ]
  },
  {
   "cell_type": "markdown",
   "metadata": {
    "id": "7g_zjS3mji6m"
   },
   "source": [
    "### Ablauf der Tiefensuche in einem Labyrinth\n",
    "\n",
    "Das Ziel der Tiefensuche ist es, einen Weg von einem Startpunkt zu einem Zielpunkt zu finden, falls ein solcher existiert.\n",
    "\n",
    "1. **Initialisierung:**\n",
    "\n",
    "  Beginnen Sie bei einem Startpunkt im Labyrinth. Dieser Punkt ist mit ``'S'`` markiert.\n",
    "  \n",
    "  Markieren Sie diesen Punkt nun mit ``'.'`` als besucht, um anzuzeigen, dass Sie diesen Punkt bereits erkundet haben.\n",
    "\n",
    "2. **Wegsuche:**\n",
    "\n",
    "  Betrachten Sie von Ihrem aktuellen Standpunkt aus nacheinander alle direkt angrenzenden Zellen (oben, unten, links, rechts).\n",
    "  Für jede angrenzende Zelle:\n",
    "  - Wenn es eine Wand ist oder schon besucht wurde, ignorieren Sie diese Richtung.\n",
    "  - Wenn es ein offener Pfad ist und es der Endpunkt ist, haben Sie den Zielpunkt erreicht.\n",
    "  - Wenn es ein offener Pfad ist und nicht der Endpunkt, rufen Sie die DFS-Funktion rekursiv für diese Zelle auf.\n",
    "\n",
    "  Auf diese Weise wird jeder mögliche vom Start ausgehende Weg nacheinander systematisch abgearbeitet, bis das Ziel erreicht wurde.\n",
    "\n",
    "3. **Rekursion und Backtracking:**\n",
    "\n",
    "  Die DFS-Funktion wird rekursiv aufgerufen, um tiefer in das Labyrinth zu gehen. Dies setzt sich fort, bis entweder das Ziel gefunden ist oder keine weiteren unbesuchten offenen Zellen mehr vorhanden sind.\n",
    "  Wenn das Ziel nicht gefunden wird und keine weiteren Zellen zu erkunden sind, kehrt die Funktion zurück und signalisiert, dass kein Weg gefunden wurde. Die aufrufende Funktion probiert dann den nächsten möglichen Weg. Dieses Prinzip bezeichnet man auch als *Backtracking*, da so dem bisher erkundeten Pfad rückwärts gefolgt wird, bis man einen Punkt erreicht, an dem noch unerkundete Pfade abzweigen.\n",
    "\n",
    "  Bei Backtracking sollen Sie die Pfade, die bereits besucht wurden, aber nicht erfolgreich waren, gesondert mit `'X'` markiert werden. Diese Markierungen helfen zu visualisieren, welche Wege bereits untersucht wurden.\n",
    "  \n",
    "  Betreten Sie keine Wege, die mit `'X'` markiert wurden.\n",
    "  \n",
    "4. **Beendigung:**\n",
    "\n",
    "  Der Prozess endet, wenn entweder das Ziel gefunden wurde (Erfolg) oder alle möglichen Wege erkundet wurden, ohne das Ziel zu erreichen (Fehlschlag)."
   ]
  },
  {
   "cell_type": "markdown",
   "metadata": {
    "id": "WRqEMD-xji1X"
   },
   "source": [
    "#### Pseudocode\n",
    "Das folgende Code-Fragment illustriert den grundsätzlichen Ablauf.\n",
    "\n",
    "```python\n",
    "def dfs(maze, x, y, end_x, end_y, path):\n",
    "    # Überprüfe, ob die aktuelle Position außerhalb der Grenzen des Labyrinths liegt oder ob sie eine Wand ist, oder ob sie mit 'X' bereits markiert wurde\n",
    "        # Kein gültiger Zug => kehre zurück mit FALSCH\n",
    "        \n",
    "    # Überprüfe, ob die aktuelle Position das Ziel ist\n",
    "        # Füge die Zielposition zum Pfad hinzu\n",
    "        # Das Ziel wurde erreicht => kehre zurück mit WAHR\n",
    "        \n",
    "    # Überprüfe, ob die aktuelle Zelle schon Teil des Pfades ist oder als besucht markiert wurde mit '.' oder 'X'\n",
    "        # Die Zelle wurde bereits besucht => kehre zurück mit FALSCH\n",
    "        \n",
    "    # Markiere die aktuelle Zelle als besucht, indem du sie mit '.' markierst\n",
    "    # Füge die aktuelle Position zum Pfad hinzu\n",
    "    \n",
    "    # Rekursive DFS-Suche in alle vier Richtungen (unten, oben, rechts, links) // siehe 3.Rekursion und Backtracking\n",
    "        # Wenn einer der Aufrufe mit WAHR zurückkehrt, wurde ein zulässiger Weg gefunden => kehre zurück mit WAHR\n",
    "        \n",
    "    # Entferne die aktuelle Position vom Pfad\n",
    "    # Ersetzt die aktuelle Zelle mit 'X', um sie als Sackgasse zu markieren\n",
    "    # Kehre zurück mit FALSCH, da kein Pfad durch diese Zelle führt\n",
    "```"
   ]
  },
  {
   "cell_type": "markdown",
   "metadata": {
    "id": "U-DKs5Rojisc"
   },
   "source": [
    "## Aufgabenstellung"
   ]
  },
  {
   "cell_type": "markdown",
   "metadata": {
    "id": "VJf2BSdql6hQ"
   },
   "source": [
    "Implementieren Sie nur die Funktion **``dfs(maze, x, y, end_x, end_y, path)``**.\n",
    "\n",
    "Bitte ändern Sie den sonstigen Code nicht für die Abgabe.\n",
    "\n",
    "**Erklärung der Input-Parameter:**\n",
    "- **`maze`**: Eine Liste von Listen, die das Labyrinth darstellt (zu Erläuterung siehe oben).\n",
    "- **`x, y`**: Aktuelle Koordinaten im Labyrinth.\n",
    "- **`end_x, end_y`**: Zielkoordinaten.\n",
    "- **`path`**: Liste, die den Pfad speichert, der während der Suche gefunden wird."
   ]
  },
  {
   "cell_type": "markdown",
   "metadata": {
    "id": "USlw11rnpuuD"
   },
   "source": [
    "### Beispielhafte Manipulierung von Maze und Path (Optional)\n",
    "\n",
    "**``maze[x][y]``**: Gibt den Wert der Zelle an der Position (x, y) im Labyrinth zurück. Dieser Wert kann anzeigen, ob es sich um eine Wand (``'#'``), einen freien Weg (``' '``) oder einen besuchten Punkt mit (``'.'``) handelt.\n",
    "\n",
    "**``maze[x][y] = '.'``**: Setzt die Zelle an der Position (x, y) auf ``'.'``, was bedeutet, dass diese Zelle als bereits besuchte Zelle markiert wird.\n",
    "\n",
    "**``path.append((x, y))``**:  Fügt das Tupel (x, y), welches die aktuelle Position repräsentiert, zur Liste `path` hinzu. Dies dient dazu, den zurückgelegten Weg zu verfolgen.\n",
    "\n",
    "**``path.pop()``**:  Entfernt das zuletzt mit `append` hinzugefügte Element aus der Liste `path`. Dies wird typischerweise verwendet, um einen Schritt im Pfad rückgängig zu machen, wenn ein Rückzug (Backtracking) stattfindet, weil kein weiterer Fortschritt möglich ist.\n",
    "\n",
    "**``len(maze)``**: gibt die Anzahl der Zeilen im Labyrinth zurück. Kann verwendet werden, um zu überprüfen, ob sich ``x`` innerhalb des Labyrinths befindet.\n",
    "\n",
    "**``len(maze[0])``**: gibt die Länge des ersten Elements in der Liste zurück. Kann verwendet werden, um zu überprüfen, ob sich ``y`` innerhalb des Labyrinths befindet."
   ]
  },
  {
   "cell_type": "markdown",
   "metadata": {
    "id": "tcDee8oSnQk0"
   },
   "source": [
    "### Ihre Aufgabe: DFS implementieren"
   ]
  },
  {
   "cell_type": "code",
   "execution_count": 6,
   "metadata": {
    "id": "pz9uxy5JlzlZ"
   },
   "outputs": [],
   "source": [
    "def dfs(maze, x, y, end_x, end_y, path):\n",
    "    if x > len(maze) or y > len(maze[0]) or maze[x][y] == \"X\" or maze[x][y] == \"#\":\n",
    "        return False\n",
    "    if x == end_x and y == end_y:\n",
    "        path.append((x,y))\n",
    "        return True\n",
    "    if (x,y) in path or maze[x][y]==\".\" or maze[x][y]==\"#\":\n",
    "        return False\n",
    "    maze[x][y]=\".\"\n",
    "    path.append((x,y))\n",
    "    if dfs(maze, x+1, y, end_x, end_y, path): return True\n",
    "    elif dfs(maze, x-1, y, end_x, end_y, path): return True\n",
    "    elif dfs(maze, x, y+1, end_x, end_y, path): return True\n",
    "    elif dfs(maze, x, y-1, end_x, end_y, path): return True\n",
    "    path.pop()\n",
    "    maze[x][y]=\"#\"\n",
    "    return False\n",
    "\n"
   ]
  },
  {
   "cell_type": "markdown",
   "metadata": {
    "id": "suEpegxsnVFZ"
   },
   "source": [
    "### Vorgegebener Code (nicht ändern)"
   ]
  },
  {
   "cell_type": "code",
   "execution_count": 14,
   "metadata": {
    "colab": {
     "base_uri": "https://localhost:8080/",
     "height": 862
    },
    "id": "aUeqhskBnJYR",
    "outputId": "8a07effc-4346-44d1-b6af-924996247bc7"
   },
   "outputs": [
    {
     "name": "stdout",
     "output_type": "stream",
     "text": [
      "Kein Weg gefunden von (1, 15) nach (9, 17)\n",
      "Weg gefunden von (1, 2) nach (9, 17)\n"
     ]
    },
    {
     "data": {
      "image/png": "[encoded data removed]",
      "text/plain": [
       "<Figure size 1000x500 with 1 Axes>"
      ]
     },
     "metadata": {},
     "output_type": "display_data"
    }
   ],
   "source": [
    "import matplotlib.pyplot as plt\n",
    "import numpy as np\n",
    "from matplotlib.colors import ListedColormap\n",
    "\n",
    "def print_maze(maze, start, end):\n",
    "    color_map = {'#': 0, ' ': 1, '.': 2, 'S': 3, 'E': 4, 'X': 5}\n",
    "    maze[start[0]][start[1]] = 'S'\n",
    "    maze[end[0]][end[1]] = 'E'\n",
    "    maze_color = np.array([[color_map[cell] for cell in row] for row in maze])\n",
    "    cmap = ListedColormap(['black', 'white', 'lime', 'blue', 'red', 'gray'])\n",
    "\n",
    "    plt.figure(figsize=(10, 5))\n",
    "    plt.imshow(maze_color, cmap=cmap, interpolation='nearest')\n",
    "    plt.xticks([]), plt.yticks([])\n",
    "    plt.show()\n",
    "\n",
    "# Gegebenes Labyrinth\n",
    "maze = [\n",
    "    \"######################\",\n",
    "    \"#       #           ##\",\n",
    "    \"# #### # ##### ##### #\",\n",
    "    \"#    # #     #     # #\",\n",
    "    \"# # ## # ### ##### # #\",\n",
    "    \"# # ## #     #     # #\",\n",
    "    \"# # ## ##### ####### #\",\n",
    "    \"# #           #      #\",\n",
    "    \"####### ########## ###\",\n",
    "    \"#                   ##\",\n",
    "    \"######################\"\n",
    "]\n",
    "\n",
    "# Definiert den Start- und Endpunkt\n",
    "maze = [list(row) for row in maze]\n",
    "starts_ends = [((1, 15), (9, 17)), ((1, 2), (9, 17))]\n",
    "\n",
    "# Prüft, ob ein Weg gefunden worden ist.\n",
    "for start, end in starts_ends:\n",
    "    path = []\n",
    "    if dfs(maze, *start, *end, path):\n",
    "        print(\"Weg gefunden von\", start, \"nach\", end)\n",
    "        print_maze(maze, start, end)\n",
    "    else:\n",
    "        print(\"Kein Weg gefunden von\", start, \"nach\", end)\n",
    "\n",
    "    # Labyrinth zurücksetzen\n",
    "    maze = [list(row) for row in [\n",
    "        \"######################\",\n",
    "        \"#       #           ##\",\n",
    "        \"# #### # ##### ##### #\",\n",
    "        \"#    # #     #     # #\",\n",
    "        \"# # ## # ### ##### # #\",\n",
    "        \"# # ## #     #     # #\",\n",
    "        \"# # ## ##### ####### #\",\n",
    "        \"# #           #      #\",\n",
    "        \"####### ########## ###\",\n",
    "        \"#                   ##\",\n",
    "        \"######################\"\n",
    "    ]]"
   ]
  },
  {
   "cell_type": "markdown",
   "metadata": {
    "id": "3zX9gXrh0H5k"
   },
   "source": [
    "### Testfunktion (nicht ändern)"
   ]
  },
  {
   "cell_type": "code",
   "execution_count": 4,
   "metadata": {
    "colab": {
     "base_uri": "https://localhost:8080/"
    },
    "id": "5laB_KRu0Hkp",
    "outputId": "b7c9635e-9392-4a41-cd5b-64773c053641"
   },
   "outputs": [
    {
     "name": "stdout",
     "output_type": "stream",
     "text": [
      "Path from (1, 1) to (13, 13) found: True\n",
      "Path from (1, 13) to (13, 1) found: True\n",
      "Path from (1, 1) to (13, 13) found: True\n",
      "Path from (1, 13) to (13, 1) found: True\n"
     ]
    }
   ],
   "source": [
    "def test_mazes(mazes, starts_ends_list):\n",
    "    results = []\n",
    "    for maze, starts_ends in zip(mazes, starts_ends_list):\n",
    "        original_maze = [list(row) for row in maze]\n",
    "        for start, end in starts_ends:\n",
    "            path = []\n",
    "            maze = [row[:] for row in original_maze]\n",
    "            if dfs(maze, *start, *end, path):\n",
    "                results.append((start, end, True))\n",
    "            else:\n",
    "                results.append((start, end, False))\n",
    "    return results\n",
    "\n",
    "mazes = [\n",
    "    [\n",
    "        \"###############\",\n",
    "        \"#             #\",\n",
    "        \"# ##### #######\",\n",
    "        \"# #   #       #\",\n",
    "        \"# # # ####### #\",\n",
    "        \"# # #       # #\",\n",
    "        \"# # ####### # #\",\n",
    "        \"# #       # # #\",\n",
    "        \"# ######### # #\",\n",
    "        \"#           # #\",\n",
    "        \"# ########### #\",\n",
    "        \"#             #\",\n",
    "        \"# #############\",\n",
    "        \"#             #\",\n",
    "        \"###############\"\n",
    "    ],\n",
    "    [\n",
    "        \"###############\",\n",
    "        \"#             #\",\n",
    "        \"# ##### ##### #\",\n",
    "        \"# #   #     # #\",\n",
    "        \"# # ### ### # #\",\n",
    "        \"# # #       # #\",\n",
    "        \"# # # ##### # #\",\n",
    "        \"# # # #   # # #\",\n",
    "        \"# # # # # ### #\",\n",
    "        \"# # # # #     #\",\n",
    "        \"# # # # #######\",\n",
    "        \"# #     #     #\",\n",
    "        \"# ########### #\",\n",
    "        \"#             #\",\n",
    "        \"###############\"\n",
    "    ]\n",
    "]\n",
    "\n",
    "starts_ends_list = [\n",
    "    [((1, 1), (13, 13)), ((1, 13), (13, 1))],\n",
    "    [((1, 1), (13, 13)), ((1, 13), (13, 1))]\n",
    "]\n",
    "\n",
    "test_results = test_mazes(mazes, starts_ends_list)\n",
    "\n",
    "for result in test_results:\n",
    "    print(f\"Path from {result[0]} to {result[1]} found: {result[2]}\")\n",
    "    "
   ]
  }
 ],
 "metadata": {
  "colab": {
   "provenance": []
  },
  "kernelspec": {
   "display_name": "Python 3 (ipykernel)",
   "language": "python",
   "name": "python3"
  },
  "language_info": {
   "codemirror_mode": {
    "name": "ipython",
    "version": 3
   },
   "file_extension": ".py",
   "mimetype": "text/x-python",
   "name": "python",
   "nbconvert_exporter": "python",
   "pygments_lexer": "ipython3",
   "version": "3.11.6"
  }
 },
 "nbformat": 4,
 "nbformat_minor": 4
}
