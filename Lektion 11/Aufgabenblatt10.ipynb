{
 "cells": [
  {
   "cell_type": "markdown",
   "metadata": {
    "id": "B-nBzDvXVeEG"
   },
   "source": [
    "# Tutorium Programmieren (Prof. Dr. Ralf Gerlich)\n",
    "# Aufgabenblatt 10: Personaldatenbank (Fortsetzung)\n",
    "**Hinweis**: Für dieses Aufgabenblatts benötigen Sie Ihre Lösung vom vorangegangenen Aufgabenblatt als Grundlage. Die Lösungen der Aufgaben in diesem Aufgabenblatt werden im folgenden Aufgabenblatt erweitert."
   ]
  },
  {
   "cell_type": "markdown",
   "metadata": {},
   "source": [
    "## Einleitung: Sortieren von Listen"
   ]
  },
  {
   "cell_type": "markdown",
   "metadata": {},
   "source": [
    "Die Funktion `sorted` erwartet eine Sequenz von Einträgen und liefert eine Liste zurück, die die Einträge in sortierter Reihenfolge enthält.\n",
    "\n",
    "Probieren Sie es selbst:"
   ]
  },
  {
   "cell_type": "code",
   "execution_count": 1,
   "metadata": {},
   "outputs": [
    {
     "data": {
      "text/plain": [
       "[2, 3, 5, 7, 19]"
      ]
     },
     "execution_count": 1,
     "metadata": {},
     "output_type": "execute_result"
    }
   ],
   "source": [
    "l = [5,2,7,19,3]\n",
    "sorted(l)"
   ]
  },
  {
   "cell_type": "markdown",
   "metadata": {},
   "source": [
    "Auch eine umgekehrte Sortierung ist durch Angabe von `reverse=True` möglich:"
   ]
  },
  {
   "cell_type": "code",
   "execution_count": 12,
   "metadata": {},
   "outputs": [
    {
     "data": {
      "text/plain": [
       "[19, 7, 5, 3, 2]"
      ]
     },
     "execution_count": 12,
     "metadata": {},
     "output_type": "execute_result"
    }
   ],
   "source": [
    "l = [5,2,7,19,3]\n",
    "sorted(l, reverse=True)"
   ]
  },
  {
   "cell_type": "markdown",
   "metadata": {},
   "source": [
    "`sorted` nutzt dabei standardmäßig den `<=`-Operator, um die Objekte miteinander zu vergleichen. Steht ein solcher für die zu sortierenden Objekte nicht zur Verfügung oder soll eine andere als die standardmäßige Sortierung verwendet werden, so kann eine `key`-Funktion angegeben werden, die ein Objekt zurückliefert, nach dem sortiert werden soll.\n",
    "\n",
    "Beispiel: Wir wollen Winkel nach ihrem Sinus-Wert sortieren:"
   ]
  },
  {
   "cell_type": "code",
   "execution_count": 6,
   "metadata": {},
   "outputs": [
    {
     "data": {
      "text/plain": [
       "[4.71238898038469, 0, 1.5707963267948966]"
      ]
     },
     "execution_count": 6,
     "metadata": {},
     "output_type": "execute_result"
    }
   ],
   "source": [
    "from math import pi, sin\n",
    "angles = [pi/2, 0, 3*pi/2]\n",
    "sorted(angles, key=sin)"
   ]
  },
  {
   "cell_type": "markdown",
   "metadata": {},
   "source": [
    "Klassenmethoden können auch als Sortierfunktionen verwendet werden:"
   ]
  },
  {
   "cell_type": "code",
   "execution_count": 11,
   "metadata": {},
   "outputs": [
    {
     "data": {
      "text/plain": [
       "[Vector(x=0, y=-1), Vector(x=1, y=1), Vector(x=2, y=0)]"
      ]
     },
     "execution_count": 11,
     "metadata": {},
     "output_type": "execute_result"
    }
   ],
   "source": [
    "from math import sqrt\n",
    "class Vector:\n",
    "    def __init__(self, x, y):\n",
    "        self.x = x\n",
    "        self.y = y\n",
    "\n",
    "    def length(self):\n",
    "        return sqrt(self.x**2+self.y**2)\n",
    "\n",
    "    def __repr__(self):\n",
    "        return f\"Vector(x={self.x}, y={self.y})\"\n",
    "\n",
    "vectors = [Vector(1,1), Vector(2,0), Vector(0,-1)]\n",
    "sorted(vectors, key=Vector.length)"
   ]
  },
  {
   "cell_type": "markdown",
   "metadata": {},
   "source": [
    "## Aufgabe 1: Nächster Geburtstag\n",
    "Ergänzen Sie die Klasse `Person` um eine Funktion `nächster_geburtstag`. Diese soll das Datum zurückliefern, an dem die Person zum nächsten Mal Geburtstag hat.\n",
    "\n",
    "**Hinweise**:\n",
    "- Um das heutige Datum zu ermitteln, können Sie die [Funktion `date.today()` aus der `datetime`-Bibliothek](https://docs.python.org/3/library/datetime.html#datetime.date.today) verwenden.\n",
    "- `date`-Objekte können direkt per Vergleichsoperatoren `<`,  `<=`,  `>=` und `>` sowie `==` und `!=` miteinander verglichen werden. Dafür implementiert die Klasse `datetime.date` eine [Reihe von speziellen Methoden](https://docs.python.org/3/reference/datamodel.html#object.__lt__)."
   ]
  },
  {
   "cell_type": "markdown",
   "metadata": {},
   "source": [
    "## Aufgabe 2: Sortieren nach dem nächsten Geburtstag"
   ]
  },
  {
   "cell_type": "markdown",
   "metadata": {},
   "source": [
    "Ergänzen Sie die Klasse `Personendatenbank` um eine Funktion `nächste_geburtstage`. Diese soll die Liste aller Personen zurückliefern, aber aufsteigend nach dem nächsten Geburtstag sortiert.\n",
    "\n",
    "Ergänzen Sie dann Ihr Programm aus dem letzten Arbeitsblatt um eine Menüoption, mit der die fünf Personen ausgegeben werden können, die als nächstes Geburtstag haben. Die Reihenfolge soll dabei der Reihenfolge der Geburtstage entsprechen. Geben Sie zusätzlich das Alter aus, dass die Personen zu diesem Zeitpunkt erreicht haben werden.\n",
    "\n",
    "Berücksichtigen Sie auch den Fall, in dem weniger als fünf Personen in Ihrer Datenbank enthalten sind."
   ]
  },
  {
   "cell_type": "markdown",
   "metadata": {},
   "source": [
    "## Aufgabe 3: Auszug aus Jupyter\n",
    "Setzen Sie ein Projekt in PyCharm auf, in dem Ihr Personaldatenbank-Programm auch außerhalb von Jupyter ausgeführt werden kann. Lagern Sie die Klassen dabei in ein Modul `personendatenbank` aus. Das Hauptprogramm soll in einem gesonderten Modul `hauptprogramm` enthalten sein.\n",
    "\n",
    "Testen Sie, ob Ihr Programm noch korrekt funktioniert."
   ]
  }
 ],
 "metadata": {
  "colab": {
   "provenance": []
  },
  "kernelspec": {
   "display_name": "Python 3 (ipykernel)",
   "language": "python",
   "name": "python3"
  },
  "language_info": {
   "codemirror_mode": {
    "name": "ipython",
    "version": 3
   },
   "file_extension": ".py",
   "mimetype": "text/x-python",
   "name": "python",
   "nbconvert_exporter": "python",
   "pygments_lexer": "ipython3",
   "version": "3.12.2"
  }
 },
 "nbformat": 4,
 "nbformat_minor": 4
}
