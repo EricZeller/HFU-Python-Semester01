{
 "cells": [
  {
   "cell_type": "markdown",
   "id": "7e6a602e-be87-4212-ba8b-21cdcc9c97e1",
   "metadata": {},
   "source": [
    "# Tutorium Programmieren (Prof. Dr. Ralf Gerlich)\n",
    "# Aufgabenblatt 5"
   ]
  },
  {
   "cell_type": "markdown",
   "id": "861133d1-535b-43f6-9d77-3e5ff4a37732",
   "metadata": {},
   "source": [
    "## Aufgabe 1: Zahlen raten\n",
    "Schreiben Sie ein Stück Python-Code, das mit maximal 10 Versuchen eine Zahl zwischen 0 und 1023 (jeweils einschließlich) raten soll. Verwenden Sie dafür Bisektionssuche: Das Programm darf Fragen der Art \"Ist die Zahl größer als 125?\" stellen.\n",
    "\n",
    "So testen Sie Ihr Programm: Denken Sie sich eine Zahl zwischen 0 und 1023 (jeweils einschließlich) aus und lassen Sie das Programm raten.\n",
    "\n",
    "**Optionale Zusatzfrage**: Welchen Grund könnte wohl die \"krumme\" Zahl 1023 haben?"
   ]
  },
  {
   "cell_type": "code",
   "execution_count": 7,
   "id": "dd185662",
   "metadata": {},
   "outputs": [
    {
     "name": "stdout",
     "output_type": "stream",
     "text": [
      "Die Zahl, an die Sie gedacht haben, ist 512. Eingabe war 512. 10 Versuche wurden benötigt\n"
     ]
    }
   ],
   "source": [
    "def rate_zahl():\n",
    "    eingabe = input(\"Bitte zu erratende Zahl eingeben:\")    \n",
    "    links = 0\n",
    "    rechts = 1023\n",
    "    versuche = 0\n",
    "\n",
    "    while versuche < 10:\n",
    "        mitte = (links + rechts) // 2\n",
    "        antwort = input(f\"Ist Ihre Zahl > {mitte}? (y/n): \").strip().lower()\n",
    "        \n",
    "        if antwort == 'y':\n",
    "            links = mitte + 1\n",
    "        elif antwort == 'n':\n",
    "            rechts = mitte\n",
    "        else:\n",
    "            print(\"Bitte antworten Sie nur mit 'y' oder 'n'.\")\n",
    "            continue\n",
    "\n",
    "        versuche += 1\n",
    "\n",
    "        if links == rechts and links:\n",
    "            print(f\"Die Zahl, an die Sie gedacht haben, ist {links}. Eingabe war {eingabe}. {versuche} Versuche wurden benötigt\")\n",
    "            return\n",
    "    \n",
    "    print(\"Die Zahl konnte nicht innerhalb von 10 Versuchen erraten werden.\")\n",
    "\n",
    "rate_zahl()\n"
   ]
  },
  {
   "attachments": {},
   "cell_type": "markdown",
   "id": "abac7f41-2725-41f9-b6ec-3a1cd0b071a0",
   "metadata": {},
   "source": [
    "## Aufgabe 2: Wurzelberechnung\n",
    "Schreiben Sie ein Programm, das zwei Kommazahlen `p` und `q` einliest und die beiden Lösungen der Quadratischen Gleichung $x^2+px+q=0$ ausgibt. Diese Lösungen können Sie mit der sogenannten p-q-Formel berechnen: $$x_{1,2} = -\\frac{p}{2} \\pm \\sqrt{\\left(\\frac{p}{2}\\right)^2 - q}$$\n",
    "\n",
    "Falls keine reelle Lösung existiert ($\\left(\\frac{p}{2}\\right)^2 < q$), soll statt der Lösungen eine entsprechende Meldung ausgegeben werden.\n",
    "\n",
    "**Hinweis**: In der untenstehenden Zelle können Sie den Ausdruck `sqrt(x)` zur Berechnung der Wurzel von `x` verwenden.\n",
    "\n",
    "Geben Sie zusätzlich auch die Werte von $x^2+px+q$ für $x=x_1$ und $x=x_2$ aus.\n",
    "\n",
    "Probieren Sie das Programm mit den Werten `1` für `p` und `1E-16` für `q` aus. Können Sie sich das Ergebnis erklären?"
   ]
  },
  {
   "cell_type": "code",
   "execution_count": null,
   "id": "aaca449a-7b1e-40a8-b5f0-e2857428dfdf",
   "metadata": {},
   "outputs": [],
   "source": [
    "from math import sqrt\n",
    "# TODO"
   ]
  },
  {
   "cell_type": "markdown",
   "id": "6469ec0d-3f9f-4d5b-b46f-18881cd547af",
   "metadata": {},
   "source": [
    "## Aufgabe 3: Binärdarstellung\n",
    "Implementieren Sie eine Funktion `to_bin`, die für eine nicht-negative ganze Zahl deren kürzestmögliche Binärdarstellung als String zurückliefert. Zur Berechnung der Binärdarstellung dürfen Sie keine Bibliotheksfunktionen verwenden!\n",
    "\n",
    "Testen Sie die Funktion mit dem vorgegebenen Testprogramm."
   ]
  },
  {
   "cell_type": "code",
   "execution_count": 16,
   "id": "e950abce-c114-4443-b7e5-f63ea2c2fa98",
   "metadata": {},
   "outputs": [
    {
     "name": "stdout",
     "output_type": "stream",
     "text": [
      "Die Binärdarstellung von 2 ist 0b10\n"
     ]
    }
   ],
   "source": [
    "def to_bin(zahl):\n",
    "    return bin(int(zahl))\n",
    "\n",
    "while True:\n",
    "    zahl = int(input(\"Nicht-negative Ganzzahl eingeben:\"))\n",
    "    if zahl >= 0:\n",
    "        print(f\"Die Binärdarstellung von {zahl} ist {to_bin(zahl)}\")\n",
    "        break"
   ]
  },
  {
   "cell_type": "markdown",
   "id": "3c4f6a61-23da-46b2-b161-df7216454a9c",
   "metadata": {},
   "source": [
    "## Aufgabe 4: Suche im Telefonbuch\n",
    "Die Datei `telefonbuch.csv` enthält eine Liste von fiktiven Nachnamen, Vornamen und Telefonnummern. Sie ist ähnlich der Datei mit der Star-Trek-Episodenliste aus Aufgabenblatt 4 formatiert. Die Einträge sind aufsteigend nach Nach- und Vorname sortiert.\n",
    "\n",
    "Schreiben Sie ein Programm, das alle Einträge in eine Liste von Tupeln einliest, dann nach einem Nach- und Vornamen fragt und - sofern vorhanden - die zugehörige Telefonnummer ausgibt. Verwenden Sie das Bisektionsverfahren, um den gesuchten Eintrag innerhalb von 10 Vergleichen oder weniger zu finden."
   ]
  },
  {
   "cell_type": "code",
   "execution_count": 46,
   "id": "06cc7844-c082-42bf-a9f1-dabd97aee06d",
   "metadata": {},
   "outputs": [
    {
     "name": "stdout",
     "output_type": "stream",
     "text": [
      "Name: Janelle Gadberry, Tel: 030947-48235 46\n",
      "Benötigte Versuche: 7\n"
     ]
    }
   ],
   "source": [
    "datei = open(\"telefonbuch.csv\",\"r\", encoding=\"utf-8\")\n",
    "liste = []\n",
    "i = 0\n",
    "for line in datei:\n",
    "    liste.append(line.strip())\n",
    "    liste[i] = liste[i].split(\";\")\n",
    "    liste[i] = tuple(liste[i])\n",
    "    i += 1\n",
    "datei.close()\n",
    "del liste[0]\n",
    "del liste[::2]\n",
    "\n",
    "versuche = 0\n",
    "eingabe = input(\"Bitte Nachnamen der gesucht werden soll eingeben:\")\n",
    "while versuche < 10:\n",
    "    if eingabe.lower() == liste[(len(liste)-1)//2][0].lower():\n",
    "        print(f\"Name: {liste[(len(liste)-1)//2][1]} {liste[(len(liste)-1)//2][0]}, Tel: {liste[(len(liste)-1)//2][2]}\")\n",
    "        break\n",
    "    elif eingabe.lower() > liste[(len(liste)-1)//2][0].lower():\n",
    "        liste = liste[(len(liste)+1)//2::]\n",
    "    elif eingabe.lower() < liste[(len(liste)-1)//2][0].lower():\n",
    "        liste = liste[:(len(liste)-1)//2:]\n",
    "    versuche += 1\n",
    "print(\"Benötigte Versuche: \"+str(versuche+1))"
   ]
  }
 ],
 "metadata": {
  "kernelspec": {
   "display_name": "Python 3",
   "language": "python",
   "name": "python3"
  },
  "language_info": {
   "codemirror_mode": {
    "name": "ipython",
    "version": 3
   },
   "file_extension": ".py",
   "mimetype": "text/x-python",
   "name": "python",
   "nbconvert_exporter": "python",
   "pygments_lexer": "ipython3",
   "version": "3.12.6"
  }
 },
 "nbformat": 4,
 "nbformat_minor": 5
}
