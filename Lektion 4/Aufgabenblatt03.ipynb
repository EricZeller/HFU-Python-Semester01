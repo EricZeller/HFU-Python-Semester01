{
 "cells": [
  {
   "cell_type": "markdown",
   "id": "7e6a602e-be87-4212-ba8b-21cdcc9c97e1",
   "metadata": {},
   "source": [
    "# Tutorium Programmieren (Prof. Dr. Ralf Gerlich)\n",
    "# Aufgabenblatt 3"
   ]
  },
  {
   "cell_type": "markdown",
   "id": "c99f7979-faa0-4636-a5d5-4f98e43b8c05",
   "metadata": {},
   "source": [
    "## Aufgabe 1: Vektorfunktionen\n",
    "Wir repräsentieren Vektoren im mehrdimensionalen Raum als Tupel. So können wir zum Beispiel `(1.0, 2.5, 3.0)` als dreidimensionalen Vektor interpretieren.\n",
    "\n",
    "Implementieren Sie die folgenden Vektorfunktionen:\n",
    "* `vektor_summe`: `vektor_summe(a,b)` soll die Summe der Vektoren `a` und `b` zurückliefern\n",
    "* `skalar_produkt`: `skalar_produkt(a,b)` soll das Skalarprodukt der Vektoren `a` und `b` zurückliefern\n",
    "* `skaliere`: `skaliere(k, a)` soll den Vektor `a` skaliert um den Faktor `k` zurückgeben\n",
    "\n",
    "Zur Erinnerung:\n",
    "* Die Summe von Vektoren ist ein Vektor, dessen Elemente die Summe der einzelnen Elemente sind (z.B. `(ax, ay, az)+(bx, by, bz)=(ax+bx, ay+by, az+bz)`.\n",
    "* Das Skalarprodukt zweier Vektoren ist die Summe der paarweisen Produkte der Elemente (z.B. `(ax, ay) * (bx, by) = ax*bx + ay*by`.\n",
    "* Ein Vektor wird um den Faktor `k` skaliert, indem seine Elemente mit `k` multipliziert werden."
   ]
  },
  {
   "cell_type": "code",
   "execution_count": null,
   "id": "cb3f17f3-1460-4914-a7a1-5c0377c715a9",
   "metadata": {},
   "outputs": [
    {
     "name": "stdout",
     "output_type": "stream",
     "text": [
      "(2, 4, 9)\n"
     ]
    }
   ],
   "source": [
    "def vektor_summe(a, b):\n",
    "    ax, ay, az = a\n",
    "    bx, by, bz = b\n",
    "    return (ax+bx,ay+by,az+bz)\n",
    "#print(vektor_summe((1,2,3),(1,2,3)))"
   ]
  },
  {
   "cell_type": "code",
   "execution_count": null,
   "id": "c21863c7-5f23-470a-9b41-be906957d452",
   "metadata": {},
   "outputs": [
    {
     "name": "stdout",
     "output_type": "stream",
     "text": [
      "(1, 4, 9)\n"
     ]
    }
   ],
   "source": [
    "def skalar_produkt(a, b):\n",
    "    ax, ay, az = a\n",
    "    bx, by, bz = b\n",
    "    return (ax*bx,ay*by,az*bz)\n",
    "#print(skalar_produkt((1,2,3),(1,2,3)))"
   ]
  },
  {
   "cell_type": "code",
   "execution_count": null,
   "id": "201a753e-d0ee-4716-80e8-b6aef1a90fb5",
   "metadata": {},
   "outputs": [
    {
     "name": "stdout",
     "output_type": "stream",
     "text": [
      "(4, 8, 12)\n"
     ]
    }
   ],
   "source": [
    "def skaliere(k, a):\n",
    "    ax, ay, az = a\n",
    "    return (k*ax, k*ay, k*az)\n",
    "\n",
    "print(skaliere(2,(1,2,3)))"
   ]
  },
  {
   "cell_type": "markdown",
   "id": "6d768d7a-755b-44a3-b65b-e3c770f665bb",
   "metadata": {},
   "source": [
    "## Aufgabe 2: Analyse von Funktionen\n",
    "Im Folgenden wird Ihnen der Code einiger Funktionen präsentiert.\n",
    "Finden Sie heraus, was die Funktion tut, und beschreiben Sie dies mit Ihren eigenen(!) Worten."
   ]
  },
  {
   "cell_type": "markdown",
   "id": "ab5e5596-54e5-4d8c-a103-d2b4c9125da1",
   "metadata": {},
   "source": [
    "### Funktion 1\n",
    "```python\n",
    "def fn_a(x):\n",
    "    result = x[0]\n",
    "    for i in x[1:]:\n",
    "        if i > result:\n",
    "            result = i\n",
    "    return result\n",
    "\n",
    "```"
   ]
  },
  {
   "cell_type": "markdown",
   "id": "74373743-c4b9-47f6-8383-0b41cfc372e2",
   "metadata": {},
   "source": [
    "Welche Aufgabe erfüllt diese Funktion?\n",
    "**-> es wird der größte Wert in der übergebenen Liste gesucht und zurückgegeben**"
   ]
  },
  {
   "cell_type": "markdown",
   "id": "2a833478-382a-4502-8085-6b9df4ad9048",
   "metadata": {},
   "source": [
    "### Funktion 2\n",
    "```python\n",
    "def fn_b(liste):\n",
    "    x = 0\n",
    "    for num in liste:\n",
    "        x += num\n",
    "    return x / len(liste)\n",
    "```"
   ]
  },
  {
   "cell_type": "markdown",
   "id": "f2bf7db2-33e4-4abe-a9d0-bfcbef762d66",
   "metadata": {},
   "source": [
    "Welche Aufgabe erfüllt diese Funktion? **-> der Mittelwert der in der übergebenen Liste gespeicherten Werte wird durch hochaddieren und Teilen durch die Listenlänge berechnet und zurückgegeben**"
   ]
  },
  {
   "cell_type": "markdown",
   "id": "ecc8adbd-7ef3-439d-840d-e6fc38cdd073",
   "metadata": {},
   "source": [
    "### Funktion 3\n",
    "```python\n",
    "def fn_c(s):\n",
    "    return s[::-1]\n",
    "```"
   ]
  },
  {
   "cell_type": "markdown",
   "id": "90e72a15-bd95-4321-9b87-be6b0a7b0beb",
   "metadata": {},
   "source": [
    "Welche Aufgabe erfüllt diese Funktion? **-> die übergebene Liste wird \"umgedreht\", also das letzte Element wird das erste sein in der neuen zurückgegebenen Liste**"
   ]
  },
  {
   "cell_type": "markdown",
   "id": "9c0b2d4e-a529-42db-b506-3d26f94a18eb",
   "metadata": {},
   "source": [
    "### Funktion 4\n",
    "```python\n",
    "def fn_d(l):\n",
    "    liste = []\n",
    "    for i in range(len(l)):\n",
    "        if i % 2 == 0:\n",
    "            liste.append(l[i])\n",
    "    return liste\n",
    "```"
   ]
  },
  {
   "cell_type": "markdown",
   "id": "d73b245b-af2f-4382-a748-beadbac90b56",
   "metadata": {},
   "source": [
    "Welche Aufgabe erfüllt diese Funktion? **-> sie gibt nur die Werte, die sich an geraden Indizes in der übergegebenen Liste befinden, in einer neuen Liste, zurück**"
   ]
  },
  {
   "cell_type": "markdown",
   "id": "9a9d5e00-bc7a-46fb-9c2f-c4e51102fa1e",
   "metadata": {},
   "source": [
    "### Funktion 5\n",
    "```python\n",
    "def fn_e(s, t):\n",
    "    u = \"\"\n",
    "    for char in s:\n",
    "        if char in t:\n",
    "            u = u + char\n",
    "    return u\n",
    "```"
   ]
  },
  {
   "cell_type": "markdown",
   "id": "211d17bb-0144-428b-a1d2-cbf931a00345",
   "metadata": {},
   "source": [
    "Welche Aufgabe erfüllt diese Funktion? **-> es bildet die \"Schnittmenge\" der beiden Strings s und t, und gibt diese in einem String zurück**"
   ]
  },
  {
   "cell_type": "markdown",
   "id": "2ad19cc6-488a-4717-a7c7-9a3969282a0c",
   "metadata": {},
   "source": [
    "## Aufgabe 3: Passwörter prüfen\n",
    "Viele Institutionen haben heutzutage Richtlinien für die Auswahl von Passwörtern.\n",
    "\n",
    "Implementieren Sie die Funktion `valid_password`. Der Rückgabewert von `valid_password(s)` soll genau dann `True` sein, wenn **alle** der folgenden Bedingungen erfüllt sind:\n",
    "\n",
    "* Das Passwort besteht aus mindestens 8 Zeichen.\n",
    "* Es enthält mindestens einen Großbuchstaben.\n",
    "* Es enthält mindestens einen Kleinbuchstaben.\n",
    "* Es enthält mindestens eine Ziffer.\n",
    "* Es enthält mindestens eines der Zeichen `+`, `-`, `*`, `!`, `$`.\n",
    "\n",
    "Ist eine der Bedingungen nicht erfüllt, soll die Funktion `False` zurückgeben.\n",
    "\n",
    "Prüfen Sie Ihre Funktion mit dem unten angegebenen Code."
   ]
  },
  {
   "cell_type": "code",
   "execution_count": 21,
   "id": "0b42bfa3-a31e-4337-abb6-1161f7bdd3ea",
   "metadata": {},
   "outputs": [
    {
     "name": "stdout",
     "output_type": "stream",
     "text": [
      "Dies ist ein unzulässiges Passwort\n"
     ]
    }
   ],
   "source": [
    "def valid_password(s):\n",
    "    kleinbuchstaben = False\n",
    "    grossbuchstabe = False\n",
    "    ziffer = False\n",
    "    sonderzeichen = False\n",
    "    if len(s) >= 8:\n",
    "        for i in s:\n",
    "            if i.isupper():\n",
    "                kleinbuchstaben = True\n",
    "            if i.islower():\n",
    "                grossbuchstabe = True\n",
    "            if i.isnumeric():\n",
    "                ziffer = True\n",
    "            if i in (\"+\",\"-\",\"*\",\"!\",\"$\"):\n",
    "                sonderzeichen = True\n",
    "        if kleinbuchstaben and grossbuchstabe and ziffer and sonderzeichen:\n",
    "            return True\n",
    "        else: return False\n",
    "    else: return False\n",
    "\n",
    "from getpass import getpass\n",
    "password = getpass()\n",
    "if valid_password(password):\n",
    "    print(\"Dies ist ein zulässiges Passwort\")\n",
    "else:\n",
    "    print(\"Dies ist ein unzulässiges Passwort\")"
   ]
  },
  {
   "cell_type": "markdown",
   "id": "99ac0974-1718-449a-be45-26b71261947a",
   "metadata": {},
   "source": [
    "## Aufgabe 4: EAN-13 oder ISBN-13 prüfen\n",
    "Bücher und andere Waren werden häufig mit Artikelnummern ausgezeichnet. Häufig werden dafür die Systeme ISBN (International Standard Book Number) oder EAN (European Article Number) verwendet.\n",
    "\n",
    "Die Spezialformen EAN-13 und ISBN-13 bestehen jeweils aus 13 Ziffern, wobei nicht alle dieser Ziffern frei wählbar sind. Vielmehr gibt es einen Test, mit dem sich prüfen lässt, ob eine bestimmte Ziffernfolge eine valide EAN-13 oder ISBN-13 ist:\n",
    "\n",
    "1. Multiplizieren Sie jede Ziffer der Nummer abwechselnd mit 1 und 3, beginnend mit 1 für die erste Ziffer.\n",
    "2. Addieren Sie alle Ergebnisse dieser Multiplikationen.\n",
    "3. Wenn die resultierende Summe durch 10 teilbar ist, dann ist die Nummer gültig. Andernfalls ist sie ungültig.\n",
    "\n",
    "Implementieren Sie eine Funktion `validate_code(code)`, die einen String `code` mit genau 13 Ziffern nimmt und prüft, ob es sich um eine gültige ISBN-13 oder EAN-13 Nummer handelt. Die Funktion soll `True` zurückgeben, wenn die Nummer gültig ist, und `False`, wenn sie ungültig ist.\n",
    "\n",
    "Testen Sie die Funktion mit einer ISBN-13 oder einer EAN-13 eines Buchs oder Artikels in Ihrem Umfeld (z.B. Ihrer Trinkflasche). Modifizieren Sie eine Ziffer des Codes und prüfen Sie, ob der so veränderte Code als invalide erkannt wird.\n",
    "\n",
    "### Hinweis zur Implementierung\n",
    "\n",
    "Verwenden Sie eine `for`-Schleife, um über die Ziffern des Codes zu iterieren, und bedenken Sie, dass Sie Ziffern eines Strings direkt in Integer umwandeln können, um die Berechnungen durchzuführen."
   ]
  },
  {
   "cell_type": "code",
   "execution_count": 7,
   "id": "a8a0e18c-ce1b-454d-bec6-6e176efbb211",
   "metadata": {},
   "outputs": [
    {
     "name": "stdout",
     "output_type": "stream",
     "text": [
      "Dieser Code ist valide\n"
     ]
    }
   ],
   "source": [
    "def validate_code(code):\n",
    "    i = 0\n",
    "    sum = 0\n",
    "    if len(code) != 13 or not(code.isnumeric): return False\n",
    "    for char in code:\n",
    "        if i%2 == 1:\n",
    "            char = int(char) * 3\n",
    "        sum += int(char)\n",
    "        i += 1\n",
    "    if sum%10 == 0:\n",
    "        return True\n",
    "    else: return False\n",
    "            \n",
    "\n",
    "\n",
    "code = input(\"Geben Sie einen EAN-13- oder ISBN-13-Code ein:\")\n",
    "if validate_code(code):\n",
    "    print(\"Dieser Code ist valide\")\n",
    "else:\n",
    "    print(\"Dieser Code ist nicht valide\")"
   ]
  }
 ],
 "metadata": {
  "kernelspec": {
   "display_name": "Python 3",
   "language": "python",
   "name": "python3"
  },
  "language_info": {
   "codemirror_mode": {
    "name": "ipython",
    "version": 3
   },
   "file_extension": ".py",
   "mimetype": "text/x-python",
   "name": "python",
   "nbconvert_exporter": "python",
   "pygments_lexer": "ipython3",
   "version": "3.13.0"
  }
 },
 "nbformat": 4,
 "nbformat_minor": 5
}
