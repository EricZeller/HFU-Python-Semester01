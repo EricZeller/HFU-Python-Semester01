{
 "cells": [
  {
   "cell_type": "markdown",
   "metadata": {
    "id": "B-nBzDvXVeEG"
   },
   "source": [
    "# Tutorium Programmieren (Prof. Dr. Ralf Gerlich)\n",
    "# Aufgabenblatt 9: Personaldatenbank\n",
    "**Hinweis**: Die Lösungen der Aufgaben in diesem Aufgabenblatt werden im folgenden Aufgabenblatt erweitert."
   ]
  },
  {
   "cell_type": "markdown",
   "metadata": {},
   "source": [
    "Definieren Sie eine Klasse `Person` und eine Klasse `Personendatenbank` mit geeigneten Konstruktoren. Die Felder der Objekte dieser Klassen sollen mit der Notation `objekt.name` usw. lesbar, aber vor Schreibzugriff von außen geschützt sein.\n",
    "\n",
    "Eine Person soll einen Nach- und Vornamen sowie ein Geburtsdatum haben. Implementieren Sie eine Methode `__str__`, die einen String mit einer gefälligen Darstellung mit Name, Vorname und Geburtsdatum zurückliefert. Für das Datum nutzen Sie die [Klasse `date` aus der `datetime`-Bibliothek](https://docs.python.org/3/library/datetime.html#datetime.date).\n",
    "\n",
    "Eine Personendatenbank soll eine Liste von Personen enthalten. Die Liste soll von außen les-, aber nicht schreibbar sein.\n",
    "\n",
    "Über die genannten Felder hinaus können Sie den Objekten zusätzliche Felder hinzufügen, die jedoch von außen nicht les- oder schreibbar sein dürfen.\n",
    "\n",
    "Implementieren Sie für die Personendatenbank die folgenden Methoden:\n",
    "- `leeren`: Leert die Liste der Personen.\n",
    "- `einfügen(person)`: Fügt das Personenobjekt `person` hinten an die Liste der Personen an. \n",
    "- `lade(datei)`: Fügt die Einträge aus dem Dateiobjekt `datei` der Datenbank hinzu.\n",
    "- `speichere(datei)`: Speichert alle Einträge in der Personendatenbank in das Dateiobjekt `datei`, und zwar so, dass sie mit `lade` wieder geladen werden können.\n",
    "- `findePerson(name, vorname)`: Liefert das Personenobjekt aus der Datenbank, dessen Name und Vorname den Strings `name` und `vorname` entsprechen. Wenn keine solche Person existiert, soll `None` zurückgegeben werden.\n",
    "\n",
    "Schreiben Sie in Jupyter ein Hauptprogramm, das die Verwaltung und Nutzung dieser Datenbank mit der folgenden Funktionalität erlaubt:\n",
    "- Datenbank laden\n",
    "- Datenbank speichern\n",
    "- Person hinzufügen\n",
    "- Person suchen\n",
    "\n",
    "Implementieren Sie eine Hauptschleife, das ein entsprechendes Menü präsentiert, nach einer Auswahl fragt und dann die entsprechende Funktionalität ausführt, mit allen erforderlichen Nachfragen beim Nutzer oder der Nutzerin.\n",
    "\n",
    "Testen Sie das Programm."
   ]
  },
  {
   "cell_type": "code",
   "execution_count": null,
   "metadata": {},
   "outputs": [],
   "source": []
  }
 ],
 "metadata": {
  "colab": {
   "provenance": []
  },
  "kernelspec": {
   "display_name": "Python 3 (ipykernel)",
   "language": "python",
   "name": "python3"
  },
  "language_info": {
   "codemirror_mode": {
    "name": "ipython",
    "version": 3
   },
   "file_extension": ".py",
   "mimetype": "text/x-python",
   "name": "python",
   "nbconvert_exporter": "python",
   "pygments_lexer": "ipython3",
   "version": "3.12.2"
  }
 },
 "nbformat": 4,
 "nbformat_minor": 4
}
