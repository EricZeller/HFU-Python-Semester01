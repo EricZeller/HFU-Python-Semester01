{
 "cells": [
  {
   "cell_type": "markdown",
   "id": "7e6a602e-be87-4212-ba8b-21cdcc9c97e1",
   "metadata": {},
   "source": [
    "# Tutorium Programmieren (Prof. Dr. Ralf Gerlich)\n",
    "# Aufgabenblatt 1"
   ]
  },
  {
   "cell_type": "markdown",
   "id": "f0ffdb5e-213b-4660-8e1d-62805a904a8b",
   "metadata": {},
   "source": [
    "## Aufgabe 1: Algorithmen\n",
    "Führen Sie das folgende Stück Code aus, indem Sie den Cursor auf die Zelle setzen und SHIFT+Return drücken. Das Codestück gibt eine Liste zufällig gewählter Zahlen zwischen 0 und 999 aus:"
   ]
  },
  {
   "cell_type": "code",
   "execution_count": 1,
   "id": "ba3d57d0-4458-4aa9-9775-01081d2377e0",
   "metadata": {},
   "outputs": [
    {
     "name": "stdout",
     "output_type": "stream",
     "text": [
      "[261, 406, 872, 197, 755, 91, 711, 511, 18, 35]\n"
     ]
    }
   ],
   "source": [
    "import random\n",
    "random.seed()\n",
    "numbers = [random.randint(0,999) for i in range(10)]\n",
    "print(numbers)"
   ]
  },
  {
   "cell_type": "markdown",
   "id": "903b6e3b-09fc-40e5-8a84-1b3b6f551906",
   "metadata": {},
   "source": [
    "Führen Sie den folgenden Algorithmus mit Hilfe eines Blatts Papier (oder in einem Texteditor) aus:\n",
    "1. Sei `L` die Liste der zu sortierenden Zahlen.\n",
    "2. Sei `S` eine leere Liste.\n",
    "3. Wenn `L` leer ist, beende das Verfahren.\n",
    "4. Finde die kleinste Zahl in `L`. Wir bezeichnen diese Zahl mit `n`.\n",
    "5. Entferne die Zahl `n` aus `L`. (Wenn Sie mehrfach vorkommt, entferne Sie nur einmal.)\n",
    "6. Füge `n` hinten an `S` an.\n",
    "7. Setze bei Schritt 3 fort."
   ]
  },
  {
   "cell_type": "markdown",
   "id": "af7434a1-cdef-440d-8717-bf8311f0c043",
   "metadata": {},
   "source": [
    "Wiederholen Sie dies mit dem folgenden Algorithmus:\n",
    "1. Sei `L` die Liste der zu sortierenden Zahlen.\n",
    "2. Sei `S` eine leere Liste.\n",
    "3. Wenn `L` leer ist, beende das Verfahren.\n",
    "4. Sei `n` die erste Zahl in `L`.\n",
    "5. Entferne die erste Zahl in `L`.\n",
    "6. Wenn `S` mindestens ein Element enthält. Finde die größte Zahl in `S`, die kleiner oder gleich `n` ist und füge `n` dahinter in `S` ein.\n",
    "7. Wenn `S` leer ist, füge `n` als einziges Element in `S` ein.\n",
    "8. Setze bei Schritt 3 fort."
   ]
  },
  {
   "cell_type": "markdown",
   "id": "be469f1c-5626-401e-884a-12bfd58c865f",
   "metadata": {},
   "source": [
    "Welches Problem lösen diese beiden Algorithmen?"
   ]
  },
  {
   "cell_type": "markdown",
   "id": "27677fcc-0290-4391-9a57-6f7292d3c814",
   "metadata": {
    "jp-MarkdownHeadingCollapsed": true
   },
   "source": [
    "## Aufgabe 2: Operationen\n",
    "Betrachten Sie die folgenden Python-Ausdrücke und bestimmen Sie zunächst ohne Hilfe des Computers ihren Wert und den Typ des Werts. Überprüfen Sie Ihr Ergebnis danach, indem Sie die Ausdrücke mit Python auswerten.\n",
    "\n",
    "* `-7 + 3 * 8`\n",
    "* `17 / (5/3) * 4`\n",
    "* `(9 + (3 - (2 + 3))) / 2`\n",
    "* `5**4/2`\n",
    "* `int(-5/2)`"
   ]
  },
  {
   "cell_type": "markdown",
   "id": "212f64ea-13ef-4b20-b803-4a848bf62ef6",
   "metadata": {},
   "source": [
    "## Aufgage 3: Fehlerkorrektur\n",
    "Korrigieren Sie die Syntaxfehler in den folgenden Codebeispielen. Versuchen Sie zunächst, den Fehler ohne Hilfe von Python zu finden, indem Sie den Code genau ansehen. Wenn Sie nicht weiterkommen, können Sie den Code von Python prüfen lassen, indem Sie ihn (mit STRG+Enter) ausführen.\n",
    "\n",
    "**Achtung**: Einige der Codebeispiele enthalten mehrere Fehler!"
   ]
  },
  {
   "cell_type": "code",
   "execution_count": null,
   "id": "e3ccd8d8-77ae-4b9e-8f42-2753cb95d3fd",
   "metadata": {},
   "outputs": [],
   "source": [
    "age = input(\"Wie alt bist du? \")\n",
    "if age => 18:\n",
    "    print(\"Du bist volljährig.\")\n",
    "else:\n",
    "    print(\"Du bist minderjährig.\")"
   ]
  },
  {
   "cell_type": "code",
   "execution_count": null,
   "id": "5e5cd64b-e3cf-41c3-a55d-7fe19906eec1",
   "metadata": {},
   "outputs": [],
   "source": [
    "x = 10\n",
    "if x = 10:\n",
    "    print(\"X ist 10\")\n",
    "else:\n",
    "    print(\"X ist nicht 10\")"
   ]
  },
  {
   "cell_type": "code",
   "execution_count": null,
   "id": "609d02a8-be2e-4253-9662-77673178948f",
   "metadata": {},
   "outputs": [],
   "source": [
    "x = 42\n",
    "\n",
    "if x > 42:\n",
    "print(\"X ist größer 42\")\n",
    "elif x < 42:\n",
    "print(\"X ist kleiner 42\")\n",
    "else:\n",
    "print(\"X gleich 42\")"
   ]
  },
  {
   "cell_type": "markdown",
   "id": "5e5e14ac-9dd2-4e6a-83ec-7a3d4f9f1df3",
   "metadata": {},
   "source": [
    "## Aufgabe 4: Palindrom\n",
    "Ein Wort ist ein Palindrom, wenn es vorwärts und rückwärts gelesen dasselbe ergibt. Beispiele sind \"Otto\", \"Anna\" oder \"Lagerregal\".\n",
    "\n",
    "Schreiben Sie in der folgenden Zelle ein Stück Python-Code, das\n",
    "* einen String einliest,\n",
    "* prüft, ob der String ein Palindrom ist, und\n",
    "* in menschenlesbarer Form ausgibt, ob der eingebenen String ein Palindrom ist, oder nicht.\n",
    "\n",
    "Beispiele:\n",
    "* Die Eingabe `Lagerregal` soll zur Ausgabe `'Lagerregal' ist ein Palindrom` führen.\n",
    "* Die Eingabe `Monat` soll zur Ausgabe `'Monat' ist kein Palindrom` führen."
   ]
  },
  {
   "cell_type": "code",
   "execution_count": null,
   "id": "c600667e-bee6-42fe-9cc7-56b52f8c5b8d",
   "metadata": {},
   "outputs": [],
   "source": []
  },
  {
   "cell_type": "markdown",
   "id": "b8ea086b-4404-4ca2-8977-56516ac6cfd1",
   "metadata": {},
   "source": [
    "Schreiben Sie in der folgenden Zelle eine Variante, in der Sie einer Variablen `ist_palindrom` einen Bool-Wert (`True` oder `False`) zuweisen abhängig davon, ob der String ein Palindrom ist (`True`) oder nicht (`False`). Verwenden Sie dann `ist_palindrom` um zu entscheiden, welchen Text Sie ausgeben."
   ]
  },
  {
   "cell_type": "code",
   "execution_count": null,
   "id": "f37627b2-d59c-43e5-b1c1-91519095da5c",
   "metadata": {},
   "outputs": [],
   "source": []
  },
  {
   "cell_type": "markdown",
   "id": "93c16ae6-4891-4719-bce4-db416009896d",
   "metadata": {},
   "source": [
    "## Aufgabe 5: Ostertermin\n",
    "Der deutsche Mathematiker Carl Friedrich Gauß hat im Jahr 1816 einen Algorithmus für die Berechnung des Osterdatums - genauer, des Ostersonntags - bereitgestellt. Angenommen, die Variable `Jahr` enthält die Jahreszahl (z.B. 2024 für das Jahr 2024), so berechnen die folgenden nacheinander anzuwendenden Formeln das Osterdatum:\n",
    "\n",
    "```\n",
    "a = Jahr mod 19\n",
    "b = Jahr mod 4\n",
    "c = Jahr mod 7\n",
    "k = Jahr div 100\n",
    "p = (8k+13) div 25\n",
    "q = k div 4\n",
    "M = (15 + k - p - q) mod 30\n",
    "d = (19a + M) mod 30\n",
    "N = (4 + k - q) mod 7\n",
    "e = (2b + 4c + 6d + N) mod 7\n",
    "f = 22+d+e\n",
    "```\n",
    "\n",
    "Dabei ist `div` die Ganzzahldivision (d.h. beim Ergebnis werden die Nachkommastellen abgeschnitten) und `mod` der Divionsrest.\n",
    "\n",
    "Ostern liegt dann am `f`-ten März, wobei der 32. März hier dem 1. April, der 33. März dem 2. April usw. entspricht.\n",
    "\n",
    "Schreiben Sie nun ein in der folgenden Zelle ein Stück Code, das\n",
    "* die Jahreszahl als Eingabe mit Hilfe von `input()` einliest,\n",
    "* die Berechnungen für das Osterdatum ausführt und\n",
    "* das Osterdatum in der Form \"Tag. Monat\" ausgibt.\n",
    "\n",
    "Beispiel: Für die Eingabe `2025` sollte die Ausgabe `20. April 2025` lauten.\n",
    "\n",
    "**Wichtig**: Der Ostertermin liegt immer entweder im März oder im April.\n",
    "\n",
    "Testen Sie Ihren Code zumindest für die kommenden drei Ostertermine."
   ]
  },
  {
   "cell_type": "code",
   "execution_count": null,
   "id": "376bc209-3530-4040-8816-33bf62ca6b79",
   "metadata": {},
   "outputs": [],
   "source": []
  }
 ],
 "metadata": {
  "kernelspec": {
   "display_name": "Python 3",
   "language": "python",
   "name": "python3"
  },
  "language_info": {
   "codemirror_mode": {
    "name": "ipython",
    "version": 3
   },
   "file_extension": ".py",
   "mimetype": "text/x-python",
   "name": "python",
   "nbconvert_exporter": "python",
   "pygments_lexer": "ipython3",
   "version": "3.13.0"
  }
 },
 "nbformat": 4,
 "nbformat_minor": 5
}
