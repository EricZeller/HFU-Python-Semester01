{
 "cells": [
  {
   "cell_type": "markdown",
   "metadata": {},
   "source": [
    "# Aufgabenblatt 1\n",
    "\n",
    "### Aufgabe 1: Algorithmen\n",
    "\n",
    "## Aufgabe 1: \n",
    "\n",
    "Ausgabe des random-Algorithmusses: \n",
    "[261, 406, 872, 197, 755, 91, 711, 511, 18, 35]\n",
    "\n",
    "1. Algorithmus: Eine Liste L mit Zahlen wird aufsteigend sortiert in S übertragen. Liste L ist am Programmende leer.\n",
    "\n",
    "2. Algorithmus: gleich wie 1, aber sortiert die Zahlen absteigend \n",
    "\n",
    "## Aufgabe 2:\n",
    "\n",
    "* `-7 + 3 * 8` = 17, int\n",
    "* `17 / (5/3) * 4` = 40.8, float\n",
    "* `(9 + (3 - (2 + 3))) / 2` = 3.5, float\n",
    "* `5**4/2` = 312.5, float\n",
    "* `int(-5/2)` = -2, int\n",
    "\n",
    "\n",
    "## Aufgabe 3:\n",
    "\n",
    "1) ein String wird eingelesen, wird aber nachher mit einem int verglichen, außerdem ist das größer-gleich Zeichen falsch, Korrektur:"
   ]
  },
  {
   "cell_type": "code",
   "execution_count": 4,
   "metadata": {},
   "outputs": [
    {
     "name": "stdout",
     "output_type": "stream",
     "text": [
      "Du bist volljährig.\n"
     ]
    }
   ],
   "source": [
    "age = int(input(\"Wie alt bist du? \"))\n",
    "if age >= 18:\n",
    "    print(\"Du bist volljährig.\")\n",
    "else:\n",
    "    print(\"Du bist minderjährig.\")"
   ]
  },
  {
   "cell_type": "markdown",
   "metadata": {},
   "source": [
    "2) Operator zum vergleichen ist falsch, Korrektur:"
   ]
  },
  {
   "cell_type": "code",
   "execution_count": null,
   "metadata": {},
   "outputs": [],
   "source": [
    "x = 10\n",
    "if x == 10:\n",
    "    print(\"X ist 10\")\n",
    "else:\n",
    "    print(\"X ist nicht 10\")"
   ]
  },
  {
   "cell_type": "markdown",
   "metadata": {},
   "source": [
    "3) keine Einrückungen vorhanden, daher wird die Anweisung nicht korrekt ausgeführt, Korrektur:"
   ]
  },
  {
   "cell_type": "code",
   "execution_count": 5,
   "metadata": {},
   "outputs": [
    {
     "name": "stdout",
     "output_type": "stream",
     "text": [
      "X gleich 42\n"
     ]
    }
   ],
   "source": [
    "x = 42\n",
    "\n",
    "if x > 42:\n",
    "    print(\"X ist größer 42\")\n",
    "elif x < 42:\n",
    "    print(\"X ist kleiner 42\")\n",
    "else:\n",
    "    print(\"X gleich 42\")"
   ]
  },
  {
   "cell_type": "markdown",
   "metadata": {},
   "source": [
    "## Aufgabe 4: Palindrom\n",
    "Variante 1:"
   ]
  },
  {
   "cell_type": "code",
   "execution_count": 9,
   "metadata": {},
   "outputs": [
    {
     "name": "stdout",
     "output_type": "stream",
     "text": [
      "'otto'ist ein Paldindrom!\n"
     ]
    }
   ],
   "source": [
    "x = input(\"Bitte gib Dein zu prüfendes Wort ein: \")\n",
    "y = x.lower()\n",
    "z = y[::-1]\n",
    "\n",
    "if y == z:\n",
    "    print(\"'\"+x+\"' ist ein Paldindrom!\")\n",
    "else:\n",
    "    print(\"'\"+x+\"' ist kein Paldindrom!\")"
   ]
  },
  {
   "cell_type": "markdown",
   "metadata": {},
   "source": [
    "Variante 2:"
   ]
  },
  {
   "cell_type": "code",
   "execution_count": 12,
   "metadata": {},
   "outputs": [
    {
     "name": "stdout",
     "output_type": "stream",
     "text": [
      "'Anna' ist ein Paldindrom!\n"
     ]
    }
   ],
   "source": [
    "x = input(\"Bitte gib Dein zu prüfendes Wort ein: \")\n",
    "y = x.lower()\n",
    "z = y[::-1]\n",
    "ist_palindrom = False\n",
    "\n",
    "if y == z:\n",
    "    ist_palindrom = True\n",
    "\n",
    "\n",
    "if ist_palindrom == True:\n",
    "    print(\"'\"+x+\"' ist ein Paldindrom!\")\n",
    "    ist_palindrom = False\n",
    "else:\n",
    "    print(\"'\"+x+\"' ist kein Paldindrom!\")"
   ]
  },
  {
   "cell_type": "markdown",
   "metadata": {},
   "source": [
    "## Aufgabe 5: Ostertermin"
   ]
  },
  {
   "cell_type": "code",
   "execution_count": 31,
   "metadata": {},
   "outputs": [
    {
     "name": "stdout",
     "output_type": "stream",
     "text": [
      "5. April 2026\n"
     ]
    }
   ],
   "source": [
    "year_input = int(input(\"Bitte geben Sie das Jahr zur Berechnung ein:\"))\n",
    "a = year_input%19\n",
    "b = year_input%4\n",
    "c = year_input%7\n",
    "k = year_input//100\n",
    "p = ((8*k)+13)//25\n",
    "q = k // 4\n",
    "M = (15 + k - p - q)%30\n",
    "d = ((19*a) + M)%30\n",
    "N = (4 + k - q)%7\n",
    "e = ((2*b) + (4*c) + (6*d) + N) % 7\n",
    "f = 22+d+e\n",
    "\n",
    "if f > 31:\n",
    "    tag = f - 31\n",
    "    monat = \"April\"\n",
    "else:\n",
    "    tag = f\n",
    "    monat = \"März\"\n",
    "\n",
    "print(str(tag)+\". \"+monat, year_input)\n",
    "\n"
   ]
  }
 ],
 "metadata": {
  "kernelspec": {
   "display_name": "Python 3",
   "language": "python",
   "name": "python3"
  },
  "language_info": {
   "codemirror_mode": {
    "name": "ipython",
    "version": 3
   },
   "file_extension": ".py",
   "mimetype": "text/x-python",
   "name": "python",
   "nbconvert_exporter": "python",
   "pygments_lexer": "ipython3",
   "version": "3.13.0"
  }
 },
 "nbformat": 4,
 "nbformat_minor": 2
}
