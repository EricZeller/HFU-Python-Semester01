{
 "cells": [
  {
   "cell_type": "markdown",
   "id": "d444b351-3b82-49db-af50-9f172ac7f5b5",
   "metadata": {},
   "source": [
    "# Interaktives Skript zur Vorlesung \"Programmierung\" von Prof. Dr. Ralf Gerlich"
   ]
  },
  {
   "cell_type": "markdown",
   "id": "0111335d-d878-4c65-b760-ca1bb11f8aaf",
   "metadata": {
    "jp-MarkdownHeadingCollapsed": true
   },
   "source": [
    "# Lektion 1: Objekte, Typen und Operatoren"
   ]
  },
  {
   "cell_type": "markdown",
   "id": "ff7f9313-9401-40f1-a0e9-d9fc51800802",
   "metadata": {},
   "source": [
    "Beim Programmieren arbeiten wir mit Daten in Form von Objekten. **Objekte** können zum Beispiel\n",
    "- ganze Zahlen (`5`, `10`, `2024`),\n",
    "- Kommazahlen (`2.5`, `17.3`, `3.141592`) oder\n",
    "- Zeichenketten (`\"Hallo HFU\"`)\n",
    "\n",
    "sein.\n",
    "\n",
    "Jedes Objekt hat einen **Typ**. Der Typ\n",
    "- einer Ganzzahl ist `int`,\n",
    "- einer Kommazahl ist `float` und\n",
    "- einer Zeichenkette ist `str` (für \"String\").\n",
    "\n",
    "Darüber hinaus gibt es noch viele weitere Typen und Arten von Objekten, die wir später kennenlernen werden.\n",
    "\n",
    "Wir können den Typ eines Objekts mit der Funktion `type` ermitteln. Probieren Sie es selbst aus:"
   ]
  },
  {
   "cell_type": "code",
   "execution_count": null,
   "id": "bc8ec511-377c-4d22-88ac-5af8597fccac",
   "metadata": {},
   "outputs": [],
   "source": [
    "type(5)"
   ]
  },
  {
   "cell_type": "code",
   "execution_count": null,
   "id": "3e27d437-e48c-4afb-9e71-c5d2eea173d1",
   "metadata": {},
   "outputs": [],
   "source": [
    "type(5.0)"
   ]
  },
  {
   "cell_type": "code",
   "execution_count": null,
   "id": "aad54d8f-274c-45da-be07-20c797621df0",
   "metadata": {},
   "outputs": [],
   "source": [
    "type(5.5)"
   ]
  },
  {
   "cell_type": "code",
   "execution_count": null,
   "id": "668d78ce-336c-4f43-9891-e382ae8b439a",
   "metadata": {},
   "outputs": [],
   "source": [
    "type(\"Hallo HFU\")"
   ]
  },
  {
   "cell_type": "markdown",
   "id": "114d014e-e488-4aca-a36f-7fa4863cde3f",
   "metadata": {
    "jp-MarkdownHeadingCollapsed": true
   },
   "source": [
    "## Zahlen\n",
    "Python kennt hauptsächlich zwei Arten von Zahlen:\n",
    "- Ganzzahlen (Typ `int`) und\n",
    "- (Fließ-)Kommazahlen (Typ `float`).\n",
    "\n",
    "Ganzzahlen bestehen aus den Ziffern 0-9:"
   ]
  },
  {
   "cell_type": "code",
   "execution_count": null,
   "id": "987b4ee8-5b8f-462b-860a-396b2a273cf5",
   "metadata": {},
   "outputs": [],
   "source": [
    "2024"
   ]
  },
  {
   "cell_type": "code",
   "execution_count": null,
   "id": "a86fcae4-c0b0-46a1-abf9-8574d0c369e7",
   "metadata": {},
   "outputs": [],
   "source": [
    "31"
   ]
  },
  {
   "cell_type": "code",
   "execution_count": null,
   "id": "5cc88f31-74ad-40e0-a59a-ab258d4797aa",
   "metadata": {},
   "outputs": [],
   "source": [
    "1111"
   ]
  },
  {
   "cell_type": "markdown",
   "id": "1120adec-10e8-4b18-a999-d1c794318d02",
   "metadata": {},
   "source": [
    "Nicht zulässig:"
   ]
  },
  {
   "cell_type": "code",
   "execution_count": null,
   "id": "c8610ec6-004b-4529-a278-31c2189f3cf1",
   "metadata": {},
   "outputs": [],
   "source": [
    "1ab"
   ]
  },
  {
   "cell_type": "markdown",
   "id": "a673290e-28a6-4262-abcb-ddcd84e15f20",
   "metadata": {},
   "source": [
    "**Wichtig**: Ganzzahlen sollten nicht mit einer Null beginnen:"
   ]
  },
  {
   "cell_type": "code",
   "execution_count": null,
   "id": "10c9297c-fdac-4413-be73-a364bd3bd08a",
   "metadata": {},
   "outputs": [],
   "source": [
    "0213"
   ]
  },
  {
   "cell_type": "markdown",
   "id": "31e7badf-ae2e-40af-9db8-703ad887e032",
   "metadata": {},
   "source": [
    "Python nutzt die Null als Präfix, um Dezimalzahlen von Zahlen in anderen wichtigen Zahlensystemen abzugrenzen:\n",
    "- Oktalzahlen: `0o213`\n",
    "- Hexadezimalzahlen: `0xDE23`\n",
    "- Binärzahlen: `0b1101`\n",
    "\n",
    "Beispiele:"
   ]
  },
  {
   "cell_type": "code",
   "execution_count": null,
   "id": "4ea0e1a7-88fc-4b66-9f59-8961e5a1f636",
   "metadata": {},
   "outputs": [],
   "source": [
    "0o213"
   ]
  },
  {
   "cell_type": "code",
   "execution_count": null,
   "id": "7526dac7-40a1-481a-8f41-c8a055d851bb",
   "metadata": {},
   "outputs": [],
   "source": [
    "0xDE23"
   ]
  },
  {
   "cell_type": "code",
   "execution_count": null,
   "id": "70772e65-b321-47b7-89cc-3a77ad97d681",
   "metadata": {},
   "outputs": [],
   "source": [
    "0b1101"
   ]
  },
  {
   "cell_type": "markdown",
   "id": "f6a0e611-0675-4841-a358-78972f3953ac",
   "metadata": {},
   "source": [
    "Kommazahlen enthalten einen Punkt(!) als Dezimaltrenner. Das ist die amerikanische Schreibweise. Der deutsche Dezimaltrenner - das Komma - wird in Python für etwas anderes verwendet.\n",
    "\n",
    "Beispiele:"
   ]
  },
  {
   "cell_type": "code",
   "execution_count": null,
   "id": "fbe8e614-7928-49fe-b52d-ca001fc09c6d",
   "metadata": {},
   "outputs": [],
   "source": [
    "15.2"
   ]
  },
  {
   "cell_type": "code",
   "execution_count": null,
   "id": "f966ef37-82ff-47e3-96a7-65c81e859c43",
   "metadata": {},
   "outputs": [],
   "source": [
    "0.5"
   ]
  },
  {
   "cell_type": "code",
   "execution_count": null,
   "id": "d80a727d-17f4-463c-9912-bbff53ba4c32",
   "metadata": {},
   "outputs": [],
   "source": [
    "1."
   ]
  },
  {
   "cell_type": "code",
   "execution_count": null,
   "id": "506cd19e-c641-48a7-9b17-260e374ff18f",
   "metadata": {},
   "outputs": [],
   "source": [
    ".5"
   ]
  },
  {
   "cell_type": "markdown",
   "id": "44613b55-3d6f-4a96-806e-1deed81e79f4",
   "metadata": {},
   "source": [
    "Nicht zulässig:"
   ]
  },
  {
   "cell_type": "code",
   "execution_count": null,
   "id": "3cbfed7c-0a2d-4a23-a49e-5a189d8515f9",
   "metadata": {},
   "outputs": [],
   "source": [
    "0,3"
   ]
  },
  {
   "cell_type": "markdown",
   "id": "272c1afe-8b5b-4fd2-a642-103390edd513",
   "metadata": {},
   "source": [
    "## Ausdrücke\n",
    "In einem Programm wollen wir unter anderem mit Zahlen rechnen. Dazu bilden wir **Ausdrücke**. Diese setzen sich aus Objekten und **Operationen** zusammen.\n",
    "\n",
    "Jeder Ausdruck hat als Ergebnis ein neues Objekt - seinen **Wert**. Um den Wert zu erhalten, müssen wir den Ausdruck **auswerten**. Da der Wert ein Objekt ist, hat er auch einen **Typ**.\n",
    "\n",
    "Die Syntax für einfache Ausdrücke sieht wie folgt aus:\n",
    "- Binäre Ausdrücke: `<Ausdruck> <Operator> <Ausdruck>`\n",
    "- Unäre Ausdrücke: `<Operator> <Ausdruck>`\n",
    "\n",
    "Mit Objekten vom Typ `int` und `float` können wir einige Ausdrücke bilden:\n",
    "- Summe: `a+b`\n",
    "- Differenz: `a-b`\n",
    "- Produkt: `a*b`\n",
    "- Quotient: `a/b`\n",
    "- Ganzzahldivision: `a//b`\n",
    "- Rest der Division: `a%b`\n",
    "- Potenz: `a**b`\n",
    "- Negation: `-a`\n",
    "\n",
    "Die meisten dieser Operatoren funktionieren so, wie wir es uns intuitiv vorstellen:"
   ]
  },
  {
   "cell_type": "code",
   "execution_count": null,
   "id": "e97d0110-a388-42b6-a33c-9a16ec4bdd2e",
   "metadata": {},
   "outputs": [],
   "source": [
    "5*2"
   ]
  },
  {
   "cell_type": "code",
   "execution_count": null,
   "id": "e41c356f-d55e-4b82-9eb8-b16513f07ce8",
   "metadata": {},
   "outputs": [],
   "source": [
    "19/2"
   ]
  },
  {
   "cell_type": "code",
   "execution_count": null,
   "id": "f7691c8b-640c-4cf7-9b83-8fee5ad54649",
   "metadata": {},
   "outputs": [],
   "source": [
    "5**3"
   ]
  },
  {
   "cell_type": "code",
   "execution_count": null,
   "id": "baac6b6f-b012-4e86-93b0-d49ca6a2055e",
   "metadata": {},
   "outputs": [],
   "source": [
    "-12+3"
   ]
  },
  {
   "cell_type": "markdown",
   "id": "64a46d7e-3051-4d82-a314-10e40e69e302",
   "metadata": {},
   "source": [
    "Die Objekte, die wir mit einer solchen Operation verarbeiten, nennen wir **Operanden**. Bei `17-3` ist etwa `17` der *linke* und `3` der *rechte* Operand.\n",
    "\n",
    "Wir können natürlich auch mehrere Operationen nacheinander ausführen:"
   ]
  },
  {
   "cell_type": "code",
   "execution_count": null,
   "id": "74133cb9-2770-40d7-bd66-3a144383e16e",
   "metadata": {},
   "outputs": [],
   "source": [
    "15*2+7"
   ]
  },
  {
   "cell_type": "markdown",
   "id": "872a9c7b-d9d2-4726-a5fb-59fe6ebb0e80",
   "metadata": {},
   "source": [
    "In diesem Fall wird zuerst das Ergebnis der Operation `15*2` ausgerechnet. Das Ergebnis ist `30`. Dieses Ergebnis wird dann anstelle des Ausdrucks `15*2` eingesetzt, so dass nun noch der Ausdruck `30+7` übrigbleibt. Auch diese Operation wird dann angewendet und das Ergebnis ist - wie erwartet - `37`."
   ]
  },
  {
   "cell_type": "markdown",
   "id": "e7395f8b-01c6-4a33-a4a9-6328cc7fb5d7",
   "metadata": {},
   "source": [
    "Die **Ganzzahldivision** `//` und der **Rest der Division** `%` bilden ein zusammengehörendes Paar.\n",
    "\n",
    "Bei der Ganzzahldivision wird immer abgerundet:"
   ]
  },
  {
   "cell_type": "code",
   "execution_count": null,
   "id": "b07a6eff-8ce7-4374-ad60-ea2239cfeb5d",
   "metadata": {},
   "outputs": [],
   "source": [
    "19 // 2"
   ]
  },
  {
   "cell_type": "code",
   "execution_count": null,
   "id": "ec955db7-3676-4606-9b0a-51a71d44e466",
   "metadata": {},
   "outputs": [],
   "source": [
    "-19 //2"
   ]
  },
  {
   "cell_type": "markdown",
   "id": "8886e823-1581-4972-aa6d-e1946d6b3c81",
   "metadata": {},
   "source": [
    "Der Rest ist immer positiv und kompensiert diese Abrundung:"
   ]
  },
  {
   "cell_type": "code",
   "execution_count": null,
   "id": "8eb49ab4-fdeb-4018-b39c-a39201caf6bb",
   "metadata": {},
   "outputs": [],
   "source": [
    "19 % 2"
   ]
  },
  {
   "cell_type": "code",
   "execution_count": null,
   "id": "86f65502-2137-406f-85b7-9657356a9ba7",
   "metadata": {},
   "outputs": [],
   "source": [
    "-19 % 2"
   ]
  },
  {
   "cell_type": "markdown",
   "id": "bacf395c-233e-4a18-8187-d9d3d6843c2f",
   "metadata": {},
   "source": [
    "Es gilt also immer: `(x // y) * y + (x % y)` ist gleich `x`"
   ]
  },
  {
   "cell_type": "code",
   "execution_count": null,
   "id": "4e1ef1a5-e03e-49d6-ad8e-1e5d15ab8b4c",
   "metadata": {},
   "outputs": [],
   "source": [
    "(-19 // 2) * 2 + (-19 % 2)"
   ]
  },
  {
   "cell_type": "code",
   "execution_count": null,
   "id": "b6072bc0-ffc3-40e0-80ff-e4bee8fdc1b8",
   "metadata": {},
   "outputs": [],
   "source": [
    "(19 // 2) * 2 + (19 % 2)"
   ]
  },
  {
   "cell_type": "markdown",
   "id": "8592cb27-c7f5-4af9-90f2-b2fb0124ae8e",
   "metadata": {},
   "source": [
    "## Operationsreihenfolge\n",
    "Python achtet auf die übliche Reihenfolge der Operationen (z.B. \"Punkt vor Strich\"). Probieren Sie es aus:"
   ]
  },
  {
   "cell_type": "code",
   "execution_count": null,
   "id": "7bd5bce8-a012-4ff3-b611-c3a3bcddfd4a",
   "metadata": {},
   "outputs": [],
   "source": [
    "7+15*2"
   ]
  },
  {
   "cell_type": "markdown",
   "id": "1bf1f9bd-d9d5-4de1-8b0b-5aa25df8cd37",
   "metadata": {},
   "source": [
    "Wenn wir die Ausführungsreihenfolge ändern wollen, können wir Klammern einsetzen:"
   ]
  },
  {
   "cell_type": "code",
   "execution_count": null,
   "id": "11c98ac8-1ecb-4eac-82cf-8c913b6201ff",
   "metadata": {},
   "outputs": [],
   "source": [
    "(7+15)*2"
   ]
  },
  {
   "cell_type": "markdown",
   "id": "8a7aef10-1adc-4852-b259-eabb60e21a00",
   "metadata": {},
   "source": [
    "## Typkonversionen\n",
    "\n",
    "Wir können Objekte eines Typs in einen anderen umwandeln - die sogenannte **Typkonversion**. Der Ausdruck `float(5)` wandelt den `int`-Wert `5` in den entsprechenden `float`-Wert `5.0` um:"
   ]
  },
  {
   "cell_type": "code",
   "execution_count": null,
   "id": "8136697d-ce7d-47d1-9aa1-c66aaa64cb17",
   "metadata": {},
   "outputs": [],
   "source": [
    "float(5)"
   ]
  },
  {
   "cell_type": "markdown",
   "id": "0db93858-6eef-44dc-88bb-34717066a2b1",
   "metadata": {},
   "source": [
    "Umgekehrt können wir auch Fließkommawerte in `int` umwandeln. Dabei werden die Nachkommastellen abgeschnitten - die Konversion rundet also immer \"zur Null hin\":"
   ]
  },
  {
   "cell_type": "code",
   "execution_count": null,
   "id": "3addb323-72ab-432d-954e-d3f0c8cd73bb",
   "metadata": {},
   "outputs": [],
   "source": [
    "int(5.5)"
   ]
  },
  {
   "cell_type": "code",
   "execution_count": null,
   "id": "b99baeb7-1cc9-4339-b026-57f75333b985",
   "metadata": {},
   "outputs": [],
   "source": [
    "int(-5.5)"
   ]
  },
  {
   "cell_type": "markdown",
   "id": "a8bbdd29-0d3d-4984-a39e-895c73c067a3",
   "metadata": {},
   "source": [
    "## Ergebnistypen\n",
    "Der Typ des Ergebnisses und die ausgeführte Operation hängt von den Typen der Operatoren ab:\n",
    "\n",
    "- Haben die beiden Operanden den Typ `int`, so ist das Ergebnis auch ein `int`.\n",
    "- Haben beide Operanden den Typ `float`, ist auch das Ergebnis ein `float`.\n",
    "- Hat nur ein Operand den Typ `float`, so wird der andere in `float` konvertiert.\n",
    "\n",
    "Ausnahme: Beim Divisionsoperator ist das Ergebnis auch dann ein `float`, wenn beide Operatoren den Typ `int` haben."
   ]
  },
  {
   "cell_type": "code",
   "execution_count": null,
   "id": "bb969ca1-4da7-4472-acff-f90c171df7f8",
   "metadata": {},
   "outputs": [],
   "source": [
    "type(5+2)"
   ]
  },
  {
   "cell_type": "code",
   "execution_count": null,
   "id": "c2011ce1-d0be-49c1-b1cf-f07522540009",
   "metadata": {},
   "outputs": [],
   "source": [
    "type(5.0+2.0)"
   ]
  },
  {
   "cell_type": "code",
   "execution_count": null,
   "id": "ff588abd-78a8-4ee4-8646-3bf0b8ed8d7b",
   "metadata": {},
   "outputs": [],
   "source": [
    "type(5.0+2)"
   ]
  },
  {
   "cell_type": "code",
   "execution_count": null,
   "id": "7b76696d-3bda-40a3-b5bd-68f2c63063a4",
   "metadata": {},
   "outputs": [],
   "source": [
    "type(5/2)"
   ]
  },
  {
   "attachments": {},
   "cell_type": "markdown",
   "id": "229a58a1-3c15-4b49-8575-30a86c3aa64a",
   "metadata": {},
   "source": [
    "## Variablen und Zuweisungen\n",
    "Mit Variablen können wir die Ergebnisse von Berechnungen festhalten. Variablen erhalten einen Namen, der (etwas vereinfacht) folgende Regeln befolgen muss:\n",
    "- Das erste Zeichen muss ein Buchstabe oder ein Unterstrich (`_`) sein.\n",
    "- Weitere Zeichen können außerdem Ziffern sein.\n",
    "\n",
    "Python lässt auch Umlaute (ä, ö, ü) und auch Sonderzeichen aus anderen Sprachen (á, à, Å, Ç, œ, etc.) zu!\n",
    "\n",
    "Bei einer Zuweisung wird erst das Objekt auf der rechten Seite berechnet und dann die Variable auf der linken Seite daran gebunden:"
   ]
  },
  {
   "cell_type": "code",
   "execution_count": null,
   "id": "db4ca982-0bb0-40ec-a681-ab4751426e4b",
   "metadata": {},
   "outputs": [],
   "source": [
    "x=5"
   ]
  },
  {
   "cell_type": "markdown",
   "id": "ddb9c0be-9f1f-47e0-9e43-fbb6d471c556",
   "metadata": {},
   "source": [
    "Wann immer wir die Variable in einem Ausdruck verwenden, wird sie durch das Objekt ersetzt, an das sie gebunden ist:"
   ]
  },
  {
   "cell_type": "code",
   "execution_count": null,
   "id": "19cb97be-16d6-4cd1-acca-9cf309351fda",
   "metadata": {},
   "outputs": [],
   "source": [
    "x"
   ]
  },
  {
   "cell_type": "code",
   "execution_count": null,
   "id": "cb3d3e7d-08ee-48e6-9fd1-eb11656244d1",
   "metadata": {},
   "outputs": [],
   "source": [
    "x+2"
   ]
  },
  {
   "cell_type": "markdown",
   "id": "24cd58d6-0e5b-4d60-8dc7-f39744a066cc",
   "metadata": {},
   "source": [
    "Somit ist auch eine Zuweisung einer Variablen an eine anderen zulässig:"
   ]
  },
  {
   "cell_type": "code",
   "execution_count": null,
   "id": "b96e82ef-c1af-4f9d-b853-7bf1a7fa11cd",
   "metadata": {},
   "outputs": [],
   "source": [
    "y=x"
   ]
  },
  {
   "cell_type": "code",
   "execution_count": null,
   "id": "7a60e1f4-d83f-4297-8256-14d6f6796895",
   "metadata": {},
   "outputs": [],
   "source": [
    "y"
   ]
  },
  {
   "cell_type": "markdown",
   "id": "2feb2423-15c4-4ad5-870d-022b55ad4dba",
   "metadata": {},
   "source": [
    "Wir können die Fläche eines Kreises etwa so berechnen:"
   ]
  },
  {
   "cell_type": "code",
   "execution_count": null,
   "id": "a46f7e80-bea2-4c8e-87a3-0fd34cf53a6c",
   "metadata": {},
   "outputs": [],
   "source": [
    "pi=3.141592\n",
    "radius=2.2\n",
    "area=pi*radius**2\n",
    "area"
   ]
  },
  {
   "cell_type": "markdown",
   "id": "b959ac3a-6701-4a44-8d5f-9094b142864c",
   "metadata": {},
   "source": [
    "Variablen in Python sind nicht wie Variablen in der Mathematik. Der folgende Ausdruck ist also zulässig. Er berechnet den Wert von `x+1` und bindet die Variable `x` dann an diesen neuen Wert."
   ]
  },
  {
   "cell_type": "code",
   "execution_count": null,
   "id": "bf78d5ae-b653-4c0f-a49a-fec2fda1495d",
   "metadata": {},
   "outputs": [],
   "source": [
    "i=1\n",
    "i"
   ]
  },
  {
   "cell_type": "code",
   "execution_count": null,
   "id": "28516f9a-ae08-4e35-8cca-ee0bf4b2c33e",
   "metadata": {},
   "outputs": [],
   "source": [
    "i=i+1\n",
    "i=5+i\n",
    "i"
   ]
  },
  {
   "attachments": {},
   "cell_type": "markdown",
   "id": "846f6c6b-8656-4031-b72b-a7aae5e90508",
   "metadata": {},
   "source": [
    "## Variablennamen\n",
    "Variablennamen müssen mit Buchstaben oder Unterstrich (`_`) beginnen. So können Sie von Zahlen unterschieden werden. Weitere Zeichen können dann auch Ziffern enthalten.\n",
    "\n",
    "Die genaue Definition ist etwas umfangreicher. So sind auch Umlaute (`ä`, `ö`, `ü`) und Sonderzeichen aus anderen Sprachen (`á`, `à`, etc.) zulässig. Das ist in anderen Programmiersprachen nicht unbedingt so!\n",
    "\n",
    "Beispiele:\n",
    "* `radius`\n",
    "* `Füllstand`\n",
    "* `n1`\n",
    "* `Number_123`\n",
    "\n",
    "Nicht zulässig wäre zum Beispiel `1n`, da es mit einer Ziffer beginnt."
   ]
  },
  {
   "cell_type": "code",
   "execution_count": null,
   "id": "93f508b8-6801-450b-a003-d01ed09daca8",
   "metadata": {},
   "outputs": [],
   "source": []
  },
  {
   "cell_type": "markdown",
   "id": "39f2cee5-c009-446b-a790-dfe526b15ad1",
   "metadata": {
    "jp-MarkdownHeadingCollapsed": true
   },
   "source": [
    "# Lektion 2: Strings, Ein-/Ausgabe und Verzweigungen"
   ]
  },
  {
   "cell_type": "markdown",
   "id": "e972caca-2865-482d-bb94-34ee689fa6f6",
   "metadata": {},
   "source": [
    "## Zeichenketten\n",
    "Zeichenketten sind **Sequenzen von Zeichen**, also von\n",
    "- Buchstaben,\n",
    "- Ziffern,\n",
    "- Sonderzeichen,\n",
    "- Leerzeichen,\n",
    "- usw.\n",
    "\n",
    "Wir schreiben Zeichenketten in einfache oder doppelte Anführungszeichen:\n",
    "- `\"Hallo HFU\"`\n",
    "- `'Hallo HFU'`\n",
    "\n",
    "Long Strings können wir mit drei gleichartigen Anführungszeichen einleiten und wieder beenden. Solche Long Strings können sich auch über mehrere Zeilen erstrecken:\n",
    "\n",
    "```\n",
    "\"\"\"Hallo HFU!\n",
    "Was für ein schöner Tag heute!\"\"\"\n",
    "```\n",
    "\n",
    "```\n",
    "'''Hallo HFU!\n",
    "Was für ein schöner Tag heute!'''\n",
    "```\n",
    "\n",
    "Mischungen der Anführungszeichen sind allerdings nicht zulässig:"
   ]
  },
  {
   "cell_type": "code",
   "execution_count": null,
   "id": "131258ad-b3ab-4bd6-a3c1-471d0a4d2ef1",
   "metadata": {},
   "outputs": [],
   "source": [
    "\"Hallo HFU'"
   ]
  },
  {
   "cell_type": "markdown",
   "id": "940b3e3a-1f73-4b8e-ac62-8f3fd5ab1bb2",
   "metadata": {},
   "source": [
    "Anführungszeichen in Zeichenketten sind kein Problem, wenn es nicht dieselben Anführungszeichen sind, die die Zeichenkette begrenzen:\n",
    "\n",
    "- ```'Er sagte \"Hallo!\"'```\n",
    "- ```\"Sie sagte 'Hallo!'\"```\n",
    "\n",
    "Sollen jedoch die Anführungszeichen verwendet werden, die die Zeichenkette begrenzen, so müssen wir sie mit einem vorangestellten Backslash (`\\`) maskieren:\n",
    "\n",
    "- ```\"Er sagte \\\"Hallo!\\\"\"```\n",
    "- ```'Sie sagte \\'Hallo!\\''```\n",
    "\n",
    "Diese Zeichensequenzen in Zeichenketten, die mit einem Backslash beginnen, bezeichnen wir als \"Escape-Sequenzen\", da wir aus der normalen Interpretation des folgenden Zeichens ausbrechen (engl. \"escape\")."
   ]
  },
  {
   "cell_type": "markdown",
   "id": "dfec604c-a71d-4739-a26d-4e95d204bf86",
   "metadata": {},
   "source": [
    "### Verkettung und Vervielfachung\n",
    "Wir können mit Hilfe der Operatoren `+` und `*` Zeichenketten **verketten** und **vervielfachen**.\n",
    "\n",
    "**Wichtig!** Dabei entsteht jedes Mal ein neues Objekt!"
   ]
  },
  {
   "cell_type": "code",
   "execution_count": null,
   "id": "8a3acad2-8cf1-454a-aac1-8e7b9067fe34",
   "metadata": {},
   "outputs": [],
   "source": [
    "a=\"Hallo\"\n",
    "b=\"HFU\"\n",
    "a+b"
   ]
  },
  {
   "cell_type": "code",
   "execution_count": null,
   "id": "5f2ea63e-658d-4a75-ba64-0c319e2e2d2f",
   "metadata": {},
   "outputs": [],
   "source": [
    "a+\" \"+b"
   ]
  },
  {
   "cell_type": "code",
   "execution_count": null,
   "id": "3707c715-f5b1-48cf-961b-8b4ddcf9eedb",
   "metadata": {},
   "outputs": [],
   "source": [
    "b*3"
   ]
  },
  {
   "cell_type": "markdown",
   "id": "8276c042-f3c6-4e97-af94-3dedfc19b80c",
   "metadata": {},
   "source": [
    "### Andere Operatoren\n",
    "Viele andere Operatoren sind für Zeichenketten nicht zulässig, da ihr Ergebnis nicht sinnvoll definiert wäre.\n",
    "\n",
    "Beispiel:"
   ]
  },
  {
   "cell_type": "code",
   "execution_count": null,
   "id": "42ddfc93-f88a-4143-a424-dd218b8411e9",
   "metadata": {},
   "outputs": [],
   "source": [
    "\"Hallo HFU\" - \"HFU\""
   ]
  },
  {
   "cell_type": "markdown",
   "id": "e630ceba-f6e3-4a62-9566-0160adc38b84",
   "metadata": {},
   "source": [
    "### Länge von Zeichenketten\n",
    "Mit der Funktion `len()` können wir die Länge einer Zeichenkette - also die Anzahl der darin enthaltenen Zeichen - ermitteln:"
   ]
  },
  {
   "cell_type": "code",
   "execution_count": null,
   "id": "e0303dc4-94ec-4397-969d-e28555adae8f",
   "metadata": {},
   "outputs": [],
   "source": [
    "len(\"abc\")"
   ]
  },
  {
   "cell_type": "code",
   "execution_count": null,
   "id": "fed2721c-e546-4bec-bd36-83adfd6420ac",
   "metadata": {},
   "outputs": [],
   "source": [
    "s=\"Furtwangen\"\n",
    "len(s)"
   ]
  },
  {
   "cell_type": "markdown",
   "id": "74e97a90-718a-4b69-b83a-adf98fb880ce",
   "metadata": {},
   "source": [
    "### Zugriff auf Teile von Zeichenketten\n",
    "Mit dem Index-Operator '[]' können wir auf einzelne Zeichen und auf Teile einer Zeichenkette zugreifen.\n",
    "\n",
    "**WICHTIG** Dabei entsteht wiederum ein neues Zeichenkettenobjekt!"
   ]
  },
  {
   "cell_type": "code",
   "execution_count": null,
   "id": "2007c46c-beef-4946-8357-7b1d4ace9864",
   "metadata": {},
   "outputs": [],
   "source": [
    "s=\"Furtwangen\"\n",
    "s[5]"
   ]
  },
  {
   "cell_type": "markdown",
   "id": "0fcb3e36-da8b-4959-bd17-7f438b657ef6",
   "metadata": {},
   "source": [
    "Die Zähung des Index beginnt dabei bei 0, d.h. eine Zeichenkette der Länge `n` hat valide Indices von 0 bis `n`-1.\n",
    "\n",
    "Ein Zugriff auf einen invaliden Index führt zu einem `IndexError`:"
   ]
  },
  {
   "cell_type": "code",
   "execution_count": null,
   "id": "4cbd0a82-0c6a-4e71-9230-c88489407fae",
   "metadata": {},
   "outputs": [],
   "source": [
    "len(s)"
   ]
  },
  {
   "cell_type": "code",
   "execution_count": null,
   "id": "a3c722b3-3c4a-42f1-b889-b5705a1fc561",
   "metadata": {},
   "outputs": [],
   "source": [
    "s[10]"
   ]
  },
  {
   "cell_type": "markdown",
   "id": "e44e85fb-252d-4d85-a65a-e51b366d1b15",
   "metadata": {},
   "source": [
    "Negative Indices werden als Zugriff vom Ende der Zeichenkette interpretiert. `s[-1]` liefert also das letzte, `s[-2]` das vorletzte Zeichen, usw."
   ]
  },
  {
   "cell_type": "code",
   "execution_count": null,
   "id": "ad9afe1c-9a8d-48f4-9938-881a8eea3dd4",
   "metadata": {},
   "outputs": [],
   "source": [
    "s[-1]"
   ]
  },
  {
   "cell_type": "markdown",
   "id": "91f6e092-af95-42d7-95a6-80aa7ad0a7d7",
   "metadata": {},
   "source": [
    "Wir können auch Stücke aus der Zeichenkette herausholen.\n",
    "\n",
    "Die Schreibweise `s[start:ende]` extrahiert die Zeichen von Index `start` (einschließlich) bis Index `ende` (ausschließlich):"
   ]
  },
  {
   "cell_type": "code",
   "execution_count": null,
   "id": "5bf3fdc8-89c6-4a7f-8f98-58fe0b9b995e",
   "metadata": {},
   "outputs": [],
   "source": [
    "s[2:5]"
   ]
  },
  {
   "cell_type": "markdown",
   "id": "b58a89b7-f69b-47fd-bf4e-a2489dcfe63d",
   "metadata": {},
   "source": [
    "Hierbei können wir auch eine Schrittweite angeben. Die Schreibweise `s[start:ende:schritt]` entspricht `s[start:ende]`, mit dem Unterschied, dass nur Zeichen im Abstand `schritt` extrahiert werden:"
   ]
  },
  {
   "cell_type": "code",
   "execution_count": null,
   "id": "b89f804e-bebc-4ef7-88e3-597af305fbd8",
   "metadata": {},
   "outputs": [],
   "source": [
    "s[2:7:2]"
   ]
  },
  {
   "cell_type": "markdown",
   "id": "2141bb88-d285-4974-bb03-957d41b027e8",
   "metadata": {},
   "source": [
    "Bei negativer Schrittweite wird rückwärts gezählt. Wichtig ist dann, dass `start` größer ist als `ende`. Nach wie vor wird aber das Zeichen mit dem Index `start` extrahiert, das mit dem Index `ende` nicht mehr:"
   ]
  },
  {
   "cell_type": "code",
   "execution_count": null,
   "id": "c0a4df87-5de6-4a02-bc0a-207991308878",
   "metadata": {},
   "outputs": [],
   "source": [
    "s[7:2:-1]"
   ]
  },
  {
   "cell_type": "markdown",
   "id": "edf86e1f-39bc-4c68-945f-3be90e6ada5f",
   "metadata": {},
   "source": [
    "## Ausgabe mit `print`\n",
    "Wir kennnen bereits die Ausgabe der Konsole, bei der jeweils das Ergebnis des letzten Ausdrucks ausgegeben wird:"
   ]
  },
  {
   "cell_type": "code",
   "execution_count": null,
   "id": "4f470aad-08e4-4e73-ba87-5ac5b0a20bf4",
   "metadata": {},
   "outputs": [],
   "source": [
    "5+2"
   ]
  },
  {
   "cell_type": "markdown",
   "id": "0e11d9fb-516d-4492-a88e-e3999645300d",
   "metadata": {},
   "source": [
    "Hier können wir auch feststellen, dass eine Zuweisung kein Ausdruck ist, da der Wert einer Zuweisung nicht ausgegeben wird:"
   ]
  },
  {
   "cell_type": "code",
   "execution_count": null,
   "id": "1ed9539a-ae9a-468a-a294-305297401d5e",
   "metadata": {},
   "outputs": [],
   "source": [
    "a=5+2"
   ]
  },
  {
   "cell_type": "markdown",
   "id": "4fac253f-5d44-4e4c-8dc7-ce6bd0d47ff0",
   "metadata": {},
   "source": [
    "Wir können die Konsole bzw. das Notebook nur zur Ausgabe des Werts \"zwingen\", wenn wir die Variable als Ausdruck angeben:"
   ]
  },
  {
   "cell_type": "code",
   "execution_count": null,
   "id": "ffa6aca1-313d-453f-94b1-ec2aa03f78f5",
   "metadata": {},
   "outputs": [],
   "source": [
    "a"
   ]
  },
  {
   "cell_type": "markdown",
   "id": "94257eee-ebaf-42ec-a5f2-3b4329bd9694",
   "metadata": {},
   "source": [
    "Dass überhaupt der Wert des Ausdrucks ausgegeben wird, ist aber eine Besonderheit der Konsole bzw. des Notebooks. In Python-Programmen, die \"normal\" zur Ausführung kommen, passiert das nicht automatisch. Wenn wir Dinge ausgeben möchten, müssen wir dafür die `print`-Anweisung nutzen:"
   ]
  },
  {
   "cell_type": "code",
   "execution_count": null,
   "id": "3cee23cc-80fd-4527-a47a-d8d05d0ffde8",
   "metadata": {},
   "outputs": [],
   "source": [
    "print(\"Hallo HFU!\")"
   ]
  },
  {
   "cell_type": "markdown",
   "id": "bbd3e85d-969a-46da-b2bc-1e63ae20a7d3",
   "metadata": {},
   "source": [
    "Beachten Sie, dass vor der Ausgabe nun keine Zahl mehr in Klammern steht, da es sich nicht mehr um das Ergebnis eines Ausdrucks, sondern um eine explizite Ausgabe handelt.\n",
    "\n",
    "Natürlich können wir auch die Ergebnisse von Berechnungen direkt ausgeben:"
   ]
  },
  {
   "cell_type": "code",
   "execution_count": null,
   "id": "d74a688d-bb8d-438b-8930-567a61e55426",
   "metadata": {},
   "outputs": [],
   "source": [
    "print(5+5)"
   ]
  },
  {
   "cell_type": "markdown",
   "id": "f6b53552-b1c5-4295-9023-516eeef8439c",
   "metadata": {},
   "source": [
    "Außerdem besteht die Möglichkeit, mehrere Objekte durch Kommata getrennt auszugeben:"
   ]
  },
  {
   "cell_type": "code",
   "execution_count": null,
   "id": "9685033b-bb07-413c-aa4f-e986756e1014",
   "metadata": {},
   "outputs": [],
   "source": [
    "print(\"Ergebnis:\",5+5)\n",
    "print(\"Jean-Luc\", \"Picard\")"
   ]
  },
  {
   "cell_type": "markdown",
   "id": "1ed4afb1-17a9-4b41-8a55-5a2504a112d4",
   "metadata": {},
   "source": [
    "Beachten Sie, dass dabei zwischen den einzelnen Objekten kein Leerzeichen eingefügt wird.\n",
    "\n",
    "Wenn wir das nicht wollen, müssen wir die Objekte als zusammengesetzte Zeichenkette ausgeben:"
   ]
  },
  {
   "cell_type": "code",
   "execution_count": null,
   "id": "f333b651-4e0c-424f-ad60-65d01002c1b1",
   "metadata": {},
   "outputs": [],
   "source": [
    "print(\"Ergebnis:\"+str(5+5))"
   ]
  },
  {
   "cell_type": "markdown",
   "id": "45d11121-0519-4e50-a7bd-cc4c9f6e460e",
   "metadata": {},
   "source": [
    "Beachten Sie, dass hier eine explizite Konvertierung des Rechenergebnisses in eine Zeichenkette erforderlich ist, da sonst ein Fehler ausgegeben wird:"
   ]
  },
  {
   "cell_type": "code",
   "execution_count": null,
   "id": "23ca958e-3531-4c2d-92f1-b4256716a3da",
   "metadata": {},
   "outputs": [],
   "source": [
    "print(\"Ergebnis:\"+5+5)"
   ]
  },
  {
   "cell_type": "markdown",
   "id": "613bde4f-8d3d-4986-950b-9d02842925c6",
   "metadata": {},
   "source": [
    "## Eingabe mit `input`\n",
    "Manchmal möchten wir Eingaben von der Benutzerin oder dem Benutzer entgegegennehmen. Dazu können wir die Funktion `input()` verwenden.\n",
    "\n",
    "Mit dem Aufruf `input(s)` wird die Zeichenkette `s` ausgegeben, auf eine Eingabe gewartet (abzuschließen mit einem Zeilenumbruch), und der Ausdruck `input(s)` wird dann durch die Eingabe ersetzt:"
   ]
  },
  {
   "cell_type": "code",
   "execution_count": null,
   "id": "64677afc-2096-491c-90d8-1b24e9fe7883",
   "metadata": {},
   "outputs": [],
   "source": [
    "vorname = input(\"Wie lautet Ihr Vorname?\")\n",
    "print(\"Hallo \"+vorname+\"!\")"
   ]
  },
  {
   "cell_type": "markdown",
   "id": "a3187259-b142-4524-97e2-7c04d12d9293",
   "metadata": {},
   "source": [
    "Die Funktion `input()` liefert dabei immer Zeichenketten zurück. Wenn wir stattdessen die Eingabe als Zahl interpretieren wollen, so müssen wir mit einer Typumwandlung aus der Zeichenkette eine Zahl machen:"
   ]
  },
  {
   "cell_type": "code",
   "execution_count": null,
   "id": "34a77247-7494-40f0-943e-b81d89e28f28",
   "metadata": {},
   "outputs": [],
   "source": [
    "a=float(input(\"Von welcher Zahl soll die Wurzel berechnet werden?\"))\n",
    "g=float(input(\"Was ist die aktuelle Näherung?\"))\n",
    "g_next = (g+a/g)/2\n",
    "print(\"Die neue Näherung ist \"+str(g_next))"
   ]
  },
  {
   "cell_type": "markdown",
   "id": "ab5c64b6-12f8-49ae-87a3-5bdb3e514adc",
   "metadata": {},
   "source": [
    "## Verzweigungen\n",
    "An vielen Stellen in unseren Programmen müssen wir Entscheidungen treffen und davon abhängig dann unterschiedliche Programmteile ausführen.\n",
    "\n",
    "In Python haben wir dazu die `if`-Anweisung zur Verfügung:\n",
    "\n",
    "```\n",
    "if Bedingung:\n",
    "    Anweisung\n",
    "    Anweisung\n",
    "    ...\n",
    "Rest des Programms\n",
    "```\n",
    "\n",
    "- Ist die Bedingung erfüllt, werden die Anweisungen im `if`-Block ausgeführt, und danach der Rest des Programms fortgesetzt.\n",
    "- Ist die Bedingung nicht erfüllt, so werden die Anweisungen im `if`-Block **nicht** ausgeführt und direkt der Rest des Programms fortgesetzt.\n",
    "\n",
    "Wir können die `if`-Anweisung optional um `elif`-Teile mit weiteren Bedingungen sowie um einen `else`-Teil erweitern:\n",
    "```\n",
    "if Bedingung1:\n",
    "    Anweisung\n",
    "    Anweisung\n",
    "    ...\n",
    "elif Bedingung2:\n",
    "    Anweisung\n",
    "    Anweisung\n",
    "    ...\n",
    "elif Bedingung2:\n",
    "    Anweisung\n",
    "    Anweisung\n",
    "    ...\n",
    "else:\n",
    "    Anweisung\n",
    "    Anweisung\n",
    "    ...\n",
    "```\n",
    "\n",
    "Die Bedingungen werden von oben nach unten nacheinander ausgewertet, bis eine Bedingung wahr ist. Dann wird der zugehörige Anweisungsteil ausgeführt. Ist keine der Bedingungen erfüllt, wird der `else`-Teil ausgeführt.\n",
    "\n",
    "Der `else`-Teil kann im Übrigen auch weggelassen werden."
   ]
  },
  {
   "cell_type": "markdown",
   "id": "be996c29-e220-4cf5-b61b-ee8a143513b4",
   "metadata": {},
   "source": [
    "Auf diese Weise können wir z.B. Fehleingaben abfangen:"
   ]
  },
  {
   "cell_type": "code",
   "execution_count": null,
   "id": "56b99248-c634-4b03-ac87-328ee71be2e9",
   "metadata": {},
   "outputs": [],
   "source": [
    "a=float(input(\"Von welcher Zahl soll die Wurzel berechnet werden?\"))\n",
    "if a < 0:\n",
    "    print(\"FEHLER: Wurzel kann nur für nicht-negative Werte berechnet werden!\")\n",
    "else:\n",
    "    g=float(input(\"Was ist die aktuelle Näherung?\"))\n",
    "    g_next = (g+a/g)/2\n",
    "    print(\"Die neue Näherung ist \"+str(g_next))"
   ]
  },
  {
   "cell_type": "code",
   "execution_count": null,
   "id": "20d7f24d-87e8-45a0-b60d-c8abce4ca021",
   "metadata": {},
   "outputs": [],
   "source": [
    "a = float(input(\"Die Zahl a eingeben:\"))\n",
    "b = float(input(\"Die Zahl b eingeben:\"))\n",
    "if a < b:\n",
    "    print(\"a ist kleiner als b\")\n",
    "elif a == b:\n",
    "    print(\"a ist gleich b\")\n",
    "else:\n",
    "    print(\"a ist größer als b\")\n",
    "print(\"Auf Wiedersehen!\")"
   ]
  },
  {
   "cell_type": "markdown",
   "id": "a76cfaa3-6d38-4e42-99f0-07ef85b8c979",
   "metadata": {
    "jp-MarkdownHeadingCollapsed": true
   },
   "source": [
    "# Lektion 3: Schleifen und Funktionen"
   ]
  },
  {
   "cell_type": "markdown",
   "id": "4a5ee155-42d9-4404-b2e0-b4dafd926fd4",
   "metadata": {
    "jp-MarkdownHeadingCollapsed": true
   },
   "source": [
    "## Schleifen"
   ]
  },
  {
   "cell_type": "markdown",
   "id": "6070c942-9633-47c9-8f3f-f963e2ca0c40",
   "metadata": {
    "jp-MarkdownHeadingCollapsed": true
   },
   "source": [
    "In vielen Programmen müssen bestimmte Anweisungen mehrfach ausgeführt werden. Dazu verwenden wir Schleifenkonstrukte."
   ]
  },
  {
   "cell_type": "markdown",
   "id": "2a4dc953-74a1-4883-a7a5-99f1973c6f96",
   "metadata": {},
   "source": [
    "### `while`-Schleife\n",
    "Das einfachste dieser Konstrukte ist die `while`-Schleife:\n",
    "\n",
    "```\n",
    "while Bedingung:\n",
    "    Anweisung\n",
    "    ...\n",
    "Rest des Programms\n",
    "```\n",
    "\n",
    "Die Anweisung im sogenannten **Schleifenrumpf** wird so lange wiederholt, wie die angegebene Bedingung erfüllt ist."
   ]
  },
  {
   "cell_type": "markdown",
   "id": "de436607-3cc7-4993-98ed-c771968de03c",
   "metadata": {},
   "source": [
    "#### Umsetzung des Heron-Verfahrens in Python\n",
    "Das Heron-Verfahren kennen wir aus der ersten Lektion als Verfahren zur näherungsweisen Ermittlung der Quadratwurzel. Um es mit Hilfe der `while`-Schleife umsetzen zu können, müssen wir lediglich noch die Schleifenbedingung konkretisieren. Bisher haben wir nur allgemein formuliert, dass die Abweichung des Quadrats `g**2` \"nahe genug\" an der angegebenen Zahl `x` liegt.\n",
    "\n",
    "Wir definieren dazu den Fehler `g**2-a` und legen fest, dass der **Absolutwert** dieses Fehlers kleiner als `0.01` sein soll. Der Code sieht dann wie folgt aus:"
   ]
  },
  {
   "cell_type": "code",
   "execution_count": null,
   "id": "6cef1c43-3122-4402-9836-18084d93164d",
   "metadata": {},
   "outputs": [],
   "source": [
    "g=1\n",
    "a=float(input(\"Zahl eingeben, deren Wurzel berechnet werden soll:\"))\n",
    "while not abs(g**2-a) < 1E-4:\n",
    "    print(\"Schätzung:\"+str(g))\n",
    "    g = (g + a/g) / 2\n",
    "print(\"Das Ergebnis lautet \"+str(g))"
   ]
  },
  {
   "cell_type": "markdown",
   "id": "0fbef319-62ac-4e90-893e-0033108829b2",
   "metadata": {},
   "source": [
    "Geben wir hier eine negative Zahl ein, wird die Schleife endlos laufen, da das Quadrat der Schätzung niemals negativ werden kann."
   ]
  },
  {
   "cell_type": "markdown",
   "id": "ded8bd1c-ea37-454a-a25b-7bab5d25aa9a",
   "metadata": {},
   "source": [
    "### Die `for`-Schleife\n",
    "Häufig schreiben wir eine Schleife, die eine Folge von Zahlen durchlaufen muss.\n",
    "\n",
    "Im folgenden Beispiel etwa werden alle zulässigen Indices in eine Zeichenkette durchlaufen, um die Anzahl der Leerzeichen in der Zeichenkette zu zählen. Die Index-Variable `i` wird dabei zunächst auf `0` (den ersten Index) gesetzt und dann in der Schleife wiederholt um 1 erhöht. Die Schleife läuft so lange, wie `i` kleiner als die Länge der Zeichenkette ist. So durchläuft `i` die Werte von `0` bis `len(s)-1` (jeweils einschließlich).\n",
    "\n",
    "**Frage**: Wie oft wird der Schleifenrumpf durchlaufen, wenn wir eine leere Zeichenkette eingeben?"
   ]
  },
  {
   "cell_type": "code",
   "execution_count": null,
   "id": "62be9477-9e21-4f32-aa2f-7409ef6e1d33",
   "metadata": {},
   "outputs": [],
   "source": [
    "s=input(\"Zeichenkette eingeben:\")\n",
    "spacecount=0\n",
    "i=0\n",
    "while i < len(s):\n",
    "    if s[i]==' ':\n",
    "        spacecount = spacecount + 1\n",
    "    i = i + 1\n",
    "print(\"Die Zeichenkette enthält \"+str(spacecount)+\" Leerzeichen\")"
   ]
  },
  {
   "cell_type": "markdown",
   "id": "5f8d6e65-e7a0-443c-94d0-cdc41a44187f",
   "metadata": {},
   "source": [
    "Für diese Art von Schleifen gibt es ein einfacher zu verwendendes Konstrukt: Die `for`-Schleife.\n",
    "\n",
    "Um etwa den obigen Ablauf mit einer `for`-Schleife umzusetzen, können wir den folgenden Code verwenden:"
   ]
  },
  {
   "cell_type": "code",
   "execution_count": null,
   "id": "f0a148ba-eb47-4317-9c2c-9e55b48646f7",
   "metadata": {},
   "outputs": [],
   "source": [
    "s=input(\"Zeichenkette eingeben:\")\n",
    "spacecount=0\n",
    "for i in range(len(s)):\n",
    "    if s[i]==' ':\n",
    "        spacecount = spacecount + 1\n",
    "print(\"Die Zeichenkette enthält \"+str(spacecount)+\" Leerzeichen\")"
   ]
  },
  {
   "attachments": {},
   "cell_type": "markdown",
   "id": "b2ed3f91-c94e-417f-9e87-b7d01144df4c",
   "metadata": {},
   "source": [
    "Die `for`-Schleife hat die grundlegende Form:\n",
    "\n",
    "```\n",
    "for Variable in range(n):\n",
    "    Anweisung\n",
    "    ...\n",
    "Rest des Programms\n",
    "```\n",
    "\n",
    "Dabei durchläuft die angegebene Variable die Werte von `0` bis `n-1` (jeweils einschließlich).\n",
    "Der Schleifenrumpf wird für jeden Wert einmal durchlaufen, und dabei ist die Variable jeweils an den aktuellen Wert gebunden.\n",
    "\n",
    "Die Funktion `range` bietet uns dabei einige Möglichkeiten:\n",
    "- `range(stop)` - Zählt von `0` bis `stop-1`\n",
    "- `range(start,stop)` - Zählt von `start` bis `stop-1`\n",
    "- `range(start,stop,step)` - Zählt mit der Schrittweite `step`\n",
    "    - Ist `step` positiv, so werden alle Werte `n=start+k*step` durchlaufen, für die `start <= n < stop` gilt\n",
    "    - Ist `step` negativ, so werden alle Werte `n=start+k*step` durchlaufen, für die `stop < n <= start` gilt.\n",
    "\n",
    "Damit können wir zum Beispiel den Start-Countdown einer Rakete wie folgt ausgeben:"
   ]
  },
  {
   "cell_type": "code",
   "execution_count": null,
   "id": "20621ef2-ef60-4e20-91b2-6ac9d102c4c1",
   "metadata": {},
   "outputs": [],
   "source": [
    "for i in range(10,0,-1):\n",
    "    print(i)\n",
    "print(\"We have lift-off!\")"
   ]
  },
  {
   "cell_type": "markdown",
   "id": "cdd627f6-ef1f-4e01-b20b-52c407e9cc28",
   "metadata": {},
   "source": [
    "### `for`-Schleife und Zeichenketten\n",
    "Mit der `for`-Schleife können wir auch einfach Zeichenketten durchlaufen:"
   ]
  },
  {
   "cell_type": "code",
   "execution_count": null,
   "id": "74ae82b6-5769-4303-8b51-5a2aa41d69db",
   "metadata": {},
   "outputs": [],
   "source": [
    "s=input(\"Zeichenkette eingeben:\")\n",
    "spacecount=0\n",
    "for ch in s:\n",
    "    if ch==' ':\n",
    "        spacecount = spacecount + 1\n",
    "print(\"Die Zeichenkette enthält \"+str(spacecount)+\" Leerzeichen\")"
   ]
  },
  {
   "cell_type": "markdown",
   "id": "0af5bbbc-99c9-474c-ae44-d6231d125b3b",
   "metadata": {},
   "source": [
    "Hier wird die Indexzählung implizit für uns übernommen: Die Variable `ch` durchläuft alle Zeichen der Zeichenkette von vorne nach hinten.\n",
    "\n",
    "Etwas allgemeiner formuliert sieht die `for`-Schleife wie folgt aus:\n",
    "```\n",
    "for Variable in Sequenz:\n",
    "    Anweisung\n",
    "    ...\n",
    "Rest des Programms\n",
    "```\n",
    "\n",
    "Die Funktion `range()` liefert eine Sequenz, und Zeichenketten sind Sequenzen von Zeichen. Wir werden im weiteren Verlauf noch weitere Arten von Sequenzen kennenlernen."
   ]
  },
  {
   "cell_type": "markdown",
   "id": "88e114b3-f4f1-416b-9c08-73926273450f",
   "metadata": {},
   "source": [
    "## Funktionen"
   ]
  },
  {
   "cell_type": "markdown",
   "id": "dddeb2b8-cb3f-40d2-a018-c981bc0d1a04",
   "metadata": {},
   "source": [
    "Wir nutzen Funktionen, um\n",
    "\n",
    "- Programme in Komponenten aufzuteilen (Dekomposition), die unabhängig voneinander betrachtet und entwickelt werden können, und\n",
    "- um Code wiederverwendbar zu machen.\n",
    "\n",
    "Dabei beschreiben wir eine **Schnittstelle**, die definiert, welche Eingaben die Funktion erhält, welche Ausgabe sie liefert und welche Aufgabe sie erfüllt. Diese sogenannte **Spezifikation** beschreibt dabei nur, **was** die Funktion tun soll, und nicht, **wie** sie es tut.\n",
    "\n",
    "In Python werden Funktionen wie folgt beschrieben:\n",
    "\n",
    "```\n",
    "def Name(Parameterliste):\n",
    "    Anweisung\n",
    "    ...\n",
    "```\n",
    "\n",
    "Diese Anweisung definiert die Funktion `Name` mit den in der Parameterliste angegebenen **Parametern**. Die Parameterliste ist dabei eine komma-getrennte Liste von Namen, und kann auch leer sein. Die angegebenen Namen werden zu Variablen, die in der Funktion verwendet werden können, und die anfänglich den Wert erhalten, der beim Aufruf übergeben wird.\n",
    "\n",
    "Hier ein Beispiel für eine Funktion, die den größten gemeinsamen Teiler zweier positiver Zahlen berechnet:"
   ]
  },
  {
   "cell_type": "code",
   "execution_count": null,
   "id": "8906b0fd-8aae-43fa-ba22-bd33f0af0d87",
   "metadata": {},
   "outputs": [],
   "source": [
    "def ggt(a,b):\n",
    "    while a != b:\n",
    "        if a > b:\n",
    "            a = a - b\n",
    "        else:\n",
    "            b = b -a\n",
    "    return a"
   ]
  },
  {
   "cell_type": "markdown",
   "id": "f38cc631-01db-414c-804a-5a1d3bf29402",
   "metadata": {},
   "source": [
    "Um die Funktion aufzurufen, schreiben wir den Namen der Funktion, gefolgt von der eingeklammerten Liste der Werte der Parameter:"
   ]
  },
  {
   "cell_type": "code",
   "execution_count": null,
   "id": "ef6fe824-9d66-4989-96ba-c7af400f08cf",
   "metadata": {},
   "outputs": [],
   "source": [
    "ggt(15,5)"
   ]
  },
  {
   "cell_type": "markdown",
   "id": "4de345e4-1ce6-4958-83d7-2ebde9f68e63",
   "metadata": {},
   "source": [
    "Wir können natürlich auch ein komplexeres Programm damit schreiben:"
   ]
  },
  {
   "cell_type": "code",
   "execution_count": null,
   "id": "3d2fe0a4-99ff-4b4f-8a80-93e4756e17cc",
   "metadata": {},
   "outputs": [],
   "source": [
    "a = int(input(\"Geben Sie eine natürliche Zahl ein:\"))\n",
    "b = int(input(\"Geben Sie noch eine natürliche Zahl ein:\"))\n",
    "print(\"Der größte gemeinsame Teiler von \"+str(a)+\" und \"+str(b)+\" ist \"+str(ggt(a,b)))"
   ]
  },
  {
   "cell_type": "markdown",
   "id": "7dd1cb11-c290-442a-afc5-d88bcd4d2bf1",
   "metadata": {},
   "source": [
    "### `return`-Anweisung\n",
    "Wir haben bereits die `return`-Anweisung gesehen. Sie definiert den Rückgabewert der Funktion - also den Wert, durch den der Aufrufausdruck ersetzt wird. Außerdem beendet er die Ausführung der Funktion.\n",
    "\n",
    "Die Anweisung hat die Form `return Ausdruck`. Der Ausdruck wird ausgewertet und das Ergebnis ist der Rückgabewert der Funktion.\n",
    "\n",
    "Wird der Ausdruck nicht angegeben, so wird der besondere Wert `None` zurückgegeben."
   ]
  },
  {
   "cell_type": "markdown",
   "id": "31bb5392-4e2e-47c4-8001-4069b73ce23d",
   "metadata": {},
   "source": [
    "Im folgenden Beispiel wird die Funktion `bevor` definiert, die `True` zurückgibt, wenn der erste Name im Telefonbuch vor dem zweiten käme:"
   ]
  },
  {
   "cell_type": "code",
   "execution_count": null,
   "id": "98a52451-179d-4e7b-adde-e70a6d121252",
   "metadata": {},
   "outputs": [],
   "source": [
    "def bevor(nachname1, vorname1, nachname2, vorname2):\n",
    "    if nachname1 < nachname2:\n",
    "        return True\n",
    "    if nachname1 > nachname2:\n",
    "        return False\n",
    "    if vorname1 < vorname2:\n",
    "        return True\n",
    "    return False"
   ]
  },
  {
   "cell_type": "markdown",
   "id": "a069e655-9818-44be-bd82-fa90e7d6eaa6",
   "metadata": {},
   "source": [
    "Wir können die Funktion zum Beispiel wie folgt verwenden:"
   ]
  },
  {
   "cell_type": "code",
   "execution_count": null,
   "id": "08ea4ed1-2809-43a1-ade7-5b4abd3f152c",
   "metadata": {},
   "outputs": [],
   "source": [
    "nachname1 = input(\"Geben Sie den Nachnamen von Person 1 ein:\")\n",
    "vorname1 = input(\"Geben Sie den Vornamen von Person 1 ein:\")\n",
    "nachname2 = input(\"Geben Sie den Nachnamen von Person 2 ein:\")\n",
    "vorname2 = input(\"Geben Sie den Vornamen von Person 2 ein:\")\n",
    "if bevor(nachname1, vorname1, nachname2, vorname2):\n",
    "    print(\"Person 1 kommt vor Person 2 im Telefonbuch\")\n",
    "else:\n",
    "    print(\"Person 1 kommt nicht vor Person 2 im Telefonbuch\")"
   ]
  },
  {
   "cell_type": "markdown",
   "id": "17a1dfb9-9686-4df5-ab97-8c17c77eeeed",
   "metadata": {},
   "source": [
    "### Dokumentation\n",
    "Dokumentation ist hilfreich, wenn Sie Code von Dritten (oder Ihren eigenen) verstehen oder verwenden wollen.\n",
    "\n",
    "Dabei gibt es zwei Varianten in Python:\n",
    "- Kommentare im Code (werden von Python ignoriert)\n",
    "- Docstrings: Können über die Funktion `help()` abgerufen werden\n",
    "\n",
    "Ein Beispiel für die Verwendung der Hilfe:"
   ]
  },
  {
   "cell_type": "code",
   "execution_count": null,
   "id": "8c0e029a-5437-438f-97ee-1105aba37768",
   "metadata": {},
   "outputs": [],
   "source": [
    "help(len)"
   ]
  },
  {
   "cell_type": "markdown",
   "id": "9030f67d-88c8-4d88-a5c9-3d968a06a668",
   "metadata": {},
   "source": [
    "#### Kommentare\n",
    "Kommentare werden mit einem `#`-Zeichen (Gartenzaun, engl. \"hash\") eingeleitet und erstrecken sich ab dort bis zum Ende der Zeile. Das `#` und der Rest der Zeile werden dann von Python ignoriert.\n",
    "\n",
    "Ein Beispiel:"
   ]
  },
  {
   "cell_type": "code",
   "execution_count": null,
   "id": "f08bc6b1-6f3c-4ac3-877d-71741b45478b",
   "metadata": {},
   "outputs": [],
   "source": [
    "g=1 # Anfangsschätzung\n",
    "a=float(input(\"Zahl eingeben, deren Wurzel berechnet werden soll:\"))\n",
    "while not abs(g*g-a) < 0.01:\n",
    "    print(\"Schätzung:\"+str(g))\n",
    "    g = (g + a/g) / 2   # Schätzung aktualisieren\n",
    "print(\"Das Ergebnis lautet \"+str(g))"
   ]
  },
  {
   "cell_type": "markdown",
   "id": "54861773-e23c-4585-a259-ef6a594de99b",
   "metadata": {},
   "source": [
    "#### Docstrings\n",
    "Docstrings werden als Long-String am Anfang einer Funktion dargestellt:"
   ]
  },
  {
   "cell_type": "code",
   "execution_count": null,
   "id": "551d4178-c030-4616-a829-8c9c02c16a1b",
   "metadata": {},
   "outputs": [],
   "source": [
    "def ggt(a,b):\n",
    "    \"\"\"Berechne den größten gemeinsamen Teiler von a und b\n",
    "    Eingaben:\n",
    "        a, b: positive Ganzzahlen\n",
    "    \"\"\"\n",
    "    while a != b:\n",
    "        if a > b:\n",
    "            a = a - b\n",
    "        else:\n",
    "            b = b -a\n",
    "    return a"
   ]
  },
  {
   "cell_type": "markdown",
   "id": "b594b8ef-1e04-4ed4-b897-46d0ecf8bb65",
   "metadata": {},
   "source": [
    "Sie können dann über die `help()`-Funktion abgerufen werden."
   ]
  },
  {
   "cell_type": "code",
   "execution_count": null,
   "id": "d31296c2-77fa-4319-a353-3bb829e3c99c",
   "metadata": {},
   "outputs": [],
   "source": [
    "help(ggt)"
   ]
  },
  {
   "cell_type": "markdown",
   "id": "32df29c7-cc38-4c61-9650-b51d7a438f4d",
   "metadata": {
    "jp-MarkdownHeadingCollapsed": true
   },
   "source": [
    "# Lektion 4: Tupel und Listen"
   ]
  },
  {
   "cell_type": "markdown",
   "id": "c2089d2a-7919-47f9-b486-2a094b8b9939",
   "metadata": {},
   "source": [
    "Bisher haben wir vor allem mit einzelnen Objekten gearbeitet, z.B. einzelnen Zahlen oder einzelnen Strings. In manchen Fällen müssen wir jedoch mehrere Objekte als Gesamtheit betrachten.\n",
    "\n",
    "Ein Beispiel: In einem Telefonbuch sind Namen und Telefonnummern aufgelistet. Jeder Eintrag besteht also aus beidem: einem Namen und einer Telefonnummer. Wir möchten nun eine Suchfunktion schreiben, die zu einem Namen die Telefonnummer liefert.\n",
    "\n",
    "Unser erstes Problem dabei ist: Wie repräsentieren wir unsere Daten in einer Form, die Python unterstützt?\n",
    "\n",
    "Wir könnten zwei Listen aufstellen: Eine enthält alle Namen und die andere enthält alle Nummern. Steht ein Name am Index `i` in der Namensliste, dann steht die zugehörige Nummer am Index `i` in der Nummernliste.\n",
    "\n",
    "Das wird relativ schnell unhandlich, wenn wir mehr als nur eine Telefonnummer zu dem Namen speichern wollen: Straßenname, Straßennummer, Postleitzahl, Ort, usw.\n",
    "\n",
    "Stattdessen können wir in Python **Listen** und **Tupel** verwenden. Sie gehören zur Obergruppe der Sequenzen, zu denen übrigens auch die Strings gehören (ein String ist eine Sequenz von Zeichen).\n",
    "\n",
    "Sequenzen sind sogenannte **indexierbar**. Das heißt, dass wir auf einzelne Elemente zugreifen können, indem wir ihren Index angeben. Der Index ist die fortlaufende Nummer des Eintrags in der Sequenz. Wir können hier direkt übertragen, was wir schon bei den Zeichenketten gelernt haben."
   ]
  },
  {
   "cell_type": "markdown",
   "id": "9e9d7ba6-1a0c-455c-a286-e75cc949c135",
   "metadata": {
    "jp-MarkdownHeadingCollapsed": true
   },
   "source": [
    "## Tupel"
   ]
  },
  {
   "cell_type": "markdown",
   "id": "75eed75d-d941-4c08-9853-ff6ae83b6277",
   "metadata": {},
   "source": [
    "Tupel sind unveränderliche Sequenzen beliebiger Objekte. Unveränderlich heißt, dass wir zwar die Elemente der Sequenz auslesen, aber nicht verändern können.\n",
    "\n",
    "Tupel schreiben wir in runde Klammern. Ein paar Beispiele:\n",
    "- Leeres Tupel: `()`\n",
    "- Tupel mit nur einem Element: `(125,)`  (**Wichtig**: Ohne Komma ist das nur eine Zahl in Klammern!)\n",
    "- Tupel mit mehreren Elementen: `(\"HFU\", 125, 3.0)`\n",
    "- Alternativ: `t=\"HFU\", 125, 3.0`"
   ]
  },
  {
   "cell_type": "markdown",
   "id": "33dcb0e9-0a47-47c3-b26f-263bc639b93c",
   "metadata": {},
   "source": [
    "Auch hier funktionieren Elementzugriff und Slicing wie bei Strings:"
   ]
  },
  {
   "cell_type": "code",
   "execution_count": null,
   "id": "0c622546-3553-476c-bb6d-99d5012a7e4e",
   "metadata": {},
   "outputs": [],
   "source": [
    "t = \"HFU\", 125, 3.0\n",
    "t[0]"
   ]
  },
  {
   "cell_type": "code",
   "execution_count": null,
   "id": "7355caee-4149-4abb-9866-0d886899968c",
   "metadata": {},
   "outputs": [],
   "source": [
    "t[2]"
   ]
  },
  {
   "cell_type": "markdown",
   "id": "bcd05043-1281-4fe1-95a0-e4a03545094b",
   "metadata": {},
   "source": [
    "Auch hier sind die Indices Null-basiert, d.h. das erste Element hat den Index 0.\n",
    "\n",
    "Ebenso ist auch hier Slicing möglich:"
   ]
  },
  {
   "cell_type": "code",
   "execution_count": null,
   "id": "ea72b794-819e-42a4-bb3a-fe060c175d66",
   "metadata": {},
   "outputs": [],
   "source": [
    "t[0:2]"
   ]
  },
  {
   "cell_type": "markdown",
   "id": "7a94f668-47d9-44f8-8a11-f9c4b14effb3",
   "metadata": {},
   "source": [
    "Auch die Länge kann bestimmt werden:"
   ]
  },
  {
   "cell_type": "code",
   "execution_count": null,
   "id": "cdb274e2-6f92-4f0e-9c26-65b2cd2621e7",
   "metadata": {},
   "outputs": [],
   "source": [
    "len(t)"
   ]
  },
  {
   "cell_type": "markdown",
   "id": "cf7bb084-5399-45ee-ace1-b45005706aeb",
   "metadata": {},
   "source": [
    "### Unpacking\n",
    "Bei einer Zuweisung kann links des Gleichheitszeichens auch ein Tupel von Variablen stehen. Damit kann man zum Beispiel recht einfach die Werte von zwei Variablen vertauschen:"
   ]
  },
  {
   "cell_type": "code",
   "execution_count": null,
   "id": "4e20bb2d-34b2-428e-8b08-857f83fd7b1e",
   "metadata": {},
   "outputs": [],
   "source": [
    "x = 1\n",
    "y = 2\n",
    "x, y = y, x\n",
    "x,y"
   ]
  },
  {
   "cell_type": "markdown",
   "id": "e6fb5ee5-1e25-4f00-8e58-9901730ed8e7",
   "metadata": {},
   "source": [
    "Dies nennt man **Unpacking**.\n",
    "\n",
    "Es ist auch hilfreich, wenn eine Funktion mehrere Rückgabewerte liefern soll. Ein Beispiel wäre eine Funktion, die sowohl den Quotienten als auch den Rest einer Ganzzahldivision liefern soll:"
   ]
  },
  {
   "cell_type": "code",
   "execution_count": null,
   "id": "3d535b06-9207-4ea2-a322-f9d22b56d765",
   "metadata": {},
   "outputs": [],
   "source": [
    "def quotient_und_rest(x, y):\n",
    "    q = x // y\n",
    "    r = x % y\n",
    "    return (q, r)"
   ]
  },
  {
   "cell_type": "markdown",
   "id": "b7351d87-ba0b-423b-b210-8253d50673bc",
   "metadata": {},
   "source": [
    "Das Ergebnis können wir als Tupel erhalten..."
   ]
  },
  {
   "cell_type": "code",
   "execution_count": null,
   "id": "ed35ea1b-43d3-4e7e-bb08-03b5833bed06",
   "metadata": {},
   "outputs": [],
   "source": [
    "t = quotient_und_rest(-19, 2)\n",
    "t"
   ]
  },
  {
   "cell_type": "markdown",
   "id": "215dd556-c423-4b04-90b9-20b359990ece",
   "metadata": {},
   "source": [
    "...oder wir können es in verschiedene Variablen entpacken:"
   ]
  },
  {
   "cell_type": "code",
   "execution_count": null,
   "id": "813bb8c7-40d3-4d14-99fd-49d1093df3d1",
   "metadata": {},
   "outputs": [],
   "source": [
    "quotient, rest = quotient_und_rest(-19, 2)\n",
    "quotient"
   ]
  },
  {
   "cell_type": "code",
   "execution_count": null,
   "id": "3d8a5236-9bd8-4670-875e-0e508596cdf8",
   "metadata": {},
   "outputs": [],
   "source": [
    "rest"
   ]
  },
  {
   "cell_type": "markdown",
   "id": "7d07c709-46f1-4907-8964-5151ff4844a4",
   "metadata": {
    "jp-MarkdownHeadingCollapsed": true
   },
   "source": [
    "## Sequenzen"
   ]
  },
  {
   "cell_type": "markdown",
   "id": "e8539168-3646-452c-9f86-0f85354099b3",
   "metadata": {},
   "source": [
    "Sequenzen wie Strings und Tupel unterstützen allesamt eine Reihe von Basisoperationen.\n",
    "\n",
    "Darunter **Verkettung**:"
   ]
  },
  {
   "cell_type": "code",
   "execution_count": null,
   "id": "10293098-b7e8-4f68-a220-ec30b60320a3",
   "metadata": {},
   "outputs": [],
   "source": [
    "(1,2)+(3,4)"
   ]
  },
  {
   "cell_type": "markdown",
   "id": "8035c2b0-2072-40e1-80d8-38aec04607ba",
   "metadata": {},
   "source": [
    "...**Vervielfältigung**:"
   ]
  },
  {
   "cell_type": "code",
   "execution_count": null,
   "id": "f35e1804-e2e8-4611-abd2-5ecfb0c30673",
   "metadata": {},
   "outputs": [],
   "source": [
    "(1,2)*5"
   ]
  },
  {
   "cell_type": "markdown",
   "id": "daa20f0b-86bf-4d7c-8636-7e88e92ecc7d",
   "metadata": {},
   "source": [
    "...**Indexzugriff**:"
   ]
  },
  {
   "cell_type": "code",
   "execution_count": null,
   "id": "db33a2fe-c64b-4ef4-aa89-26fb25316eab",
   "metadata": {},
   "outputs": [],
   "source": [
    "t=(1,2,3,4)\n",
    "t[2]"
   ]
  },
  {
   "cell_type": "code",
   "execution_count": null,
   "id": "8409b8c0-575b-4b1d-bfd7-9b793e4a8ea7",
   "metadata": {},
   "outputs": [],
   "source": [
    "t[1:3]"
   ]
  },
  {
   "cell_type": "code",
   "execution_count": null,
   "id": "e05eb3dc-8058-48bd-8806-e6acf9c75681",
   "metadata": {},
   "outputs": [],
   "source": [
    "t[::2]"
   ]
  },
  {
   "cell_type": "markdown",
   "id": "31b96b87-d0d7-4e2f-bd3e-58c7a66d50ff",
   "metadata": {},
   "source": [
    "...**Bestimmung der Länge**:"
   ]
  },
  {
   "cell_type": "code",
   "execution_count": null,
   "id": "0b962a9e-8477-4001-b0f0-4276dafce7bc",
   "metadata": {},
   "outputs": [],
   "source": [
    "len(t)"
   ]
  },
  {
   "cell_type": "markdown",
   "id": "8e0fd357-a13a-4ebb-93d5-3fb30d77ae8e",
   "metadata": {},
   "source": [
    "...**Bestimmung des kleinsten**..."
   ]
  },
  {
   "cell_type": "code",
   "execution_count": null,
   "id": "8c6e1df9-e716-4b43-a148-1c66f5840a76",
   "metadata": {},
   "outputs": [],
   "source": [
    "u=('Regina', 'Alfred', 'Stefan', 'Pierre')\n",
    "min(u)"
   ]
  },
  {
   "cell_type": "markdown",
   "id": "de1c2339-ca04-471e-908b-78dd2cd111c9",
   "metadata": {},
   "source": [
    "...**und des größten Elements**:"
   ]
  },
  {
   "cell_type": "code",
   "execution_count": null,
   "id": "7cf8a8a5-2911-42bf-804f-8f8259c66a16",
   "metadata": {},
   "outputs": [],
   "source": [
    "max(u)"
   ]
  },
  {
   "cell_type": "markdown",
   "id": "6da335e0-15b1-4179-9dff-c5155becd689",
   "metadata": {},
   "source": [
    "...und einige mehr."
   ]
  },
  {
   "cell_type": "markdown",
   "id": "d4e124a0-96b0-492f-80bb-049b8bd52f78",
   "metadata": {},
   "source": [
    "### Probieren Sie selbst!"
   ]
  },
  {
   "cell_type": "code",
   "execution_count": null,
   "id": "20cc08ad-f0ea-4f40-9b7e-e15610930d0c",
   "metadata": {},
   "outputs": [],
   "source": [
    "l1 = (5,)\n",
    "l2 = ('+',)\n",
    "l3 = (3,)\n",
    "l4 = l3+l2+l1"
   ]
  },
  {
   "cell_type": "markdown",
   "id": "f7b9774c-05b3-4bc9-9ccf-50cb5ba3f0a5",
   "metadata": {},
   "source": [
    "Welchen Wert hat `l4`?"
   ]
  },
  {
   "cell_type": "code",
   "execution_count": null,
   "id": "286947eb-dfba-4aa9-919e-febf006aefc8",
   "metadata": {},
   "outputs": [],
   "source": []
  },
  {
   "cell_type": "markdown",
   "id": "5bf89fbf-cbd6-4b46-b213-3f84b4b88853",
   "metadata": {},
   "source": [
    "Welchen Wert hat `l4[2]`?"
   ]
  },
  {
   "cell_type": "code",
   "execution_count": null,
   "id": "5b304a3d-e861-40c2-a9f1-378e44c187fc",
   "metadata": {},
   "outputs": [],
   "source": []
  },
  {
   "cell_type": "markdown",
   "id": "a2e6908b-fc8c-46e3-80cb-77eb2ba8bc0b",
   "metadata": {
    "jp-MarkdownHeadingCollapsed": true
   },
   "source": [
    "## Sequenzen und `for`-Schleifen "
   ]
  },
  {
   "cell_type": "markdown",
   "id": "3c7a3061-69ca-4adf-be50-77cc1a84241e",
   "metadata": {},
   "source": [
    "In Lektion 3 haben wir wie folgt die Anzahl der Leerzeichen in einem String gezählt:"
   ]
  },
  {
   "cell_type": "code",
   "execution_count": null,
   "id": "8962dee2-5ed4-41ad-a4bc-8e866e806efc",
   "metadata": {},
   "outputs": [],
   "source": [
    "s=input(\"Zeichenkette eingeben:\")\n",
    "spacecount=0\n",
    "for ch in s:\n",
    "    if ch==' ':\n",
    "        spacecount = spacecount + 1\n",
    "print(\"Die Zeichenkette enthält \"+str(spacecount)+\" Leerzeichen\")"
   ]
  },
  {
   "cell_type": "markdown",
   "id": "6069c03d-432c-496a-ba6b-ca1dbd510502",
   "metadata": {},
   "source": [
    "Tatsächlich können wir dieses Konstrukt auf alle Arten von Sequenzen anwenden: Zeichenketten, Tupel, Ranges, etc."
   ]
  },
  {
   "cell_type": "markdown",
   "id": "946c0c01-19ae-4c38-9288-3b7f0ac6738a",
   "metadata": {},
   "source": [
    "### Probieren Sie selbst!"
   ]
  },
  {
   "cell_type": "markdown",
   "id": "f9c75689-61a7-4a6b-8bc7-7052dce3cd18",
   "metadata": {},
   "source": [
    "Schreiben Sie die Funktion `summe`:"
   ]
  },
  {
   "cell_type": "code",
   "execution_count": null,
   "id": "5506a088-00aa-490a-aa48-f43ea88d35b2",
   "metadata": {},
   "outputs": [],
   "source": [
    "def summe(liste):\n",
    "    \"\"\"liste ist ein Tupel von Zahlen.\n",
    "    Geben Sie die Summe aller Zahlen im Tupel zurück.\"\"\"\n",
    "    # TODO\n",
    "    pass"
   ]
  },
  {
   "cell_type": "markdown",
   "id": "a3ed45ff-03ae-4664-b900-72d1282607c5",
   "metadata": {},
   "source": [
    "Testen Sie die Funktion mit dem Aufruf:"
   ]
  },
  {
   "cell_type": "code",
   "execution_count": null,
   "id": "463ccf43-f4af-41e4-8dfd-74ed8053d837",
   "metadata": {},
   "outputs": [],
   "source": [
    "summe((19,81,2,20))"
   ]
  },
  {
   "cell_type": "markdown",
   "id": "685d01ee-0f2b-4b6e-848b-798e57b9dcc6",
   "metadata": {},
   "source": [
    "### Variable Parameterzahl"
   ]
  },
  {
   "cell_type": "markdown",
   "id": "77374b64-7ce0-48f6-9063-f13fe65c0464",
   "metadata": {},
   "source": [
    "Funktionen können auch eine variable Anzahl von Parametern erhalten:"
   ]
  },
  {
   "cell_type": "code",
   "execution_count": null,
   "id": "35849839-8619-40d1-aced-b7a7394f1322",
   "metadata": {},
   "outputs": [],
   "source": [
    "def mittelwert(*werte):\n",
    "    tot = 0\n",
    "    for w in werte:\n",
    "        tot += w  # Kurzschreibweise für tot = tot + w\n",
    "    return tot / len(werte)"
   ]
  },
  {
   "cell_type": "markdown",
   "id": "9696a6cb-e384-4297-a770-70e0be973b40",
   "metadata": {},
   "source": [
    "`werte` wird hier an ein Tupel aller übergebenen Objekte gebunden:"
   ]
  },
  {
   "cell_type": "code",
   "execution_count": null,
   "id": "f55717b3-1a2a-44c4-b4e7-ed9b075078c5",
   "metadata": {},
   "outputs": [],
   "source": [
    "mittelwert(1,5,7,10)"
   ]
  },
  {
   "cell_type": "markdown",
   "id": "183886de-dac2-4ecc-b363-77a6054aca5a",
   "metadata": {},
   "source": [
    "Python bietet auch einige Funktionen dieser Art von Haus aus:"
   ]
  },
  {
   "cell_type": "code",
   "execution_count": null,
   "id": "2c69de6e-6196-4c86-8d06-7646f4874bbb",
   "metadata": {},
   "outputs": [],
   "source": [
    "min(5,7,1,10)"
   ]
  },
  {
   "cell_type": "code",
   "execution_count": null,
   "id": "77cac776-84f7-4390-bde5-1f7ec09afc33",
   "metadata": {},
   "outputs": [],
   "source": [
    "max(5,7,1,10)"
   ]
  },
  {
   "cell_type": "markdown",
   "id": "dddd07fa-36dd-4b0d-bbac-bd03d95f6806",
   "metadata": {},
   "source": [
    "### Probieren Sie selbst!"
   ]
  },
  {
   "cell_type": "markdown",
   "id": "4dcb4e80-a026-40a9-beaa-179de020c939",
   "metadata": {},
   "source": [
    "Schreiben Sie die Funktion `summe_und_produkt`:"
   ]
  },
  {
   "cell_type": "code",
   "execution_count": null,
   "id": "0d7d8f07-955b-4b12-beed-68b1496436db",
   "metadata": {},
   "outputs": [],
   "source": [
    "def summe_und_produkt(*werte):\n",
    "    \"\"\"Werte ist eine Sequenz von Zahlen.\n",
    "    Geben Sie ein Tupel zurück, dessen erstes Element\n",
    "    die Summe aller Zahlen und das zweite Element\n",
    "    das Produkt aller Zahlen ist.\"\"\"\n",
    "    # TODO\n",
    "    pass"
   ]
  },
  {
   "cell_type": "code",
   "execution_count": null,
   "id": "90fe2536-8d7f-4a80-b0c0-de3042381081",
   "metadata": {},
   "outputs": [],
   "source": [
    "summe_und_produkt(2,3,4)"
   ]
  },
  {
   "cell_type": "markdown",
   "id": "47872c4c-1a7d-46b3-bba7-053dfd769881",
   "metadata": {},
   "source": [
    "### Weitere Sequenzoperationen"
   ]
  },
  {
   "cell_type": "markdown",
   "id": "34eb6a2a-ca0e-4ad5-b9fa-e13306b49413",
   "metadata": {},
   "source": [
    "#### `count()`"
   ]
  },
  {
   "cell_type": "markdown",
   "id": "20058ce3-207a-496b-b6e8-a0bbdb2841a1",
   "metadata": {},
   "source": [
    "`s.count()` liefert die Anzahl der Vorkommen von `x` in der Sequenz `s`.\n",
    "\n",
    "Beispiel:"
   ]
  },
  {
   "cell_type": "code",
   "execution_count": null,
   "id": "49a633d4-5f1c-4887-967a-169c88095de0",
   "metadata": {},
   "outputs": [],
   "source": [
    "(1,1,2,3,5,8).count(1)"
   ]
  },
  {
   "cell_type": "code",
   "execution_count": null,
   "id": "bd57ca11-7dca-4e44-948a-c9fe72fd1d00",
   "metadata": {},
   "outputs": [],
   "source": [
    "(1,1,2,3,5,8).count(4)"
   ]
  },
  {
   "cell_type": "code",
   "execution_count": null,
   "id": "2562ea4c-6db3-4bec-baf2-3bdbd8ac9b13",
   "metadata": {},
   "outputs": [],
   "source": [
    "\"Hallo HFU\".count('l')"
   ]
  },
  {
   "cell_type": "markdown",
   "id": "ccf5ab19-fa76-4aa2-b3da-ef3d56e194d5",
   "metadata": {},
   "source": [
    "Diese Schreibweise `<Objekt>.<Name>()` ist die **Attributschreibweise**: `count` ist tatsächlich ein Attribut des Sequenzobjekts `s`, auf das wir mit dieser Schreibweise zugreifen können."
   ]
  },
  {
   "cell_type": "markdown",
   "id": "ee7d9d6d-05f6-475c-a2eb-58b9a10f32e3",
   "metadata": {},
   "source": [
    "#### `index()`"
   ]
  },
  {
   "cell_type": "markdown",
   "id": "85c879dd-2811-4e71-998d-8c38acf95790",
   "metadata": {},
   "source": [
    "`s.index(x)` liefert den Index des ersten Vorkommens von `x` in der Sequenz `s`.\n",
    "\n",
    "Beispiel:"
   ]
  },
  {
   "cell_type": "code",
   "execution_count": null,
   "id": "77cb7010-3d6e-4ab6-b284-1ca79eff1fa3",
   "metadata": {},
   "outputs": [],
   "source": [
    "(1,1,2,3,5,8).index(2)"
   ]
  },
  {
   "cell_type": "code",
   "execution_count": null,
   "id": "f8057faf-77a2-45df-942c-29b6d8211f01",
   "metadata": {},
   "outputs": [],
   "source": [
    "(1,1,2,3,5,8).index(1)"
   ]
  },
  {
   "cell_type": "markdown",
   "id": "5a78c779-9e01-4df9-a1f7-043055ede7c7",
   "metadata": {},
   "source": [
    "Wenn das Element nicht in der Sequenz vorkommt, meldet Python einen Fehler `ValueError`:"
   ]
  },
  {
   "cell_type": "code",
   "execution_count": null,
   "id": "5fb8a8da-f417-4c8b-975c-ce37e2143659",
   "metadata": {},
   "outputs": [],
   "source": [
    "(1,1,2,3,5,8).index(7)"
   ]
  },
  {
   "cell_type": "markdown",
   "id": "3578edf8-aad1-4e84-8416-0245c29212e7",
   "metadata": {},
   "source": [
    "Den Suchbereich können wir einschränken:\n",
    "* `s.index(x,i)` sucht `x` in `s` beginnend beim Index `i` (einschließlich)\n",
    "* `s.index(x,i,j)` sucht `x` in `s` ab dem Index `i` (einschließlich)  bis Index `j` (ausschließlich)"
   ]
  },
  {
   "cell_type": "code",
   "execution_count": null,
   "id": "ed45e788-ccd6-47b9-ba0d-804c290ba9ff",
   "metadata": {},
   "outputs": [],
   "source": [
    "\"Hallo HFU\".index('H')"
   ]
  },
  {
   "cell_type": "code",
   "execution_count": null,
   "id": "a7309287-71b9-470c-be3d-fab38cab96c8",
   "metadata": {},
   "outputs": [],
   "source": [
    "\"Hallo HFU\".index('H', 1)"
   ]
  },
  {
   "cell_type": "markdown",
   "id": "cfd97f0c-02f2-4753-b28d-7f8a98326aa9",
   "metadata": {},
   "source": [
    "Bei Strings kann der Suchwert 'x' auch mehr als 1 Zeichen umfassen:"
   ]
  },
  {
   "cell_type": "code",
   "execution_count": null,
   "id": "494d7fd7-9db0-40e3-8ec5-1b52c15bf2de",
   "metadata": {},
   "outputs": [],
   "source": [
    "\"Hallo HFU\".index(\"HFU\")"
   ]
  },
  {
   "cell_type": "markdown",
   "id": "23ef05d6-020b-4d30-a36d-b646a9702aea",
   "metadata": {},
   "source": [
    "### `in` und `not in`"
   ]
  },
  {
   "cell_type": "markdown",
   "id": "c4caf079-7e1d-4eb9-80c3-84d59670f5a4",
   "metadata": {},
   "source": [
    "Wir können fragen, ob ein Element in einer Sequenz enthalten ist:"
   ]
  },
  {
   "cell_type": "code",
   "execution_count": null,
   "id": "d070055f-ff20-4259-87ab-a361cb77a31f",
   "metadata": {},
   "outputs": [],
   "source": [
    "5 in (1,1,2,3,5,8)"
   ]
  },
  {
   "cell_type": "code",
   "execution_count": null,
   "id": "279b836c-02c3-4248-8d1e-16594d5c1c41",
   "metadata": {},
   "outputs": [],
   "source": [
    "4 in (1,1,2,3,5,8)"
   ]
  },
  {
   "cell_type": "markdown",
   "id": "5b235700-6d4d-4633-b373-3af5f51689af",
   "metadata": {},
   "source": [
    "Die Umkehrung ist mit `not in` möglich. Das ist eine andere Schreibweise für `not x in s` - derartiger Code erscheint näher an der englischen Formulierung:"
   ]
  },
  {
   "cell_type": "code",
   "execution_count": null,
   "id": "a50db9b0-0889-46c0-8d44-f507b9895ecc",
   "metadata": {},
   "outputs": [],
   "source": [
    "\"Stuttart\" not in \"Hochschule Furtwangen\""
   ]
  },
  {
   "cell_type": "code",
   "execution_count": null,
   "id": "7bdf532e-7987-4021-82ee-4307aa33d965",
   "metadata": {},
   "outputs": [],
   "source": [
    "\"Furtwangen\" not in \"Hochschule Furtwangen\""
   ]
  },
  {
   "cell_type": "markdown",
   "id": "7e9b2350-a3b6-42fa-bbdd-bcf3a8215459",
   "metadata": {},
   "source": [
    "### Probieren Sie selbst!\n",
    "Schreiben Sie die Funktion `unique`:"
   ]
  },
  {
   "cell_type": "code",
   "execution_count": null,
   "id": "c5381bc3-d6aa-4d9a-9b37-acb59ffa81a4",
   "metadata": {},
   "outputs": [],
   "source": [
    "def unique(s):\n",
    "    \"\"\"s ist eine Zeichenkette.\n",
    "    Geben Sie eine Zeichenkette zurück, die\n",
    "    alle Zeichen in s genau einmal enthält.\n",
    "\n",
    "    Beispiel: unique(\"Hallo HFU\") -> 'Halo FU'\"\"\"\n",
    "    # TODO\n",
    "    pass"
   ]
  },
  {
   "cell_type": "code",
   "execution_count": null,
   "id": "b7b28671-6044-4089-8af7-4fcdb7e8d8dc",
   "metadata": {},
   "outputs": [],
   "source": [
    "unique(\"Hallo HFU\")"
   ]
  },
  {
   "cell_type": "markdown",
   "id": "d341e136-9d3f-403c-a198-22284c5757e3",
   "metadata": {
    "jp-MarkdownHeadingCollapsed": true
   },
   "source": [
    "## Unveränderliche Objekte"
   ]
  },
  {
   "cell_type": "markdown",
   "id": "e60326f2-b6fd-4671-bc1d-5334166bffb7",
   "metadata": {},
   "source": [
    "Tupel, Zeichenketten gehören wie Zahlen zur Gruppe der \"immutable objects\" - der unveränderlichen Objekte. Das bedeutet, dass nur neue Objekte erzeugt, aber existierende Objekte nicht verändert werden.\n",
    "\n",
    "Ein Beispiel:"
   ]
  },
  {
   "cell_type": "code",
   "execution_count": null,
   "id": "b0c16cae-2fb1-4369-93e1-638776607663",
   "metadata": {},
   "outputs": [],
   "source": [
    "s=\"Hollo HFU!\"\n",
    "s[1]=\"a\""
   ]
  },
  {
   "cell_type": "code",
   "execution_count": null,
   "id": "c462d9da-6c16-4dd8-97fb-b99747e98e31",
   "metadata": {},
   "outputs": [],
   "source": [
    "t=(1,1,2,3,6)\n",
    "t[-1] = 5"
   ]
  },
  {
   "cell_type": "markdown",
   "id": "1fc3dee1-c826-4e2a-91a2-e4c7eb22258c",
   "metadata": {},
   "source": [
    "## Listen"
   ]
  },
  {
   "cell_type": "markdown",
   "id": "ad03e3ce-29e9-4405-a084-a745be4461a8",
   "metadata": {},
   "source": [
    "Listen sind ebenfalls Sequenzen, aber im Gegensatz zu Tupeln und Zeichenketten sind sie veränderlich (engl. \"mutable\").\n",
    "\n",
    "Listen schreiben wir in eckige Klammern. Ein paar Beispiele:\n",
    "- Leere Liste: `[]`\n",
    "- Liste mit nur einem Element: `[125]`  (Hier ist das Komma optional, weil keine Verwechslung möglich ist))\n",
    "- Liste mit mehreren Elementen: `[\"HFU\", 125, 3.0]`\n",
    "\n",
    "Da Listen auch Sequenzen sind, funktionieren hier auch Elementzugriffe und Slicings:"
   ]
  },
  {
   "cell_type": "code",
   "execution_count": null,
   "id": "adf615bd-2101-49af-afbc-be074a98de0b",
   "metadata": {},
   "outputs": [],
   "source": [
    "l=[\"HFU\", 125, 3.0]\n",
    "l[0]"
   ]
  },
  {
   "cell_type": "code",
   "execution_count": null,
   "id": "7d489732-5164-4ae6-890a-8eb1c34abceb",
   "metadata": {},
   "outputs": [],
   "source": [
    "l[0:2]"
   ]
  },
  {
   "cell_type": "code",
   "execution_count": null,
   "id": "a06a993a-e2ca-47ca-9449-5f74936fd3f0",
   "metadata": {},
   "outputs": [],
   "source": [
    "len(l)"
   ]
  },
  {
   "cell_type": "markdown",
   "id": "7ac85d70-451d-4459-a9e3-30f6bdb43e54",
   "metadata": {},
   "source": [
    "Zusätzlich können wir Listenelemente modifizieren:"
   ]
  },
  {
   "cell_type": "code",
   "execution_count": null,
   "id": "3f735f59-c7b3-4ee6-bf97-57fa1175355d",
   "metadata": {},
   "outputs": [],
   "source": [
    "l[1]=128\n",
    "l"
   ]
  },
  {
   "cell_type": "markdown",
   "id": "2fb02316-7e53-4a03-86fe-6e5edb1ed147",
   "metadata": {
    "jp-MarkdownHeadingCollapsed": true
   },
   "source": [
    "### Listen und Aliase"
   ]
  },
  {
   "cell_type": "markdown",
   "id": "d4d21263-5edf-4eff-8cd7-3c6da0eae998",
   "metadata": {
    "jp-MarkdownHeadingCollapsed": true
   },
   "source": [
    "Da Listen modifizierbare Objekte sind, wird bei Zuweisungen an Elemente die Liste nicht kopiert, sondern verändert.\n",
    "\n",
    "Generell wird bei Zuweisungen nicht das Objekt kopiert, sondern nur die Zuweisung darauf."
   ]
  },
  {
   "cell_type": "code",
   "execution_count": null,
   "id": "4af120b0-ba5b-4a4b-bac1-fc52a25a7111",
   "metadata": {},
   "outputs": [],
   "source": [
    "L1=[1,2,3]\n",
    "L2=L1   # L1 und L2 verweisen jetzt azf dasselbe Objekt!\n",
    "L2[1]=4\n",
    "L1[1]"
   ]
  },
  {
   "cell_type": "markdown",
   "id": "6fb4476b-d488-4a9b-a892-1aec1fc0083a",
   "metadata": {},
   "source": [
    "`L1` und `L2` sind hier **Aliase** für dieselbe Liste!"
   ]
  },
  {
   "cell_type": "markdown",
   "id": "cec35208-b50b-4cd1-a4b5-373684dfb3d9",
   "metadata": {
    "jp-MarkdownHeadingCollapsed": true
   },
   "source": []
  },
  {
   "cell_type": "markdown",
   "id": "e3b43c78-8b57-48a4-9a65-c96717767202",
   "metadata": {
    "jp-MarkdownHeadingCollapsed": true
   },
   "source": [
    "### Sortierung: `sort()` und `sorted()`"
   ]
  },
  {
   "cell_type": "markdown",
   "id": "eddcc27b-3065-4497-8c34-5c124fc9543e",
   "metadata": {
    "jp-MarkdownHeadingCollapsed": true
   },
   "source": [
    "Wir können Listen auch sortieren mit Hilfe der Methode `sort` oder der Funktion `sorted`:\n",
    "\n",
    "* `l.sort()` modifiziert die Liste `l` so, dass die Elemente aufsteigend sortiert sind.\n",
    "* `sorted(s)` liefert eine neue, sortierte Sequenz mit den Elementen der Sequenz s"
   ]
  },
  {
   "cell_type": "code",
   "execution_count": null,
   "id": "f7db541c-d8fe-4ae0-91b9-9e43b0795aea",
   "metadata": {},
   "outputs": [],
   "source": [
    "l1=[15,3,27,9]\n",
    "l2=sorted(l1)\n",
    "l2"
   ]
  },
  {
   "cell_type": "code",
   "execution_count": null,
   "id": "0029e712-2348-4e9d-bd4b-a93e0508e8e5",
   "metadata": {},
   "outputs": [],
   "source": [
    "l1.sort()"
   ]
  },
  {
   "cell_type": "code",
   "execution_count": null,
   "id": "f3275654-b6a3-4b31-b139-cd6f82f7036f",
   "metadata": {},
   "outputs": [],
   "source": [
    "l1"
   ]
  },
  {
   "cell_type": "markdown",
   "id": "915822f4-1e52-4654-80a4-9fc569a9792d",
   "metadata": {},
   "source": [
    "Da `sort` die Liste **an Ort und Stelle** (engl. \"in place\") verändert, sprechen wir auch von einer \"In-Place-Operation\"."
   ]
  },
  {
   "cell_type": "markdown",
   "id": "b5365c4f-57a5-494e-91f6-c0b937c62ea7",
   "metadata": {
    "jp-MarkdownHeadingCollapsed": true
   },
   "source": [
    "### Umkehrung: `reverse()`"
   ]
  },
  {
   "cell_type": "markdown",
   "id": "bd86c2e4-ae87-4bed-bccd-fa491a9bded6",
   "metadata": {
    "jp-MarkdownHeadingCollapsed": true
   },
   "source": [
    "`l.reverse()` dreht die Reihenfolge der Elemente um. Dabei wird die Liste modifiziert.\n",
    "\n",
    "Beispiel:"
   ]
  },
  {
   "cell_type": "code",
   "execution_count": null,
   "id": "37c2a8d8-71af-4872-8551-3341d1b3ff26",
   "metadata": {},
   "outputs": [],
   "source": [
    "l=[1,2,3,4,5,6,7,8]\n",
    "l.reverse()\n",
    "l"
   ]
  },
  {
   "cell_type": "markdown",
   "id": "528aa91d-42d5-4f57-b327-d0cfa30f7409",
   "metadata": {
    "jp-MarkdownHeadingCollapsed": true
   },
   "source": [
    "### Veränderung von Listen in Schleifen"
   ]
  },
  {
   "cell_type": "markdown",
   "id": "3ea5944f-6e52-4c93-b658-10c77382a8d2",
   "metadata": {},
   "source": [
    "Wir wollen eine Funktion schreiben, die alle negativen Werte in einer Liste `l` durch `0` ersetzen:"
   ]
  },
  {
   "cell_type": "code",
   "execution_count": null,
   "id": "99909f1b-29af-4e9d-a164-cebbeaa9864f",
   "metadata": {},
   "outputs": [],
   "source": [
    "def myreplace(l):\n",
    "    for x in l:\n",
    "        if x < 0:\n",
    "            x = 0\n",
    "l=[1,1,-2,3,-5,8]\n",
    "myreplace(l)\n",
    "l"
   ]
  },
  {
   "cell_type": "markdown",
   "id": "7fc34fcb-a438-4f7d-8f6c-0f337275a043",
   "metadata": {},
   "source": [
    "Warum verändert sich der Inhalt der Liste nicht?"
   ]
  },
  {
   "cell_type": "markdown",
   "id": "a4f9fa21-b113-49ba-bc19-7afe522eb38f",
   "metadata": {},
   "source": [
    "Wir machen uns klar: Die Zuweisung verändert nur, auf welches Objekt `x` verweist, aber nicht das Objekt in der Liste!"
   ]
  },
  {
   "cell_type": "markdown",
   "id": "742f5f09-ddf3-4b81-987c-15c3a822aa42",
   "metadata": {},
   "source": [
    "Wie also können wir Elemente der Liste verändern?\n",
    "\n",
    "Eine Option: Wir lassen die Schleife nicht über die Listenelemente, sondern über die Indexwerte laufen:"
   ]
  },
  {
   "cell_type": "code",
   "execution_count": null,
   "id": "6d25cc9c-cf77-42fa-ac67-a3bd1fb03d94",
   "metadata": {},
   "outputs": [],
   "source": [
    "def myreplace(l):\n",
    "    for i in range(len(l)):\n",
    "        if l[i] < 0:\n",
    "            l[i] = 0\n",
    "l=[1,1,-2,3,-5,8]\n",
    "myreplace(l)\n",
    "l"
   ]
  },
  {
   "cell_type": "markdown",
   "id": "e710d920-2189-473e-bf15-901fa4a586f6",
   "metadata": {},
   "source": [
    "Eine weitere Option: Wir nutzen `enumerate`. Diese Funktion liefert eine Sequenz aus Tupeln von Index und `s[Index]`. Das funktioniert übrigens für alle Sequenzen."
   ]
  },
  {
   "cell_type": "code",
   "execution_count": null,
   "id": "df5d0334-abc7-489f-9237-5a1cc5cf6e38",
   "metadata": {},
   "outputs": [],
   "source": [
    "def myreplace(l):\n",
    "    for i, x in enumerate(l):\n",
    "        if x < 0:\n",
    "            l[i] = 0\n",
    "l=[1,1,-2,3,-5,8]\n",
    "myreplace(l)\n",
    "l"
   ]
  },
  {
   "cell_type": "markdown",
   "id": "514cf374-965e-4e36-a046-f8206a64061d",
   "metadata": {
    "jp-MarkdownHeadingCollapsed": true
   },
   "source": [
    "### Modifikation von Listen-Slices"
   ]
  },
  {
   "cell_type": "markdown",
   "id": "44a7f369-0f99-4393-8b1d-d22080649f0b",
   "metadata": {},
   "source": [
    "Bei Listen können wir auch Slices etwas zuweisen:"
   ]
  },
  {
   "cell_type": "code",
   "execution_count": null,
   "id": "42626491-0801-494d-a57f-0343e2bc192a",
   "metadata": {},
   "outputs": [],
   "source": [
    "l=[1,1,2,3,5,8]\n",
    "l[2:4] = [1,2]\n",
    "l"
   ]
  },
  {
   "cell_type": "markdown",
   "id": "2f1fc440-7c74-46ca-b949-277e9d5b9f0a",
   "metadata": {},
   "source": [
    "Hier sind alle Slice-Schreibweisen möglich, inklusive derer mit Step-Variationen:"
   ]
  },
  {
   "cell_type": "code",
   "execution_count": null,
   "id": "8036c7f8-a858-4858-80d1-c7910a58bf9f",
   "metadata": {},
   "outputs": [],
   "source": [
    "l[::2] = [10,11,12]\n",
    "l"
   ]
  },
  {
   "cell_type": "markdown",
   "id": "22aadb12-beed-41a7-b6b5-46be3f3cb5eb",
   "metadata": {},
   "source": [
    "Auf diese Weise können wir auch Elemente aus der Liste entfernen:"
   ]
  },
  {
   "cell_type": "code",
   "execution_count": null,
   "id": "252940f6-a49c-481c-80f4-2de486298409",
   "metadata": {},
   "outputs": [],
   "source": [
    "l[3:6] = []\n",
    "l"
   ]
  },
  {
   "cell_type": "markdown",
   "id": "3179409d-38bf-4cb5-935a-285f1c722123",
   "metadata": {},
   "source": [
    "Hier ist die Slice-Schreibweise allerdings nicht zulässig:"
   ]
  },
  {
   "cell_type": "code",
   "execution_count": null,
   "id": "9a083afa-8e7b-4c75-997e-4952a1c2c0b3",
   "metadata": {},
   "outputs": [],
   "source": [
    "l[::2] = []"
   ]
  },
  {
   "cell_type": "markdown",
   "id": "9430428a-7205-4d6b-8dc1-2135fb7b6e98",
   "metadata": {},
   "source": [
    "Auch das An- und Einfügen von Elementen ist möglich:"
   ]
  },
  {
   "cell_type": "code",
   "execution_count": null,
   "id": "4f5251fb-5138-4bda-88d0-666a96a5a39f",
   "metadata": {},
   "outputs": [],
   "source": [
    "l[len(l):len(l)] = [11,13,17]\n",
    "l"
   ]
  },
  {
   "cell_type": "code",
   "execution_count": null,
   "id": "a147b076-fb5a-4ed6-950a-811a320f05dd",
   "metadata": {},
   "outputs": [],
   "source": [
    "l[2:2] = [9,12,15]\n",
    "l"
   ]
  },
  {
   "cell_type": "markdown",
   "id": "f7e8496d-3e9a-421e-b90f-5862611a8dc9",
   "metadata": {},
   "source": [
    "Von einigen dieser Listenoperationen gibt es auch einfacher lesbare Schreibweisen. So können wir Listenelemente mit `del` entfernen: `del l[3]`, `del l[2:4]` oder `del l[::2]`\n",
    "\n",
    "Mit `extend` und `append` können wir eine Liste erweitern. Dabei hängt `append` ein einzelnes Element an und `extend` alle Elemente aus der angegebenen Sequenz:"
   ]
  },
  {
   "cell_type": "code",
   "execution_count": null,
   "id": "2aef3c98-c663-4477-8807-9d6ebb721452",
   "metadata": {},
   "outputs": [],
   "source": [
    "l.extend([29,31,37])\n",
    "l"
   ]
  },
  {
   "cell_type": "code",
   "execution_count": null,
   "id": "2a6ee7a9-3ba6-40c3-b5a6-829659c7e80c",
   "metadata": {},
   "outputs": [],
   "source": [
    "l.append(39)\n",
    "l"
   ]
  },
  {
   "cell_type": "markdown",
   "id": "d41ba3e8-37c8-4de7-b7a6-fdb3e8a0fb58",
   "metadata": {},
   "source": [
    "Wir können mit `insert` ein Listenelement an einer beliebigen Stelle einfügen:"
   ]
  },
  {
   "cell_type": "code",
   "execution_count": null,
   "id": "65690456-28be-40c3-8db9-4dfff72da9b1",
   "metadata": {},
   "outputs": [],
   "source": [
    "l.insert(2,8)\n",
    "l"
   ]
  },
  {
   "cell_type": "markdown",
   "id": "31e71c8f-226a-42d1-82f8-d7c84eb8926d",
   "metadata": {},
   "source": [
    "Um eine Liste zu leeren, können wir `clear` verwenden:"
   ]
  },
  {
   "cell_type": "code",
   "execution_count": null,
   "id": "d29b579c-ce7d-4369-846f-85652988585b",
   "metadata": {},
   "outputs": [],
   "source": [
    "l.clear()\n",
    "l"
   ]
  },
  {
   "cell_type": "markdown",
   "id": "6c057241-21cf-4c7f-926c-8a59a47a555b",
   "metadata": {
    "jp-MarkdownHeadingCollapsed": true
   },
   "source": [
    "### Probieren Sie selbst!"
   ]
  },
  {
   "cell_type": "markdown",
   "id": "efa8e0b0-9fff-4e2f-983e-b20908e86abc",
   "metadata": {},
   "source": [
    "Erstellen Sie die Funktion `liste_von_zahlen`:"
   ]
  },
  {
   "cell_type": "code",
   "execution_count": null,
   "id": "29ed50ce-351a-49d8-af9a-e5b280d3a7a6",
   "metadata": {},
   "outputs": [],
   "source": [
    "def liste_von_zahlen(n):\n",
    "    \"\"\"n ist eine Ganzzahl.\n",
    "    Gebe die Liste von Zahlen von 0 bis n (jeweils\n",
    "    einschließlich) in aufsteigender Reihenfolge\n",
    "    zurück.\"\"\"\n",
    "    # TODO\n",
    "    pass"
   ]
  },
  {
   "cell_type": "code",
   "execution_count": null,
   "id": "61c670bb-bc19-41ab-a678-e1a5dcc27c85",
   "metadata": {},
   "outputs": [],
   "source": [
    "liste_von_zahlen(5)"
   ]
  },
  {
   "cell_type": "code",
   "execution_count": null,
   "id": "b0c7b4c7-11c0-4989-8eea-789f9697abb2",
   "metadata": {},
   "outputs": [],
   "source": [
    "liste_von_zahlen(0)"
   ]
  },
  {
   "cell_type": "code",
   "execution_count": null,
   "id": "23e371e7-e95c-4a67-aeb4-fda2b9563680",
   "metadata": {},
   "outputs": [],
   "source": [
    "liste_von_zahlen(19)"
   ]
  },
  {
   "cell_type": "markdown",
   "id": "de5616d3-6712-42f8-bc2b-31f5758a523c",
   "metadata": {
    "jp-MarkdownHeadingCollapsed": true
   },
   "source": [
    "### `remove()`"
   ]
  },
  {
   "cell_type": "markdown",
   "id": "0480f5a7-1fb7-436b-9e1f-9fed0b360a6e",
   "metadata": {},
   "source": [
    "`l.remove(x)` entfernt das erste Element, für das `l[i]==x` gilt.\n",
    "\n",
    "Beispiel:"
   ]
  },
  {
   "cell_type": "code",
   "execution_count": null,
   "id": "74fd290f-10c8-4cdb-b564-53097642ed1f",
   "metadata": {},
   "outputs": [],
   "source": [
    "l=[1,2,1,3,4]\n",
    "l.remove(1)\n",
    "l"
   ]
  },
  {
   "cell_type": "markdown",
   "id": "90a09de3-46cf-4cc0-9e01-2ba06d84cde3",
   "metadata": {},
   "source": [
    "Ist das Element nicht in der Liste enthalten, meldet Python einen Fehler:"
   ]
  },
  {
   "cell_type": "code",
   "execution_count": null,
   "id": "e6e8e122-6cad-4c3e-a111-467567753273",
   "metadata": {},
   "outputs": [],
   "source": [
    "l.remove(15)"
   ]
  },
  {
   "cell_type": "markdown",
   "id": "766d9cc4-09af-4c40-b2cf-72342b802b6a",
   "metadata": {
    "jp-MarkdownHeadingCollapsed": true
   },
   "source": [
    "### Listen klonen"
   ]
  },
  {
   "cell_type": "markdown",
   "id": "5b4db740-9f0e-4923-a194-01f21e3a8934",
   "metadata": {},
   "source": [
    "Wenn wir eine Kopie der Liste verändern wollen:\n",
    "\n",
    "* `l2=l1` kopiert nur eine Referenz auf die Liste, nicht die Liste selbst.\n",
    "* `l3=l1.copy()` erstellt eine Kopie. Dabei werden die Elemente der Liste `l1` kopiert.\n",
    "\n",
    "Eine Zuweisung an ein Element von `l3` verändert also `l1` nicht:"
   ]
  },
  {
   "cell_type": "code",
   "execution_count": null,
   "id": "2e548df7-855a-4194-a0c6-0a3a16545f8d",
   "metadata": {},
   "outputs": [],
   "source": [
    "l1=[1,1,2,3,5,8]\n",
    "l3=l1.copy()\n",
    "l3[2]=19\n",
    "l1"
   ]
  },
  {
   "cell_type": "code",
   "execution_count": null,
   "id": "cca08b92-2563-4f4b-a36f-036cd374b8c5",
   "metadata": {},
   "outputs": [],
   "source": [
    "l3"
   ]
  },
  {
   "cell_type": "markdown",
   "id": "7cf3f701-40c1-4613-9c81-e329b32dbfba",
   "metadata": {},
   "source": [
    "Die Kopie ist jedoch \"flach\" (engl. \"shallow\"), d.h. es werden nur auf der obersten Ebene Kopien erstellt, darunter werden nur Referenzen kopiert:"
   ]
  },
  {
   "cell_type": "code",
   "execution_count": null,
   "id": "a74a5220-635a-4b73-b94b-5ad4738c90d0",
   "metadata": {},
   "outputs": [],
   "source": [
    "l1=[[1,2,3],[4,5,6]]\n",
    "l2=l1.copy()\n",
    "l2[0][1] = 9\n",
    "l2"
   ]
  },
  {
   "cell_type": "code",
   "execution_count": null,
   "id": "389810e9-8401-42ab-83f7-0d698f9ea377",
   "metadata": {},
   "outputs": [],
   "source": [
    "l1"
   ]
  },
  {
   "cell_type": "markdown",
   "id": "103f021a-038c-4c1c-9143-95a5039a96cf",
   "metadata": {},
   "source": [
    "### Typkonversionen"
   ]
  },
  {
   "cell_type": "markdown",
   "id": "0c13a684-e83c-46e4-9cf9-1dd01d0689ab",
   "metadata": {},
   "source": [
    "Wir können Sequenzen auch in Tupel, Listen und Strings konvertieren:"
   ]
  },
  {
   "cell_type": "code",
   "execution_count": null,
   "id": "c448103b-3dd7-429d-9fb9-d491efef164e",
   "metadata": {},
   "outputs": [],
   "source": [
    "list((1,2,3,4))"
   ]
  },
  {
   "cell_type": "code",
   "execution_count": null,
   "id": "b4e8da09-cf8b-49a6-8492-680ae9a5b76c",
   "metadata": {},
   "outputs": [],
   "source": [
    "list(\"Hallo HFU\")"
   ]
  },
  {
   "cell_type": "code",
   "execution_count": null,
   "id": "3fdf267c-bb85-46e2-9b06-ead1eea86d75",
   "metadata": {},
   "outputs": [],
   "source": [
    "tuple([1,2,3,4])"
   ]
  },
  {
   "cell_type": "code",
   "execution_count": null,
   "id": "5165bb20-3c48-4587-8e64-4d670f41242d",
   "metadata": {},
   "outputs": [],
   "source": [
    "tuple(\"HFU\")"
   ]
  },
  {
   "cell_type": "code",
   "execution_count": null,
   "id": "9a115c0d-5f06-4a57-b806-fea5082804f1",
   "metadata": {},
   "outputs": [],
   "source": [
    "str([1,2,3])"
   ]
  },
  {
   "cell_type": "code",
   "execution_count": null,
   "id": "7956afbe-4596-4e68-8d72-05bf202c5cb3",
   "metadata": {},
   "outputs": [],
   "source": [
    "str((1,2,3))"
   ]
  },
  {
   "cell_type": "markdown",
   "id": "218988c0-e0b0-43f4-b335-9923bbbc2999",
   "metadata": {},
   "source": [
    "### `split()` - String in Liste aufteilen\n",
    "Mit `s.split(t)` können wir einen String in eine Liste von Strings aufteilen. Dabei ist `t` ein String, der den Trenner zwischen den Strings angibt."
   ]
  },
  {
   "cell_type": "code",
   "execution_count": null,
   "id": "9c237742-afac-4b76-9e50-0535ecd01bbf",
   "metadata": {},
   "outputs": [],
   "source": [
    "\"1,2,3,4\".split(\",\")"
   ]
  },
  {
   "cell_type": "markdown",
   "id": "d3187a7d-9a7c-483a-8d9d-f8370a103fb8",
   "metadata": {},
   "source": [
    "Wird kein Trenner angegeben, so wird an Leerzeichen getrennt. Dabei werden mehrere Leerzeichen hintereinander als ein Trennzeichen angesehen:"
   ]
  },
  {
   "cell_type": "code",
   "execution_count": null,
   "id": "d9729bf5-7c43-4541-8aa1-cdf6f931ad4e",
   "metadata": {},
   "outputs": [],
   "source": [
    "\"The quick  brown fox\".split()"
   ]
  },
  {
   "cell_type": "markdown",
   "id": "830ae635-8ead-470d-bdbe-44a1d2a8324f",
   "metadata": {},
   "source": [
    "### Probieren Sie selbst!\n",
    "Schreiben Sie die Funktion `anzahl_wörter`:"
   ]
  },
  {
   "cell_type": "code",
   "execution_count": null,
   "id": "091ee806-b397-4880-941d-14c24c82b54f",
   "metadata": {},
   "outputs": [],
   "source": [
    "def anzahl_wörter(s):\n",
    "    \"\"\"s ist eine Zeichenkette.\n",
    "    Geben Sie die Anzahl der Wörter in s zurück.\n",
    "    Ein Wort ist dabei eine Sequenz von Zeichen\n",
    "    zwischen Leerzeichen.\"\"\"\n",
    "    # TODO\n",
    "    pass"
   ]
  },
  {
   "cell_type": "code",
   "execution_count": null,
   "id": "018e9f7b-3b8e-4682-aed9-89390929882c",
   "metadata": {},
   "outputs": [],
   "source": [
    "anzahl_wörter(\"The quick  brown fox jumped    over the lazy    dog's  back\")"
   ]
  },
  {
   "cell_type": "markdown",
   "id": "6234e216-fc85-4b3f-974a-935626dbcf9a",
   "metadata": {
    "jp-MarkdownHeadingCollapsed": true
   },
   "source": [
    "# Lektion 5: Datei-Ein- und -Ausgabe"
   ]
  },
  {
   "attachments": {},
   "cell_type": "markdown",
   "id": "b5e58efa-44d9-44b5-8474-c18ec8f225e8",
   "metadata": {},
   "source": [
    "Bisher haben wir die Daten, mit denen wir gearbeitet haben, direkt in den Code geschrieben. Das wird spätestens dann unhandlich, wenn wir mit größeren Datenmengen oder mit Daten aus externen Quellen (z.B. von Webseiten) arbeiten wollen.\n",
    "\n",
    "Hier ein Beispiel: Eine Datenbank mit Folgen der Science-Fiction-Serie \"Star Trek - The Next Generation\" sei in einer Datei abgelegt mit den folgenden Informationen zu jeder Folge:\n",
    "- Nummer der Staffel\n",
    "- Nummer der Folge in der Staffel\n",
    "- Titel der Episode\n",
    "- Nummer der DVD in der DVD-Sammlung\n",
    "\n",
    "Das könnte zum Beispiel so aussehen:\n",
    "\n",
    "```\n",
    "Titel;Staffel;Episode;Disk\n",
    "Encounter at Farpoint;1;01/02;1\n",
    "The Naked Now;1;03;1\n",
    "Code of Honor;1;04;1\n",
    "The Last Outpost;1;05;2\n",
    "Where No One Has Gone Before;1;06;2\n",
    "Lonely Among Us;1;07;2\n",
    "...\n",
    "```\n",
    "\n",
    "Die Daten sind in einer Textdatei gespeichert, in der jede Zeile einen Eintrag repräsentiert - bis auf die erste Zeile, in der die Spaltenüberschriften dargestellt sind. Die Daten für die Spalten sind jeweils durch ein Semikolon (`;`) voneinander getrennt. Zum Glück ist es recht unwahrscheinlich, dass Titel oder andere Datenelemente ein Semikolon enthalten - das wäre sonst nicht vom Trennzeichen zu unterscheiden.\n",
    "\n",
    "Wir möchten nun ein Programm schreiben, das\n",
    "- die Datenbank in den Speicher einliest,\n",
    "- nach einem Schlüsselwort fragt und\n",
    "- alle Folgen ausgibt, die dieses Schlüsselwort im Titel haben.\n",
    "\n",
    "Beispiel: Wir suchen nach dem Zweiteiler \"The Best of both Worlds\":\n",
    "```\n",
    "Schlüsselwort eingeben: Best\n",
    "The Best of Both Worlds: Staffel 3, Disk 7, Episode 26\n",
    "The Best of Both Worlds, Part II: Staffel 4, Disk 1, Episode 1\n",
    "```"
   ]
  },
  {
   "cell_type": "markdown",
   "id": "b76a1f48-ee8f-44c4-83b3-1c9537fcc616",
   "metadata": {},
   "source": [
    "## Einlesen der Daten\n",
    "Die Datei enthält eine Liste von Einträgen und jeder Eintrag besteht aus einer Liste von Spalten. Wir werden also eine Liste von Listen verwenden, um die Daten zu speichern.\n",
    "\n",
    "Aber wie können wir die Daten einliesen?"
   ]
  },
  {
   "cell_type": "markdown",
   "id": "237e3a6f-4561-494b-9aad-77766fa52126",
   "metadata": {},
   "source": [
    "Für den Zugriff auf Dateien bietet Python uns Dateiobjekte (engl. \"file objects\").\n",
    "\n",
    "Um auf den Inhalt zuzugreifen, müssen wir\n",
    "1. die Datei mit der Funktion `open()` öffnen - die Funktion liefert das Dateiobjekt -,\n",
    "2. Daten mit `read()` oder `readline()` einlesen,\n",
    "3. die Datei mit `close()` schließen.\n",
    "\n",
    "Beim Schließen werden Ressourcen wieder freigegeben - das Betriebssystem weiß nun, dass wir nicht mehr auf die Datei zugreifen.\n",
    "\n",
    "Dieser Ablauf kann wie folgt aussehen:"
   ]
  },
  {
   "cell_type": "code",
   "execution_count": null,
   "id": "c00139fd-f8f7-42b5-9c3a-b69193423a4a",
   "metadata": {},
   "outputs": [],
   "source": [
    "# Datei zum Lesen (\"r\") öffnen\n",
    "datei = open(\"StarTrekTNG.csv\",\"r\", encoding=\"utf-8\")\n",
    "# Lese gesamten Dateiinhalt als Zeichenkette ein\n",
    "daten = datei.read()\n",
    "# Gesamten Dateiinhalt ausgeben\n",
    "print(daten)\n",
    "datei.close()"
   ]
  },
  {
   "cell_type": "markdown",
   "id": "7afac94a-856a-47dc-bfc6-62daad340e27",
   "metadata": {},
   "source": [
    "Wie wir sehen, erhalten wir erstmal eine lange Zeichenkette. Wie können wir die nun in einzelne Teile zerteilen?"
   ]
  },
  {
   "cell_type": "markdown",
   "id": "bf97a638-0ad7-4bbf-ac78-f1b5e82c3290",
   "metadata": {
    "jp-MarkdownHeadingCollapsed": true
   },
   "source": [
    "### Aufteilung mit `split`"
   ]
  },
  {
   "cell_type": "markdown",
   "id": "5127e06e-057b-415f-8234-099792de224d",
   "metadata": {},
   "source": [
    "Eine Möglichkeit besteht darin, die Zeilen mit `split` aufzuteilen:"
   ]
  },
  {
   "cell_type": "code",
   "execution_count": null,
   "id": "d3d2b1c0-c8d2-4f5b-b7d4-2e466961338f",
   "metadata": {},
   "outputs": [],
   "source": [
    "daten.split('\\n')"
   ]
  },
  {
   "cell_type": "markdown",
   "id": "14f94a9a-c1e7-4024-8b2e-c988c4f095bb",
   "metadata": {},
   "source": [
    "Wir sehen hier einen leeren Eintrag am Ende: Dieser stammt vom Zeilenabschluss der letzten Zeile in der Datei."
   ]
  },
  {
   "cell_type": "markdown",
   "id": "8fd8942c-8f94-4d50-a6e3-b941e73b2186",
   "metadata": {
    "jp-MarkdownHeadingCollapsed": true
   },
   "source": [
    "### Zeilen lesen mit `readline`"
   ]
  },
  {
   "cell_type": "markdown",
   "id": "3b0584e4-249f-4b56-961d-e62715af2e26",
   "metadata": {},
   "source": [
    "Das ist etwas ungünstig. Stattdessen können wir `readline` verwenden. Diese Funktion liefert uns eine Sequenz der Zeilen in der Datei:"
   ]
  },
  {
   "cell_type": "code",
   "execution_count": null,
   "id": "e01bdebc-c360-4cca-9377-a42aaf2408e4",
   "metadata": {},
   "outputs": [],
   "source": [
    "datei = open(\"StarTrekTNG.csv\",\"r\", encoding=\"utf-8\")\n",
    "while True:\n",
    "    line = datei.readline()\n",
    "    if line == \"\":\n",
    "        break\n",
    "    print(line)\n",
    "datei.close()"
   ]
  },
  {
   "cell_type": "markdown",
   "id": "95a778b6-cf90-4301-a8d4-ab36f2b3ad4c",
   "metadata": {},
   "source": [
    "### Dateiobjekte als Sequenzen"
   ]
  },
  {
   "cell_type": "markdown",
   "id": "d23ac819-65d0-4da2-8b66-1fb31cee51ac",
   "metadata": {},
   "source": [
    "Aber ein Dateiobjekt einer Textdatei ist auch eine Sequenz von Zeilen:"
   ]
  },
  {
   "cell_type": "code",
   "execution_count": null,
   "id": "3e107125-fcd5-4593-8c67-518838cec97f",
   "metadata": {},
   "outputs": [],
   "source": [
    "datei = open(\"StarTrekTNG.csv\",\"r\", encoding=\"utf-8\")\n",
    "for line in datei:\n",
    "    print(line)\n",
    "datei.close()"
   ]
  },
  {
   "cell_type": "markdown",
   "id": "499adffd-45e8-4d5d-bfeb-27a26ed1193b",
   "metadata": {},
   "source": [
    "Offensichtlich sind die doppelten Zeilenabschlüsse immer noch vorhanden."
   ]
  },
  {
   "cell_type": "markdown",
   "id": "4dacf580-a73d-4a8d-be29-1cb7b59b990a",
   "metadata": {},
   "source": [
    "### Zeilenende mit `strip` abschneiden\n",
    "Der Ausdruck `s.lstrip()` liefert uns den String `s`, jedoch ohne die Leerzeichen am Anfang (links) des Strings. Leerzeichen sind hierbei neben dem klassischen Leerzeichen auch Tabulatorzeichen und Zeilenumbrüche.\n",
    "\n",
    "Hingegen schneidet `s.rstrip()` als Leerzeichen am Ende (also rechts) des Strings ab.\n",
    "\n",
    "Der Ausdruck `s.strip()` schneidet die Leerzeichen auf beiden Seiten des Strings ab."
   ]
  },
  {
   "cell_type": "code",
   "execution_count": null,
   "id": "55aaa6db-3e5f-4856-98e5-147ec12b6235",
   "metadata": {},
   "outputs": [],
   "source": [
    "datei = open(\"StarTrekTNG.csv\",\"r\", encoding=\"utf-8\")\n",
    "for zeile in datei:\n",
    "    zeile = zeile.rstrip()\n",
    "    print(zeile)\n",
    "datei.close()"
   ]
  },
  {
   "cell_type": "markdown",
   "id": "3864b191-df18-4b87-ba0d-7879e3a23530",
   "metadata": {},
   "source": [
    "### Kopfzeile überspringen"
   ]
  },
  {
   "cell_type": "markdown",
   "id": "485f5c12-f988-4b1a-96c4-1e9665d1502a",
   "metadata": {},
   "source": [
    "Die Liste enthält noch die Kopfzeile unserer Liste - die brauchen wir nicht, da wir ja in diesem Fall die Reihenfolge der Felder genau kennen. Um sie zu überspringen, fügen wir einfach einen `readline`-Aufruf vor der Schleife ein:"
   ]
  },
  {
   "cell_type": "code",
   "execution_count": null,
   "id": "dc6418cd-5ea9-4365-8d6e-5b1349411554",
   "metadata": {},
   "outputs": [],
   "source": [
    "# Datei öffnen\n",
    "datei = open(\"StarTrekTNG.csv\",\"r\", encoding=\"utf-8\")\n",
    "# Kopfzeile überspringen\n",
    "datei.readline()\n",
    "for zeile in datei:\n",
    "    zeile = zeile.rstrip()\n",
    "    print(zeile)\n",
    "datei.close()"
   ]
  },
  {
   "cell_type": "markdown",
   "id": "8ccad452-7dd4-45ee-b79e-77b53e71b31c",
   "metadata": {},
   "source": [
    "### Probieren Sie es selbst: Daten aufspalten"
   ]
  },
  {
   "cell_type": "markdown",
   "id": "3b9898a7-36f1-4b93-ace0-7024667da0d5",
   "metadata": {},
   "source": [
    "Um nun an die einzelnen Elemente zu kommen, müssen wir die Zeilen an den Semikola (`;`) aufspalten. Dafür können wir die `split()`-Methode verwenden, die wir schon kennengelernt haben."
   ]
  },
  {
   "cell_type": "markdown",
   "id": "4d5dd7c5-4eee-4365-acac-4d1fc49e9eb0",
   "metadata": {},
   "source": [
    "## Ausgabe mit f-Strings"
   ]
  },
  {
   "cell_type": "markdown",
   "id": "0f71dadf-0811-4efd-947f-635b2b124f0e",
   "metadata": {},
   "source": [
    "Bisher haben wir unsere Objekte immer mit `print` ausgegeben. Dabei haben wir nur wenig Kontrolle über die Formatierung und bestimmte Verkettungen sind nur schwer zu lesen:\n",
    "```python\n",
    "for titel,staffel,episode,disk in einträge:\n",
    "        print(titel+\": Staffel \"+staffel+\", \"\n",
    "              \"Disk \"+disk+\", Epsiode \"+episode)\n",
    "```"
   ]
  },
  {
   "cell_type": "markdown",
   "id": "9aeb6d9b-712e-4311-ad14-64a77eca7296",
   "metadata": {},
   "source": [
    "Einfacher geht dies mit \"f-Strings\" (engl. \"formatted strings\" - formatierte Zeichenketten):\n",
    "```python\n",
    "for titel,staffel,episode,disk in einträge:\n",
    "        print(f\"{titel}: Staffel {staffel}, \"\n",
    "              f\"Disk {disk}, Epsiode {episode}\")\n",
    "```"
   ]
  },
  {
   "cell_type": "markdown",
   "id": "0668ae0c-d4c8-4e67-9f38-82b0179f9fd7",
   "metadata": {},
   "source": [
    "Dabei werden die Ausdrücke in den geschweiften Klammern durch ihre String-Repräsentation ersetzt."
   ]
  },
  {
   "cell_type": "markdown",
   "id": "afde5a8b-ef53-44c1-b0e7-216acf620854",
   "metadata": {},
   "source": [
    "Wir können auch ein wenig spezifischer festlegen, wie z.B. Zahlen formatiert werden:"
   ]
  },
  {
   "cell_type": "code",
   "execution_count": null,
   "id": "42a9e9ec-7ab2-438d-95a5-7cfada35eb93",
   "metadata": {},
   "outputs": [],
   "source": [
    "g=1 # Anfangsschätzung\n",
    "a=float(input(\"Zahl eingeben:\"))\n",
    "while not abs(g*g-a) < 0.0001:\n",
    "    print(f\"Schätzung:{g:.2f}\")\n",
    "    g = (g + a/g) / 2   # Schätzung aktualisieren\n",
    "print(f\"Ergebnis:{g:.2f}\")"
   ]
  },
  {
   "cell_type": "markdown",
   "id": "22b2a218-780f-4c68-b043-8ee53562a565",
   "metadata": {},
   "source": [
    "## Ausgabe auf Dateien"
   ]
  },
  {
   "cell_type": "markdown",
   "id": "adf02db4-54f1-4bdf-a077-26021270658e",
   "metadata": {},
   "source": [
    "### ...mit `write()`"
   ]
  },
  {
   "cell_type": "markdown",
   "id": "9685ba36-6213-4f70-9560-ea4b624b53b8",
   "metadata": {},
   "source": [
    "Bisher haben wir nur Daten von Dateien eingelesen. Genauso wichtig ist jedoch die Ausgabe auf Dateien. Dies geschieht mit dem Ausdruck `f.write(s)`, wobei `f` ein beschreibbares Dateiobjekt und `s` ein String ist.\n",
    "\n",
    "Nicht-Zeichenketten müssen erst in einen String umgewandelt werden:"
   ]
  },
  {
   "cell_type": "code",
   "execution_count": null,
   "id": "c256fa5a-218b-496d-a7aa-260be8e4b8ed",
   "metadata": {},
   "outputs": [],
   "source": [
    "datei = open(\"ausgabe.txt\",\"w\")\n",
    "v = (78120, \"Furtwangen\")\n",
    "s = str(v)\n",
    "datei.write(s)\n",
    "datei.close()"
   ]
  },
  {
   "cell_type": "markdown",
   "id": "85f32e2d-88ff-479e-a3bd-66df8afe15e8",
   "metadata": {},
   "source": [
    "Die Datei enthält danach eine einzelne Zeile:\n",
    "```\n",
    "(78120, 'Furtwangen')\n",
    "```"
   ]
  },
  {
   "cell_type": "markdown",
   "id": "ce6a30d1-141b-41b6-afa8-420d50c9a9e2",
   "metadata": {},
   "source": [
    "### ...mit `print`\n",
    "Bisher haben wir den Befehl `print` verwendet, um Objekte auf die Konsole - also das Benutzerfenster - auszugeben. Derselbe Befehl kann auch genutzt werden, um Text auf Dateien auszugeben. Dazu geben wir über den zusätzlichen Parameter `file=` das Dateiobjekt an, über das die Ausgabe erfolgen soll."
   ]
  },
  {
   "cell_type": "code",
   "execution_count": null,
   "id": "ede138f3-3e06-4071-bbc2-014cca699fbf",
   "metadata": {},
   "outputs": [],
   "source": [
    "datei = open(\"ausgabe.txt\",\"w\")\n",
    "v = (78120, \"Furtwangen\")\n",
    "print(v,file=datei)\n",
    "datei.close()"
   ]
  },
  {
   "cell_type": "markdown",
   "id": "3c173ca1-e5e9-41ef-95ca-ecb1cf8f3659",
   "metadata": {},
   "source": [
    "Der Effekt ist derselbe wie bei der Nutzung von `write` und die Datei enthält danach eine einzelne Zeile:\n",
    "```\n",
    "(78120, 'Furtwangen')\n",
    "```"
   ]
  },
  {
   "cell_type": "markdown",
   "id": "5d7b359f-7379-4f1f-921f-dc2bc59c1d22",
   "metadata": {},
   "source": [
    "## Warum wir Dateien mit `close` schließen sollten"
   ]
  },
  {
   "cell_type": "markdown",
   "id": "65f7585c-d22d-4c08-ba03-a5d9412f1583",
   "metadata": {},
   "source": [
    "Schreib- und Lesezugriffe sind \"teuer\": Ein Zugriff auf die Festplatte dauert in der Regel länger als ein Zugriff auf den Arbeitsspeicher (den Sie vielleicht als \"RAM\" kennen). Genauso, wie es effizienter ist, mit einem Einkauf alle Waren vom Einkaufszettel zu besorgen, statt für jedes einzelne Produkt gesondert einkaufen zu gehen, versucht die Software hinter Python deshalb, Dateizugriffe zu bündeln.\n",
    "\n",
    "Wenn Sie also etwas auf eine Datei ausgeben, wird dieser Inhalt meist erstmal im Arbeitsspeicher zwischengespeichert. Erst wenn genügend Daten gesammelt wurden, werden diese in einem einzelnen Zugriff auf die Festplatte geschrieben.\n",
    "\n",
    "Was aber, wenn Sie nur ein paar Zeichen ausgeben und danach nichts mehr kommt? Dann bleiben die Daten im Arbeitsspeicher und werden erst in die Datei geschrieben, wenn das Dateiobjekt geschlossen wird.\n",
    "\n",
    "Deshalb ist es wichtig, dass wir Dateiobjekte per `close` schließen - denn dabei findet dieses Herausschreiben der letzten zwischengespeicherten Daten statt. Tun wir das nicht, sind die Daten in unserer Datei eventuell unvollständig."
   ]
  },
  {
   "cell_type": "markdown",
   "id": "ce052c89-074d-48da-8f7f-22f92cb55252",
   "metadata": {},
   "source": [
    "## Context-Manager: Damit wir das `close` nicht vergessen"
   ]
  },
  {
   "cell_type": "markdown",
   "id": "580ad81e-a57d-482a-8a4f-efcc83e5d5c7",
   "metadata": {},
   "source": [
    "Es gibt viele Situationen, in denen wir ein Objekt davon informieren müssen, dass wir es nicht mehr brauchen. Dateiobjekte sind nur ein Beispiel. Deshalb bietet Python uns dafür ein spezielles Konstrukt an: Den `with`-Block.\n",
    "\n",
    "Hier ein Beispiel für die Verwendung mit Dateien:"
   ]
  },
  {
   "cell_type": "code",
   "execution_count": null,
   "id": "eeee6033-a775-4d07-865e-e240425454b3",
   "metadata": {},
   "outputs": [],
   "source": [
    "with open(\"ausgabe.txt\", \"w\") as datei:\n",
    "     print(78120,\"Furtwangen\",file=datei)"
   ]
  },
  {
   "cell_type": "markdown",
   "id": "db645935-a3b3-4815-8f16-62343321715e",
   "metadata": {},
   "source": [
    "Das `with`-Konstrukt hat allgemeiner den folgenden Aufbau:\n",
    "```python\n",
    "with <Ausdruck> as <Variable>:\n",
    "    <Anweisungsblock>\n",
    "```\n",
    "\n",
    "Vor Betreten des Anweisungsblocks wird der Ausdruck ausgewertet und das Ergebnis in der Variablen gespeichert. Dann wird der Block ausgeführt. Wird der Block verlassen - entweder normal oder, weil ein Fehler aufgetreten ist - wird spezieller Code ausgeführt, der das Objekt in der Variablen wieder freigibt. Im Fall von Dateien sorgt dies dafür, dass die Datei geschlossen wird."
   ]
  },
  {
   "cell_type": "markdown",
   "id": "8b73fdd5-97a7-486a-b740-1aaea4a8e2d9",
   "metadata": {
    "jp-MarkdownHeadingCollapsed": true
   },
   "source": [
    "# Lektion 6: Bisektionssuche und Fließkommazahlen"
   ]
  },
  {
   "cell_type": "markdown",
   "id": "8781c01b-e7ee-4299-94b0-6827b65213fe",
   "metadata": {
    "jp-MarkdownHeadingCollapsed": true
   },
   "source": [
    "## \"Teile und Herrsche\": Die Bisektionsverfahren"
   ]
  },
  {
   "cell_type": "markdown",
   "id": "c4ec9e4a-6e51-47d5-8827-fcd89062435a",
   "metadata": {},
   "source": [
    "\"Teile und Herrsche\" ist ein wichtiges Prinzip beim Entwurf von Algorithmen: Manchmal können wir ein Problem auf zwei oder mehrere kleinere Probleme derselben Art zurückführen, und an irgendeiner Stelle wird das Problem so offensichtlich, das man es direkt lösen kann.\n",
    "\n",
    "Ein Beispiel hierfür ist die Suche nach einer Nullstelle in einer Funktion. Nehmen wir an, wir hätten die Funktion $f\\left(x\\right) = x^3 + 4x^2+4$ und wir suchen eine Nullstelle zwischen $x=0$ und $x=3$. Wir wissen, dass da (mindestens) eine Nullstelle ist, denn die Funktion wechselt dort ihr Vorzeichen: $f\\left(0\\right)=4$ und $f\\left(3\\right)=-8$.\n",
    "\n",
    "Wir können ja mal die Mitte ausprobieren. Wir finden heraus, dass $f\\left(1,5\\right)=-3,125$ gilt. Das bedeutet, dass zwischen $x=0$ und $x=1,5$ (mindestens) eine Nullstelle ist.\n",
    "\n",
    "Nun stehen wir vor demselben Problem wie am Anfang: Wir wissen, dass zwischen zwei Extremwerten von $x$ eine Nullstelle liegt, aber nicht genau, wo sie liegt. Das Intervall, in dem wir die Nullstelle vermuten, ist aber nun nur noch halb so klein. Wir könnten das Verfahren nun so lange anwenden, bis wir die Nullstelle so genau eingrenzen können, dass die kleine Abweichung nicht mehr relevant für uns ist.\n",
    "\n",
    "Das Grundprinzip funktioniert wie folgt: Eingabe ist ein Intervall, in dem wir die Lösung vermuten.\n",
    "1. Berechne den Mittelpunkt des Intervalls.\n",
    "2. Wenn dort das gesuchte Element liegt: Beende das Verfahren.\n",
    "3. Prüfe, ob das gesuchte Element größer oder kleiner ist als das Element beim Mittelpunkt.\n",
    "4. Wiederhole entsprechend mit der unteren bzw. oberen Hälfte des Intervalls.\n",
    "\n",
    "Dabei wird mit jedem Durchlauf das Intervall halbiert. Für eine Liste mit $2^N$ Elementen brauchen wir dann also maximal $N$ durchläufe. Würden wir einfach Durchsuchen, bräuchten wir $2^N-1$ Durchläufe."
   ]
  },
  {
   "cell_type": "markdown",
   "id": "1a286af1-be26-4d8f-bbd7-99720e08fae7",
   "metadata": {},
   "source": [
    "### Bisektionssuche für die Quadratwurzel"
   ]
  },
  {
   "cell_type": "markdown",
   "id": "1bd3c767-2960-43de-92b4-a8c13ea48ae7",
   "metadata": {},
   "source": [
    "Mit diesem Verfahren können wir etwa die Quadratwurzel einer positiven Zahl $x$ nähern. Wir wissen, dass die Wurzel zwischen $0$ und $x$ liegt. Das ist unser Anfangsintervall. Wenn wir eine Zahl $z$ haben, für die $z^2<x$ gilt, dann wissen wir auch, dass $z<\\sqrt{x}$ gilt.\n",
    "\n",
    "So können wir ein Programm schreiben, das die Wurzel von $x$ mit einem maximalen Fehler von $\\pm e$ berechnet:"
   ]
  },
  {
   "cell_type": "code",
   "execution_count": null,
   "id": "86e54f94-1581-407e-9b94-9114e06b989c",
   "metadata": {},
   "outputs": [],
   "source": [
    "x = float(input(\"Geben Sie eine positive Zahl ein:\"))\n",
    "# TODO: Nutzen Sie das Bisektionsverfahren, um das Intervall um sqrt(x) iterativ zu verfeinern"
   ]
  },
  {
   "cell_type": "markdown",
   "id": "b3476068-e704-43fe-8e0b-05f7553a07fe",
   "metadata": {},
   "source": [
    "### Andere Anwendungen"
   ]
  },
  {
   "cell_type": "markdown",
   "id": "54050d2a-1d60-4d2b-8fc6-d3ed50340813",
   "metadata": {},
   "source": [
    "Die Bisektionssuche können wir immer einsetzen, wenn wir große Datenmengen durchsuchen, die sortiert vorliegen und in denen wir per Zahlenindex (wie bei Listen) auf einen bestimmten Eintrag zugreifen können.\n",
    "\n",
    "Wenn wir zum Beispiel eine Datenbank mit allen ca. 83,3 Mio Einwohnerinnen und Einwohnern der Bundesrepublik Deutschland hätten (Stand: 2024), und diese Datenbank nach den Passnummern sortiert wären, so bräuchten wir mit der Bisektionssuche maximal 27 Vergleiche, um einen bestimmten Eintrag anhand der Passnummer zu finden.\n",
    "\n",
    "Mit jedem Bisektionsschritt halbiert sich nämlich der Suchraum, und nach 27 Schritten könnten wir einen Suchraum von $2^{27}$ Elementen (das sind ca. 134,2 Mio) auf ein einzelnes Element halbiert haben."
   ]
  },
  {
   "cell_type": "markdown",
   "id": "692ccdb4-29c6-42f6-85d7-17ec76093f7c",
   "metadata": {
    "jp-MarkdownHeadingCollapsed": true
   },
   "source": [
    "## Fließkommazahlen: Wie genau können wir eigentlich rechnen?"
   ]
  },
  {
   "cell_type": "markdown",
   "id": "8759cf06-21b7-4328-a2e2-b7b28cb08db5",
   "metadata": {},
   "source": [
    "Ganzzahlen reichen uns nicht immer. Es gibt viele Beispiele, in denen wir auch mit (eigentlich) reellen Zahlen arbeiten müssen:\n",
    "- Finanzanwendungen: Wertpapier- und Währungskurse, Zinsen, Geldbeträge\n",
    "- Spiele: Vektoren und Matrizen für Position und Rotation, Helligkeitsberechnungen (z.B. im Raytracing)\n",
    "- Simulationen: Physische Größen wie Geschwindigkeit, Kraft oder Drehmoment\n",
    "- Anlagensteuerung: Messgrößen wie Temperaturen, Drücke, Volumen\n",
    "\n",
    "Computer können jedoch reelle und auch rationale Zahlen nicht vollständig verarbeiten: Diese Zahlenmengen sind unendlich groß, und am Computer können wir aufgrund des begrenzten Speicherplatzes schon prinzipiell keine unendlich großen Mengen repräsentieren (auch wenn zum Beispiel Ganzzahlen in Python grundsätzlich beliebig groß werden können).\n",
    "\n",
    "Aus diesem Grund sind alle Rechnungen am Computer, die nicht mit ganzen Zahlen arbeiten, immer nur Näherungen. Im Computer können wir weder reelle noch rationale Zahlen darstellen. Wir haben aber sogenannte **Fließkommazahlen** zur Verfügung."
   ]
  },
  {
   "cell_type": "markdown",
   "id": "5a358ae6-d47d-4116-971f-345d274cff0c",
   "metadata": {},
   "source": [
    "### Das Komma fließt"
   ]
  },
  {
   "cell_type": "markdown",
   "id": "24e165a1-4ba6-461d-af07-7507944330c8",
   "metadata": {},
   "source": [
    "In den Ingenieurswissenschaften oder der Physik haben wir es oft mit ungenauen Messungen zu tun. Meist bieten die Messgeräte dabei eine Genauigkeit, die relativ zum Messbereich ist. So können wir mit einem handelsüblichen Voltmeter Spannungen im Bereich von 0 bis 200 Millivolt auf ein Zehntel Millivolt, aber im Bereich von 0 bis 200 Volt nur auf ein Zehntel Volt messen. Der Messfehler wird also bei größerem Messbereich auch größer.\n",
    "\n",
    "Deshalb schreibt man in diesen Wissenschaften meist nur eine feste Anzahl von Ziffern auf. Wenn wir $200,1$ Millivolt gemessen haben, benötigen wir genauso viele Stellen, wie wenn wir $125,5$ Volt gemessen haben. Die Zahl der Ziffern bleibt konstant, aber es ändert sich die Größenordung: Die $200,1$ Millivolt sind eigentlich $0,2001$ Volt.\n",
    "\n",
    "Wir könnten auch schreiben: $2,001 \\times 10^{-1}$ Volt. Dabei verschieben wir das Komma um eine Stelle nach links, und kompensieren dies durch die Multiplikation mit dem Faktor $10^{-1}$. Wir bezeichnen die $-1$ hier als den *Exponenten*, und den Wert $2,001$ als die *Mantisse*.\n",
    "\n",
    "In der sogenannten *wissenschaftlichen Notation* wird dabei der Exponent so gewählt, dass vor dem Komma genau eine Stelle steht, die nicht Null ist. Ausnahme ist natürlich die Null selbst. In der *technischen Notation* können ein bis drei Stellen vor dem Komma stehen.\n",
    "\n",
    "Durch die Veränderung des Exponenten können wir also das Komma verschieben. Wir sprechen deshalb auch von der **Gleit- oder Fließkommadarstellung**. Hierher rührt auch der Name `float` für den Typ solcher Zahlen in Python."
   ]
  },
  {
   "cell_type": "markdown",
   "id": "d47b482e-2841-40f2-92ae-c58aeeceb17c",
   "metadata": {},
   "source": [
    "### Das Fließkommaformat"
   ]
  },
  {
   "cell_type": "markdown",
   "id": "8e9d2657-743b-4845-95bb-6cb9aaa94c6d",
   "metadata": {},
   "source": [
    "Im Fließkommaformat wird nun also das Vorzeichen der Zahl, der Exponent und die Mantisse gespeichert. Dabei kann der Exponent nur Werte in einem bestimmten Bereich annehmen, und von der Mantisse wird nur eine feste Anzahl von Ziffern gespeichert. Zahlen, die mehr Ziffern als die verfügbare Anzahl haben, werden geeignet **gerundet**."
   ]
  },
  {
   "cell_type": "markdown",
   "id": "babc9b48-f4ed-4a07-8aed-54f52568653b",
   "metadata": {},
   "source": [
    "### Alles wird gerundet"
   ]
  },
  {
   "cell_type": "markdown",
   "id": "1e6e9d80-71d4-495f-b642-1459993b8bd2",
   "metadata": {},
   "source": [
    "Das bedeutet auch, dass bei jeder Rechenoperation in der Fließkommadarstellung Rundungsfehler auftreten können. Nehmen wir als Beispiel eine Fließkommadarstellung mit 3 Nachkommastellen, und addieren in dieser Darstellung die Zahlen $1,000 \\times 10^0$ und $1,000 \\times 10^{-4}$.\n",
    "\n",
    "Regulär wäre das Ergebnis $1,0001 \\times 10^0$. Da wir allerdings nur drei Nachkommastellen zur Verfügung haben, müssen wir runden und erhalten $1,000 \\times 10^0$.\n",
    "\n",
    "Hier sehen wir auch, dass die normalen Regeln der Algebra für Fließkommazahlen nicht gelten: Wir haben zwei Zahlen addiert, die beide *nicht* Null waren, und dennoch ist das Ergebnis eine der beiden Zahlen! Mit rationalen oder reellen Zahlen passiert das nicht."
   ]
  },
  {
   "cell_type": "markdown",
   "id": "598d0f15-aa30-4572-b83b-1ff34d5b281d",
   "metadata": {},
   "source": [
    "### Probieren Sie es aus!"
   ]
  },
  {
   "cell_type": "code",
   "execution_count": null,
   "id": "14a404f8-2cfd-4a2e-99d7-973438dad1aa",
   "metadata": {},
   "outputs": [],
   "source": [
    "x=0\n",
    "for i in range(5):\n",
    "    x=x+0.2\n",
    "    print(x)"
   ]
  },
  {
   "cell_type": "markdown",
   "id": "4e237899-815c-4290-8d54-2f1853bd45b2",
   "metadata": {},
   "source": [
    "Regulär müssten die Zahlen `0.2`, `0.4`, `0.6`, `0.8` und `1.0` herauskommen. Wir sehen aber, dass das bei der `0.6` nicht ganz funktioniert. Hier kann sowohl bei der Rechnung als auch bei der Umwandlung in eine Zeichenkette ein solcher Fehler auftreten."
   ]
  },
  {
   "cell_type": "markdown",
   "id": "1555b65d-1cb8-4abb-97e9-c054819ea6ba",
   "metadata": {},
   "source": [
    "### Binäre Zahlendarstellung"
   ]
  },
  {
   "cell_type": "markdown",
   "id": "2a7f9682-d6d1-4881-a5a0-e630506afd75",
   "metadata": {},
   "source": [
    "Genau genommen wird im Computer nämlich nicht in Dezimalzahlen, sondern im Binärsystem gerechnet. Dabei stehen uns die zwei Ziffern 0 und 1 zur Verfügung. Im Dezimalsystem steht die Zahl $1981$ eigentlich für $1*10^3 + 9*10^2 + 8*10^1 + 1*10^0$.\n",
    "\n",
    "Genauso steht im Binärsystem die Zahl $1011$ für $1*2^3 + 0*2^2 + 1*2^1 + 1*2^0$. In Dezimal dargestellt wäre das die $11$."
   ]
  },
  {
   "cell_type": "markdown",
   "id": "d4bb0c10-2247-4af4-a2f6-39a19bcf84d1",
   "metadata": {},
   "source": [
    "### Binäre Fließkommazahlen"
   ]
  },
  {
   "cell_type": "markdown",
   "id": "811c4eb7-4973-4668-80ec-207f97bb6721",
   "metadata": {},
   "source": [
    "Genauso können wir natürlich auch Nachkommastellen darstellen. $9,1$ steht eigentlich für $9*10^0 + 1*10^{-1}$. In Binär wäre `1,1` also $1*2^0+1*2^{-1}$. Das entspräche in Dezimaldarstellung $1,5$.\n",
    "\n",
    "Wir wissen auch, dass zum Beispiel $\\frac{1}{3}$ keine endliche Dezimaldarstellung hat: $0,33333\\ldots$.\n",
    "\n",
    "Dasselbe Phänomen gibt es auch im Binärsystem: $0,1$ dezimal ist zum Beispiel $0,000110011\\ldots$.\n",
    "\n",
    "Das bedeutet, dass bestimmte Dezimalzahlen nicht exakt im Fließkommasystem darstellbar sind."
   ]
  },
  {
   "cell_type": "markdown",
   "id": "8cc0e435-b74d-46a1-9b1d-f4688f10d829",
   "metadata": {},
   "source": [
    "### Arbeiten mit Fließkommazahlen"
   ]
  },
  {
   "cell_type": "markdown",
   "id": "a92e9059-d564-4da6-821d-1a7d151021e5",
   "metadata": {},
   "source": [
    "Wir wissen nun, dass bei Fließkommazahlen einige Rechenabweichungen auftreten sollen. Das soll natürlich nicht heißen, dass der Computer sich hier verrechnet - das Ergebnis ist korrekt, wenn man die Rundung mit berücksichtigt.\n",
    "\n",
    "Das hat aber Konsequenzen dafür, wie wir mit Fließkommazahlen arbeiten. Hätten wir im obigen Beispiel etwa so lange '0.2' aufaddiert, bis exakt '0.6' herausgekommen wäre, wäre diese Schleife niemals zum Ende gekommen.\n",
    "\n",
    "Wir dürfen also Ergebnisse von Fließkommaberechnungen niemals auf exakte Gleichheit mit anderen Fließkommazahlen prüfen. Stattdessen schauen wir, ob unser Ergebnis und die Vergleichszahl sich nah genug sind. Die Abweichung, die wir dabei tolerieren, nennen wir üblicherweise **Epsilon**, vom griechischen Buchstaben $\\epsilon$, der in der Mathematik für kleine, positive Zahlen eingesetzt wird.\n",
    "\n",
    "Aufgrund der besonderen Darstellung ist dieses $\\epsilon$ immer ein relativer Fehler - außer, wir vergleichen mit der Null, dann ist es ein absoluter Fehler.\n",
    "\n",
    "Wenn wir als Ergebnis also eigentlich den Wert $x$ - nicht Null - erwarten, dann prüfen wir, ob das tatsächliche Ergebnis im Bereich von $x - \\epsilon\\left|x\\right|$ bis $x+\\epsilon\\left|x\\right|$ liegt. Ist unser erwarteter Wert Null, so prüfen wir, ob $x$ im Bereich von $-\\epsilon$ bis $+\\epsilon$ liegt."
   ]
  },
  {
   "cell_type": "markdown",
   "id": "88d4d430-adfc-4c1a-bb9f-04f25c8018be",
   "metadata": {},
   "source": [
    "### Welches Epsilon soll's denn sein?"
   ]
  },
  {
   "cell_type": "markdown",
   "id": "8efbc691-8011-44c5-b232-15763ea3a3cd",
   "metadata": {},
   "source": [
    "Wie wählen wir dieses Epsilon? Am besten zweckmäßig.\n",
    "\n",
    "Wenn wir genau sein wollten, müssten wir uns die Eigenschaften unserer Berechnung ansehen, und daraus schließen, wie groß der größte zu erwartende Fehler denn sein dürfte. Dies ist Gegenstand der **Numerik**, eines Spezialgebiets der Mathematik - und für uns hier viel (noch?) viel zu kompliziert (Eines der Standardwerke zur Numerik - \"Accuracy and Stability of Numerical Algorithms\" von Nicholas J. Higham - hat über 680 Seiten und setzt einiges an mathematischen Vorkenntnissen voraus).\n",
    "\n",
    "Alternativ können wir auch probieren, oder einen für unsere Anwendung sinnvollen Wert festlegen. Wenn wir unser Ergebnis am Ende ohnehin nicht mit mehr als drei Nachkommastellen ausgeben, dann lohnt es sich auch nicht, unser $\\epsilon$ kleiner als $10^{-3}$ zu machen.\n",
    "\n",
    "Es gibt allerdings eine untere Grenze. Diese ergibt sich natürlich aus der Zahl der verfügbaren Nachkommastellen."
   ]
  },
  {
   "cell_type": "markdown",
   "id": "d8c34104-bfa6-4303-af9a-79c4e85e776b",
   "metadata": {},
   "source": [
    "### IEEE754 - Der Standard für Fließkommazahlen"
   ]
  },
  {
   "cell_type": "markdown",
   "id": "650fd40c-5e6d-42aa-b44e-4a5058d530ff",
   "metadata": {},
   "source": [
    "Früher war das nicht ganz einfach festzustellen, da sich die Darstellungsformen von Computer zu Computer stark unterschieden. Seit 1985 ist dieser Wildwuchs vorbei, denn da wurde der Standard IEEE754 veröffentlicht. Das IEEE ist das \"Institute of Electrical and Electronics Engineers\", also der Berufsverband der IngenieurInnen, TechnikerInnen, NaturwissenschaftlerInnen und... InformatikerInnen.\n",
    "\n",
    "Dieser Standard definiert eine Reihe von Darstellungsformaten für Fließkommazahlen und auch die Anforderungen an die Genauigkeit bestimmter Operationen. Die Formate werten als \"single precision\", \"double precision\" und \"extended precision\" bezeichnet, und haben unterschiedlich große Exponentenbereiche und unterschiedlich lange Nachkommafelder.\n",
    "\n",
    "Python verwendet die double-precision-Darstellung für `float`, womit sich der kleinste sinnvolle Wert von $\\epsilon$ zu $2^{-52}$ ergibt, was etwa $2,2 \\times 10^{-16}$ entspricht."
   ]
  },
  {
   "cell_type": "markdown",
   "id": "164dcd79-10e6-4649-9e9e-015f963ddbd6",
   "metadata": {},
   "source": [
    "# Lektion 7: Mehr Funktionen und Bibliotheken"
   ]
  },
  {
   "cell_type": "markdown",
   "id": "7cd13555-9e81-42ab-a69b-c80be824929c",
   "metadata": {
    "jp-MarkdownHeadingCollapsed": true
   },
   "source": [
    "## Mehr Funktionen"
   ]
  },
  {
   "cell_type": "markdown",
   "id": "d5b00e54-22ec-4677-83a0-59db3b396429",
   "metadata": {},
   "source": [
    "Bei einem Funktionsaufruf wird eine neue Umgebung für Variablen für die Funktion angelegt. Die aktuellen Variablen und Ihre Werte werden also gesichert, so dass Variablen mit demselben Namen neue Werte zugewiesen werden können, ohne die alten zu zerstören.\n",
    "\n",
    "Dies ist insbesondere dann wichtig, wenn eine Funktion sich selbst aufruft (wir sprechen von rekursiven Funktionen), wie diese Definition der Fakultät:"
   ]
  },
  {
   "cell_type": "code",
   "execution_count": null,
   "id": "fe7e2f86-46ef-4de7-8ad3-ac31a2f4d79e",
   "metadata": {},
   "outputs": [],
   "source": [
    "def fakultät(n):\n",
    "    if n <= 1:\n",
    "        return 1\n",
    "    else:\n",
    "        return n*fakultät(n-1)\n",
    "\n",
    "fakultät(5)"
   ]
  },
  {
   "cell_type": "markdown",
   "id": "fe96328a-55e7-4eaf-a2f2-d02706114ab3",
   "metadata": {},
   "source": [
    "Der Parameter `n`, der hier zur lokalen Variable in der Funktion wird, bekommt durch die wiederholten Aufrufe mehrere unterschiedliche Werte zugewiesen:\n",
    "\n",
    "- im äußersten Aufruf ist `n` gleich 5,\n",
    "- im ersten inneren Aufruf ist `n` gleich 4,\n",
    "- im zweiten inneren Aufruf ist `n` gleich 3,\n",
    "- usw.\n",
    "\n",
    "Diese verschiedenen Instanzen von `n` sind **unabhängig** voneinander, d.h. bei der Rückkehr aus dem zweiten inneren Aufruf in den ersten inneren Aufruf wird die Instanz von `n` mit dem Wert 3 entfernt, und im ersten inneren Aufruf hat `n` dann wieder den Wert 4."
   ]
  },
  {
   "cell_type": "markdown",
   "id": "8eb57ff6-739a-498a-8108-4621b62256d3",
   "metadata": {},
   "source": [
    "TODO: Continue here"
   ]
  },
  {
   "cell_type": "markdown",
   "id": "2ba5cff1-c1a8-44bb-9aea-c2f1ee12e554",
   "metadata": {
    "jp-MarkdownHeadingCollapsed": true
   },
   "source": [
    "## Bibliotheken"
   ]
  },
  {
   "cell_type": "markdown",
   "id": "2ce7db0a-36fa-48f0-bc3d-eb53c0cb6370",
   "metadata": {},
   "source": [
    "Funktionen ermöglichen uns die Wiederverwendung von Code, und viel solcher Code wurde schon geschrieben. Es bietet sich also an, bereits vorhandenen Code wiederzuverwenden.\n",
    "\n",
    "Solche Funktionen werden in sogenannten **Modulen** zusammengeführt. Einige solcher Module sind in der [Python-Standardbibliothek](https://docs.python.org/) zusammengeführt."
   ]
  },
  {
   "attachments": {},
   "cell_type": "markdown",
   "id": "edbec83d-4152-498c-925a-03b94d9a05c5",
   "metadata": {},
   "source": [
    "### Das `math`-Modul\n",
    "Das `math`-Modul enthält eine Reihe von mathematischen Funktionen und Konstanten:\n",
    "\n",
    "- Exponential- und Logarithmenfunktionen: `exp`, `log`, `pow`, `sqrt`\n",
    "- Trigonometrische Funktionen: `sin`, `cos`, `tan`, `acos`, `asin`, `atan`, `atan2`\n",
    "- Winkelumrechnung: `degrees`, `radians`\n",
    "- `pi`: die Kreiskonstante 𝜋 (ca. 3,1415925…)\n",
    "- `e`: eulersche Zahl (ca. 2,71828…)\n",
    "- ...\n",
    "\n",
    "Um diese Funktionen und Konstanten verwenden zu können, müssen wir das Modul **importieren**. Dies geschieht mit der `import`-Anweisung:"
   ]
  },
  {
   "cell_type": "code",
   "execution_count": null,
   "id": "7a78bdd4-1a11-410f-bb48-d9e99d16737b",
   "metadata": {},
   "outputs": [],
   "source": [
    "import math\n",
    "x=math.radians(45)   # 45 Grad in Bogenmaß konvertieren\n",
    "print(f\"45° im Bogenmaß:{x}\")\n",
    "y=math.sin(x)        # Sinus des Winkels berechnen\n",
    "print(f\"sin(45°):{y}\")"
   ]
  },
  {
   "cell_type": "markdown",
   "id": "5f162009-416d-47f7-bee7-0d581f2610e8",
   "metadata": {},
   "source": [
    "Die Funktionen sind dabei innerhalb eines Modul-Objekts `math` zugreifbar.\n",
    "Um also die Funktion oder die Variable `x` aus dem Objekt `math` zu verwenden, müssen wir die Schreibweise `math.x` verwenden (siehe oben mit `math.radians` und `math.sin`)."
   ]
  },
  {
   "cell_type": "markdown",
   "id": "b2b68e72-cfb2-44cb-8b63-e19635173334",
   "metadata": {},
   "source": [
    "Unser eigener Code ist dabei ebenfalls in einem Modul enthalten. Der Name dieses Moduls steht in der Variablen `__name__`:"
   ]
  },
  {
   "cell_type": "code",
   "execution_count": null,
   "id": "b3e2fc9c-3d7e-4a00-a303-4a659e65a043",
   "metadata": {},
   "outputs": [],
   "source": [
    "__name__"
   ]
  },
  {
   "cell_type": "markdown",
   "id": "e02316b5-b60a-4566-9f46-d7a8c71fda44",
   "metadata": {},
   "source": [
    "Das Hauptmodul hat immer den Namen `__main__`. Die Variable ist aber auch für andere Module definiert:"
   ]
  },
  {
   "cell_type": "code",
   "execution_count": null,
   "id": "e0e3a5e7-ae80-42f3-a9ea-06743e384892",
   "metadata": {},
   "outputs": [],
   "source": [
    "math.__name__"
   ]
  },
  {
   "cell_type": "markdown",
   "id": "a855f71b-3943-4a6d-b411-c300d5a3a23b",
   "metadata": {},
   "source": [
    "Wenn uns die Verwendung des Präfixes irgendwann zu aufwändig wird, können wir auch Namen aus einem anderen Modul (z.B. eben `math`) in unser Modul importieren und sie dann ohne Präfix verwenden. Hierfür verwenden wir eine spezielle Form der `import`-Anweisung:"
   ]
  },
  {
   "cell_type": "code",
   "execution_count": null,
   "id": "0bf5c7bb-a983-4c23-bd32-f26fefe01ed3",
   "metadata": {},
   "outputs": [],
   "source": [
    "from math import radians, sin\n",
    "x=radians(45)   # 45 Grad in Bogenmaß konvertieren\n",
    "print(f\"45° im Bogenmaß:{x}\")\n",
    "y=sin(x)        # Sinus des Winkels berechnen\n",
    "print(f\"sin(45°):{y}\")"
   ]
  },
  {
   "cell_type": "markdown",
   "id": "71503a27-c970-47b7-bd5e-3a90a941a083",
   "metadata": {},
   "source": [
    "Diese Anweisung sorgt dafür, dass die Objekte `radians` und `sin`aus dem `math`-Modul nun an die entsprechenden Namen in unserem Hauptmodul gebunden werden. So können wir diese Namen dann direkt verwenden.\n",
    "\n",
    "Das geht auch mit anderen Objekten außer Funktionen, z.B. auch mit Variablen. Das Modul `math` bietet uns zum Beispiel die Konstante `pi` als Variable an:"
   ]
  },
  {
   "cell_type": "code",
   "execution_count": null,
   "id": "9d5cb581-0a4c-4cd8-9e55-78e920464c9f",
   "metadata": {},
   "outputs": [],
   "source": [
    "from math import pi\n",
    "print(f\"Laut Python hat π den Wert {pi}\")"
   ]
  },
  {
   "cell_type": "markdown",
   "id": "16c86434-d15f-4511-a7b3-97500da84132",
   "metadata": {},
   "source": [
    "### Verwendung eigener Module\n",
    "Im Verzeichnis zu dieser Lektion liegt eine Python-Datei mit dem Namen `testmodul.py`. Dies ist eine einfache Textdatei, kein Notebook, d.h. Sie könnten Sie mit einem einfachen Texteditor bearbeiten.\n",
    "\n",
    "In der Datei ist eine einzelne Funktion mit dem Namen `fakultät` definiert. Außerdem enthält die Datei Docstrings für das Modul und für die Funktion, so dass wir uns mit der `help()`-Funktion die Dokumentation zu beidem ansehen können."
   ]
  },
  {
   "cell_type": "code",
   "execution_count": null,
   "id": "91a93066-2b79-4de9-933e-f13da71b03fc",
   "metadata": {},
   "outputs": [],
   "source": [
    "import testmodul\n",
    "help(testmodul)"
   ]
  },
  {
   "cell_type": "markdown",
   "id": "dd796f37-e3fb-4d87-93bf-ad00f3a60d2e",
   "metadata": {},
   "source": [
    "Genauso können wir die Hilfe zur Funktion abrufen:"
   ]
  },
  {
   "cell_type": "code",
   "execution_count": null,
   "id": "31d8ec7d-f208-483e-aecf-3f69683f0d11",
   "metadata": {},
   "outputs": [],
   "source": [
    "help(testmodul.fakultät)"
   ]
  },
  {
   "cell_type": "code",
   "execution_count": null,
   "id": "0e3d1457-f042-461b-a04d-66a5148aff9e",
   "metadata": {},
   "outputs": [],
   "source": [
    "import testmodul\n",
    "print(f\"Fakultät von 5:{testmodul.fakultät(5)}\")"
   ]
  },
  {
   "cell_type": "markdown",
   "id": "ccda09a4-5b4c-430e-8c64-cce107acbb0c",
   "metadata": {},
   "source": [
    "Beim Importieren wird der Inhalt der Moduldatei in einer neuen Umgebung ausgeführt. Definitionen führen dann dazu, dass entsprechende Namen in der neuen Umgebung eingerichtet werden.\n",
    "\n",
    "Wir können aber auch explizit Code beim Import ausführen:"
   ]
  },
  {
   "cell_type": "code",
   "execution_count": null,
   "id": "c24e39f5-7e97-4010-9067-9bfdf6c8c682",
   "metadata": {},
   "outputs": [],
   "source": [
    "print(\"Vor import\")\n",
    "import testmodul2\n",
    "print(\"Nach import\")"
   ]
  },
  {
   "cell_type": "markdown",
   "id": "42386ad7-91e3-4c28-af10-d4bb4bbd5b33",
   "metadata": {},
   "source": [
    "Die `print`-Anweisung im Modul wurde beim Importieren ausgeführt und wir sehen somit eine Ausgabe. Importieren wir das Modul ein zweites Mal, passiert dies nicht mehr:"
   ]
  },
  {
   "cell_type": "code",
   "execution_count": null,
   "id": "1656dc8f-6f00-4129-b9a1-7bae747ec2c3",
   "metadata": {},
   "outputs": [],
   "source": [
    "import testmodul2"
   ]
  },
  {
   "cell_type": "markdown",
   "id": "4e909f97-7754-4569-9f26-85df7255dd51",
   "metadata": {},
   "source": [
    "Python weiß, dass das Modul schon importiert ist, und importiert es demnach nicht mehr erneut."
   ]
  },
  {
   "cell_type": "markdown",
   "id": "cd44dcfc-c8f3-4d79-999b-2f7a964a5826",
   "metadata": {},
   "source": [
    "### Hierarchische Module\n",
    "Hierarchien von Modulen helfen bei der besseren Organisation und dienen auch der Übersichtlichkeit und der Reduktion der Ladezeiten."
   ]
  },
  {
   "cell_type": "code",
   "execution_count": null,
   "id": "30d55ead-dd5d-415a-9a14-e22bcb927bcc",
   "metadata": {},
   "outputs": [],
   "source": [
    "import testlib.modul1\n",
    "\n",
    "testlib.modul1.testfunktion()"
   ]
  },
  {
   "cell_type": "markdown",
   "id": "bdfab0e7-1918-4f83-bec6-d8c7b5e02d79",
   "metadata": {},
   "source": [
    "Mit Hilfe der Datei `__init__.py` können auch Hauptmodule Definitionen direkt enthalten."
   ]
  },
  {
   "cell_type": "code",
   "execution_count": null,
   "id": "034fb1eb-ccc1-446b-8b9a-fc26febb3f3d",
   "metadata": {},
   "outputs": [],
   "source": [
    "import testlib\n",
    "testlib.testfunktion()\n",
    "testlib.testfunktion2()"
   ]
  },
  {
   "cell_type": "markdown",
   "id": "ba5c4ae5-0d6c-4bd0-96da-db98d6600a40",
   "metadata": {
    "jp-MarkdownHeadingCollapsed": true
   },
   "source": [
    "# Lektion 8: Dictionaries und Sets"
   ]
  },
  {
   "cell_type": "markdown",
   "id": "6f202fb9-b2a7-474d-bcf4-eb7819e77f78",
   "metadata": {},
   "source": [
    "Bisher haben wir primär Listen und Tupel als zusammengesetzte Datentypen zur Verfügung. Sie heißen **zusammengesetzt**, weil sie andere Objekte enthalten. Dagegen sind `int` und `float` sogenannte **atomare** Datentypen sind - sie können nicht gespalten werden (anders als das reale Atom).\n",
    "\n",
    "Listen führen Objekte auf und bieten die Möglichkeit, mit Hilfe des Index - einer Zahl - auf einzelne Elemente der Liste zuzugreifen. Wenn wir jedoch aufgrund eines anderen Merkmals - zum Beispiel eines Namens - ein Element in der Liste finden wollen, ist dies etwas umständlich. Effizienter sind hier **Dictionaries**.\n",
    "\n",
    "Wir können auch prüfen, ob ein Element in einer Liste enthalten ist, in dem wir das `in`-Konstrukt verwenden. Im Fall von Listen wird dabei aber im Extremfall die komplette Liste durchsucht. Auch hier gibt es ein effizienteres Konstrukt - das **Set**.\n",
    "\n",
    "Beide Konstrukte wollen wir in dieser Lektion genauer beleuchten."
   ]
  },
  {
   "cell_type": "markdown",
   "id": "fdf9e85b-be44-415c-9f42-259ac45f16f4",
   "metadata": {
    "jp-MarkdownHeadingCollapsed": true
   },
   "source": [
    "## Dictionaries"
   ]
  },
  {
   "cell_type": "markdown",
   "id": "aa9557a9-b582-4d24-8e99-0d0c6a3bc775",
   "metadata": {},
   "source": [
    "Ein Dictionary ist ein Objekt, das mehrere andere Objekte enthalten kann. Anders als bei einer Liste werden die Elemente jedoch nicht durch einen numerischen, fortlaufenden Index bezeichnet, sondern es wird zu jedem Eintrag ein Schlüsselobjekt verwendet. Dieses Schlüsselobjekt kann fast ein beliebiges anderes Objekt aus Python sein:\n",
    "\n",
    "- Eine Zeichenkette,\n",
    "- eine Zahl,\n",
    "- `None`,\n",
    "- ein Tupel,\n",
    "- usw.\n",
    "\n",
    "Ein Beispiel: Um Noten von Studierenden oder Offizierinnen und Offizieren der Sternenflotte aufzuzeichnen, können wir ein Dictionary verwenden. Wir ordnen dabei einem Namen vom Typ `str` eine Note vom Typ `float` zu:"
   ]
  },
  {
   "cell_type": "code",
   "execution_count": null,
   "id": "5076fd69-5af4-4f96-ac7b-c3c9769dae8a",
   "metadata": {},
   "outputs": [],
   "source": [
    "noten = {\n",
    "    \"Jean-Luc\": 1.3,\n",
    "    \"William\": 2.3,\n",
    "    \"Beverly\": 2.0,\n",
    "    \"Deana\": 1.0\n",
    "}"
   ]
  },
  {
   "cell_type": "markdown",
   "id": "031a14e8-efe8-4973-a3dd-99d72297dfab",
   "metadata": {},
   "source": [
    "Nun können wir für bestimmte Personen die Note direkt abfragen:"
   ]
  },
  {
   "cell_type": "code",
   "execution_count": null,
   "id": "777d611f-0321-48cb-9145-1d9ac313de85",
   "metadata": {},
   "outputs": [],
   "source": [
    "noten[\"Jean-Luc\"]"
   ]
  },
  {
   "cell_type": "markdown",
   "id": "9e6f062c-4e37-40e1-b070-764eb7d4f2b9",
   "metadata": {},
   "source": [
    "Versuchen wir jedoch die Note für eine Person abzufragen, für die es keinen Eintrag gibt, so erhalten wir eine Fehlermeldung:"
   ]
  },
  {
   "cell_type": "code",
   "execution_count": null,
   "id": "442828fd-1e25-4291-97bb-936eb50d4e85",
   "metadata": {},
   "outputs": [],
   "source": [
    "noten[\"Geordi\"]"
   ]
  },
  {
   "cell_type": "markdown",
   "id": "71fdbb97-e25f-4b1f-be52-bd155d1b49e8",
   "metadata": {},
   "source": [
    "Als Alternative zur Schreibweise mit dem Index-Operator `[]` können wir auch die `get`-Methode des Dictionary-Objekts verwenden:"
   ]
  },
  {
   "cell_type": "code",
   "execution_count": null,
   "id": "bb579b4c-b3ce-4c0c-843b-6675ccc775a4",
   "metadata": {},
   "outputs": [],
   "source": [
    "noten.get(\"Geordi\")"
   ]
  },
  {
   "cell_type": "markdown",
   "id": "82063031-1570-48d1-88cc-7a4f0c50d582",
   "metadata": {},
   "source": [
    "Da wir für Geordi keine Note haben, liefert `get` hier `None` zurück. Jupyter interpretiert dies so, dass kein Rückgabewert vorhanden ist und gibt deshalb `None` nicht aus.\n",
    "\n",
    "Wir können jedoch den Standard-Rückgabewert auch ändern, indem wir ihn als zweiten Parameter angeben:"
   ]
  },
  {
   "cell_type": "code",
   "execution_count": null,
   "id": "3312f96d-a1f7-401e-8e71-9d3e0ecd0c9f",
   "metadata": {},
   "outputs": [],
   "source": [
    "noten.get(\"Geordi\", 5.0)"
   ]
  },
  {
   "cell_type": "markdown",
   "id": "763eb545-6362-4a55-8b69-b8a2ebd7568b",
   "metadata": {},
   "source": [
    "### Einfügen neuer oder Überschreiben existierender Werte\n",
    "Um einen neuen Wert einzufügen nutzen wir dieselbe Syntax wie für Listenzugriffe. Wir können zum Beispiel die exzellente Note für Geordie nachtragen:"
   ]
  },
  {
   "cell_type": "code",
   "execution_count": null,
   "id": "2a22640e-de85-4cef-808a-ab4f5c8368ee",
   "metadata": {},
   "outputs": [],
   "source": [
    "noten[\"Geordi\"] = 1.0\n",
    "noten[\"Geordi\"]"
   ]
  },
  {
   "cell_type": "markdown",
   "id": "7e0cea0f-c9ed-48f4-bd19-24e929df430e",
   "metadata": {},
   "source": [
    "Die gleiche Syntax verwenden wir, um Einträge zu überschreiben:"
   ]
  },
  {
   "cell_type": "code",
   "execution_count": null,
   "id": "6f89a22a-23a9-44b9-a930-e23f666ce496",
   "metadata": {},
   "outputs": [],
   "source": [
    "noten[\"Beverly\"] = 1.7\n",
    "noten[\"Beverly\"]"
   ]
  },
  {
   "cell_type": "markdown",
   "id": "666b6ddc-c15b-48f5-af2d-aa309985deae",
   "metadata": {},
   "source": [
    "### Löschen von Einträgen\n",
    "Um Einträge (wieder) zu entfernen, können wir die `del`-Anweisung verwenden."
   ]
  },
  {
   "cell_type": "code",
   "execution_count": null,
   "id": "d322b2bf-d76b-4b01-bc6e-ea2d341e2267",
   "metadata": {},
   "outputs": [],
   "source": [
    "del noten[\"Jean-Luc\"]\n",
    "noten[\"Jean-Luc\"]"
   ]
  },
  {
   "cell_type": "markdown",
   "id": "e5b859fd-e5cb-41b4-a8ae-a2d16c76a8d7",
   "metadata": {},
   "source": [
    "Wenn wir versuchen, einen nicht vorhandenen Eintrag zu entfernen, erhalten wir eine Fehlermeldung:"
   ]
  },
  {
   "cell_type": "code",
   "execution_count": null,
   "id": "58fd8043-6af2-4eff-9f95-e8cdc13ebe8a",
   "metadata": {},
   "outputs": [],
   "source": [
    "del noten[\"Montgomery\"]"
   ]
  },
  {
   "cell_type": "markdown",
   "id": "bed04328-0b13-4800-9da8-a5c39c8b9e23",
   "metadata": {},
   "source": [
    "### Vorhandensein eines Schlüssels prüfen\n",
    "Wir können natürlich auch prüfen, ob ein Schlüssel vorhanden ist. Dazu nutzen wir den `in`-Ausdruck:"
   ]
  },
  {
   "cell_type": "code",
   "execution_count": null,
   "id": "87f733d6-3025-431a-83f3-335b05169e95",
   "metadata": {},
   "outputs": [],
   "source": [
    "if \"Nyota\" in noten:\n",
    "    print(f\"Die Note von Nyota Uhura ist {noten['Nyota']}\")\n",
    "else:\n",
    "    print(\"Nyota Uhura hat die Prüfung nicht absolviert!\")"
   ]
  },
  {
   "cell_type": "markdown",
   "id": "0bbc8381-3160-4b6d-9d7d-afc330fa8121",
   "metadata": {},
   "source": [
    "### Auflisten aller Schlüssel\n",
    "Mit einer `for`-Schleife können wir alle vorhandenen Schlüssel in einem Dictionary auflisten:"
   ]
  },
  {
   "cell_type": "code",
   "execution_count": null,
   "id": "f290e08f-af07-47ea-931c-0e74e23c28a9",
   "metadata": {},
   "outputs": [],
   "source": [
    "for key in noten:\n",
    "    print(f\"Note von {key}: {noten[key]}\")"
   ]
  },
  {
   "cell_type": "markdown",
   "id": "9cb9cad2-d9cb-429d-85a3-71b82fe0538f",
   "metadata": {},
   "source": [
    "Wollen wir ohnehin zu jedem Schlüssel auch den ihm zugeordneten Wert, so können wir mit Hilfe von `items()` eine Sequenz der Schlüssel-Wert-Paare erhalten:"
   ]
  },
  {
   "cell_type": "code",
   "execution_count": null,
   "id": "8f814a5c-24ac-4659-927f-6bff1a4641bb",
   "metadata": {},
   "outputs": [],
   "source": [
    "for key, note in noten.items():\n",
    "    print(f\"Note von {key}: {note}\")"
   ]
  },
  {
   "cell_type": "code",
   "execution_count": null,
   "id": "04969e6e-eaed-42ee-98f3-aa0ea6136571",
   "metadata": {},
   "outputs": [],
   "source": [
    "summe = 0\n",
    "for note in noten.values():\n",
    "    summe += note\n",
    "print(f\"Der Notenschnitt beträgt {summe/len(noten)}\")"
   ]
  },
  {
   "cell_type": "markdown",
   "id": "c5759810-0ffd-4d09-a644-86f8feba0f0c",
   "metadata": {},
   "source": [
    "Dabei werden mehrfach auftretende Werte auch mehrfach durchlaufen:"
   ]
  },
  {
   "cell_type": "code",
   "execution_count": null,
   "id": "a2c95948-3e80-4bd9-9dfa-83fa99098967",
   "metadata": {},
   "outputs": [],
   "source": [
    "for note in noten.values():\n",
    "    print(f\"Note:{note}\")"
   ]
  },
  {
   "cell_type": "markdown",
   "id": "9aab785a-31b5-46e5-beba-d7725690661e",
   "metadata": {},
   "source": [
    "Entsprechend zu `items()` und `values()` gibt es auch die Methode `keys()`, die uns alle Schlüssel liefert.\n",
    "Die Iteration über die von `keys()` gelieferte Sequenz ist dabei äquivalent zur Iteration über das Dictionary selbst:"
   ]
  },
  {
   "cell_type": "code",
   "execution_count": null,
   "id": "79b0606e-809a-46c1-a6a9-e8be6d6f9b4b",
   "metadata": {},
   "outputs": [],
   "source": [
    "for key in noten.keys():\n",
    "    print(f\"Note von {key}: {noten[key]}\")"
   ]
  },
  {
   "cell_type": "markdown",
   "id": "9cc268d0-23a5-40ef-8ef3-73e6bc8a7669",
   "metadata": {},
   "source": [
    "### Views\n",
    "Die Methoden `keys()`, `values()` und `items()` liefern uns sogenannte **View-Objekte**. Diese verändern sich mit dem Dictionary:"
   ]
  },
  {
   "cell_type": "code",
   "execution_count": null,
   "id": "46161dcc-8027-4ae0-93e3-028066c2d346",
   "metadata": {},
   "outputs": [],
   "source": [
    "preise = {\"Vanille\": 1.20}\n",
    "items = preise.items()\n",
    "print(f\"items vor Veränderung: {items}\")\n",
    "preise[\"Mango\"] = 2.20\n",
    "print(f\"items nach Veränderung: {items}\")"
   ]
  },
  {
   "cell_type": "markdown",
   "id": "6e96d58f-7a62-474d-9640-75c134bdf495",
   "metadata": {},
   "source": [
    "An vielen Stellen können wir solche Views auch an andere Funktionen übergeben. Das `statistics`-Modul der Python-Standardbibliothek bietet uns z.B. eine `mean()`-Funktion, die den Mittelwert aus einer Sequenz berechnet:"
   ]
  },
  {
   "cell_type": "code",
   "execution_count": null,
   "id": "594e6c59-1b59-43fc-bf6b-b8c7766920d2",
   "metadata": {},
   "outputs": [],
   "source": [
    "from statistics import mean\n",
    "print(f\"Der Notenschnitt beträgt: {mean(noten.values())}\")"
   ]
  },
  {
   "cell_type": "markdown",
   "id": "55fc76bd-eaa2-4bf4-9ff3-0acdb8256a4d",
   "metadata": {},
   "source": [
    "### Voraussetzungen für Schlüssel\n",
    "Ein Dictionary wird durch eine Tabelle aus Schlüsseln und Werten implementiert, deren Einträge fortlaufend durchnummeriert sind. Soll der einem Schlüssel zugeordnete Wert ermittelt werden, so wird wie folgt vorgegangen:\n",
    "\n",
    "1. Es wird ein sogenannter Hash-Wert mit Hilfe einer sogenannten Hash-Funktion bestimmt. Ein Hash-Wert ist eine Zahl.\n",
    "2. Aus dem Hash-Wert wird ein Index in die Tabelle ermittelt. Dies kann zum Beispiel der Rest einer Division des Hash-Werts durch die Anzahl der Einträge in der Tabelle sein.\n",
    "3. Der Eintrag an dem Index wird nun geprüft:\n",
    "   - Befindet sich an dem Index kein Eintrag, wird zurückgemeldet, dass es keinen Eintrag mit dem Schlüssel gibt (z.B. über den `KeyError`).\n",
    "   - Ist der Schlüssel des Eintrags gleich dem gesuchten Schlüssel, so wird der dem Eintrag zugeordnete Wert zurückgeliefert und die Suche ist beendet.\n",
    "   - Ist der Schlüssel nicht gleich dem gesuchten Schlüssel, so wird aus Hash-Wert und Index ein neuer Index berechnet und mit Schritt 3 fortgesetzt.\n",
    "   - Wurden alle Einträge überprüft und der Schlüssel immer noch nicht gefunden, wird zurückgemeldet, dass es keinen Eintrag mit dem Schlüssel gibt.\n",
    "  \n",
    "Eine solche Tabelle bezeichnen wir als **Hash-Tabelle**.\n",
    "Wichtig ist, dass die Hash-Funktion für zwei gleiche Schlüssel auch immer den gleichen Hash-Wert liefert.\n",
    "\n",
    "Darüber hinaus sind ein paar weitere Eigenschaften nützlich.\n",
    "Zum Einen muss der Hash-Wert natürlich schnell berechenbar sein.\n",
    "\n",
    "Andererseits ist der Wertebereich für den Hash-Wert ist eingeschränkt - zum Beispiel könnte ein Hash-Wert auf 64 Bit beschränkt sein. Somit gibt es meist mehr mögliche Objekte als es Hash-Werte gibt, und somit sind sogenannte **Hash-Kollisionen** möglich - nämlich dann, wenn für zwei verschiedene Objekte der gleiche Hash-Wert ermittelt wird. Die Hash-Funktion sollte sicherstellen, dass solche Kollisionen für möglichst alle Objekte gleich wahrscheinlich sind."
   ]
  },
  {
   "cell_type": "markdown",
   "id": "b6d968a0-5e96-42b7-ac0b-37de7967e69a",
   "metadata": {},
   "source": [
    "In Python können wir den Hash-Wert für ein Objekt mit der Funktion `hash()` ermitteln:"
   ]
  },
  {
   "cell_type": "code",
   "execution_count": null,
   "id": "737601b1-52ae-4ba8-a4d9-32659271dfab",
   "metadata": {},
   "outputs": [],
   "source": [
    "hash(5)"
   ]
  },
  {
   "cell_type": "code",
   "execution_count": null,
   "id": "d5515ff5-8492-49fc-a32f-5a0aa58655b6",
   "metadata": {},
   "outputs": [],
   "source": [
    "hash(\"Hello\")"
   ]
  },
  {
   "cell_type": "code",
   "execution_count": null,
   "id": "c264720b-179f-4fbc-8d9e-43aeb798cb8e",
   "metadata": {},
   "outputs": [],
   "source": [
    "hash((1,5,3))"
   ]
  },
  {
   "cell_type": "markdown",
   "id": "15588298-ac4f-4a4e-87ff-a9306fb4add3",
   "metadata": {},
   "source": [
    "**Achtung!** Die konkreten Hash-Werte können sich von Rechner zu Rechner und zwischen Python-Versionen unterscheiden.\n",
    "\n",
    "Für die Funktion `hash()` ist nicht festgelegt, wie der Hash-Wert ermittelt wird, sondern nur, dass die Funktion als Ganzes die oben genannten Eigenschaften erfüllen soll."
   ]
  },
  {
   "cell_type": "markdown",
   "id": "8bd8198b-76ef-43c9-8e03-47a20443ad53",
   "metadata": {},
   "source": [
    "Einige Objekte haben keinen Hash-Wert, zum Beispiel Listen und Dictionaries:"
   ]
  },
  {
   "cell_type": "code",
   "execution_count": null,
   "id": "ef04ea70-7889-46e5-8a6a-48f921440e49",
   "metadata": {},
   "outputs": [],
   "source": [
    "hash([1,2,3])"
   ]
  },
  {
   "cell_type": "code",
   "execution_count": null,
   "id": "862489f0-d4bf-40f0-aa4a-1d2f78aa55ab",
   "metadata": {},
   "outputs": [],
   "source": [
    "hash({'a': 1, 'b': 2})"
   ]
  },
  {
   "cell_type": "markdown",
   "id": "b1eadb1f-0cc6-4de2-9cc1-38b683049284",
   "metadata": {},
   "source": [
    "Grund hierfür ist, dass es sich um veränderliche Objekte handelt. Wenn sich ihr Inhalt ändert, würde sich auch ihr Hash-Wert ändern. Aus diesem Grund können Dictionaries und Listen nicht als Schlüssel für Dictionaries verwendet werden."
   ]
  },
  {
   "cell_type": "markdown",
   "id": "c9f992a9-7ec4-4de3-90c0-87549e5c39d4",
   "metadata": {
    "jp-MarkdownHeadingCollapsed": true
   },
   "source": [
    "## Sets"
   ]
  },
  {
   "cell_type": "markdown",
   "id": "4a4e5493-9aeb-48c3-9559-79520b86b33d",
   "metadata": {},
   "source": [
    "Ein Set ist eine Menge von Elementen, wobei jedes Element höchstens einmal im Set enthalten ist. Es entspricht also im mathematischen Sinne einer Menge.\n",
    "\n",
    "Ein Set erstellen wir ähnlich einem Dictionary. Allerdings enthält ein Set keine Paare von Schlüsseln und Werten sondern nur die Werte:"
   ]
  },
  {
   "cell_type": "code",
   "execution_count": null,
   "id": "dc587e29-438c-4861-8f51-27f3e22c4dcb",
   "metadata": {},
   "outputs": [],
   "source": [
    "crew={\"Jean-Luc Picard\", \"William Riker\", \"Data\", \"Beverly Crusher\", \"Geordi LaForge\"}"
   ]
  },
  {
   "cell_type": "markdown",
   "id": "2ead4d49-8ae1-4325-9f03-3964ab920a3d",
   "metadata": {},
   "source": [
    "Wie auch bei Listen und Dictionaries können wir fragen, ob ein bestimmtes Element im Set enthalten ist:"
   ]
  },
  {
   "cell_type": "code",
   "execution_count": null,
   "id": "f88b2d14-e8ac-4815-b54f-5a2459f82c17",
   "metadata": {},
   "outputs": [],
   "source": [
    "if \"Worf\" in crew:\n",
    "    print(\"Selbstverständlich ist Worf, Sohn des Mogh, Teil der Crew!\")\n",
    "else:\n",
    "    print(\"Natürlich wurde Worf, Sohn des Mogh, wieder vergessen!\")"
   ]
  },
  {
   "cell_type": "markdown",
   "id": "753eca0b-a5b5-4942-9e73-e7fbd94e6dea",
   "metadata": {},
   "source": [
    "### Hinzufügen von Elementen\n",
    "Mit der Funktion `add()` können einzelne Elemente hinzugefügt werden."
   ]
  },
  {
   "cell_type": "code",
   "execution_count": null,
   "id": "3e4e7aaa-5650-4258-aa57-cafb4a8f597a",
   "metadata": {},
   "outputs": [],
   "source": [
    "crew.add(\"Worf\")\n",
    "crew"
   ]
  },
  {
   "cell_type": "markdown",
   "id": "3b78089e-6630-46e6-a626-6ff3b3f4cf09",
   "metadata": {},
   "source": [
    "### Entfernen von Elementen\n",
    "Mit der Funktion `remove()` können einzelne Elemente entfernt werden:"
   ]
  },
  {
   "cell_type": "code",
   "execution_count": null,
   "id": "614df80f-6eca-4905-b126-3c0a6edd4d22",
   "metadata": {},
   "outputs": [],
   "source": [
    "crew.remove(\"Data\")\n",
    "crew"
   ]
  },
  {
   "cell_type": "markdown",
   "id": "f743c616-b45b-4fd9-9ee8-3699b2a69fc7",
   "metadata": {},
   "source": [
    "`remove()` liefert einen Fehler, wenn das zu entfernende Element nicht Teil der Menge ist:"
   ]
  },
  {
   "cell_type": "code",
   "execution_count": null,
   "id": "f1d78afd-b18a-461e-9380-8e87ffd775b8",
   "metadata": {},
   "outputs": [],
   "source": [
    "crew.remove(\"Erik Pressman\")"
   ]
  },
  {
   "cell_type": "markdown",
   "id": "787f6d99-b8da-4728-9b9b-f89b098978f5",
   "metadata": {},
   "source": [
    "### Iteration über die Elemente\n",
    "Wir können direkt mit der `for`-Anweisung die Elemente eines Sets durchlaufen:"
   ]
  },
  {
   "cell_type": "code",
   "execution_count": null,
   "id": "3f5073e4-a263-4d90-9e4b-d78a7279cbcd",
   "metadata": {},
   "outputs": [],
   "source": [
    "for person in crew:\n",
    "    print(f\"{person} ist Teil der Crew\")"
   ]
  },
  {
   "cell_type": "markdown",
   "id": "a9df1878-c90d-4b81-a1c6-5b55811c4264",
   "metadata": {},
   "source": [
    "### Bedingungen für Mengen\n",
    "Für Mengen sind einige Operatoren und Methoden definiert, durch die Über- und Untermengenbeziehungen geprüft werden können:"
   ]
  },
  {
   "cell_type": "code",
   "execution_count": null,
   "id": "9d629b00-b2be-4765-abc8-5cbff7d08307",
   "metadata": {},
   "outputs": [],
   "source": [
    "subset={2,4,6,8}\n",
    "superset={1,2,3,4,5,6,7,8}\n",
    "subset < superset"
   ]
  },
  {
   "cell_type": "code",
   "execution_count": null,
   "id": "2f2afd94-74a4-4f91-a999-47b347cf14e5",
   "metadata": {},
   "outputs": [],
   "source": [
    "subset < subset"
   ]
  },
  {
   "cell_type": "code",
   "execution_count": null,
   "id": "d65ea184-357b-429e-a627-f24d133c8ad8",
   "metadata": {},
   "outputs": [],
   "source": [
    "subset <= subset"
   ]
  },
  {
   "cell_type": "markdown",
   "id": "fc01fef4-2c68-47a2-b950-cb6ac72311f1",
   "metadata": {},
   "source": [
    "### Typumwandlungen\n",
    "Jede Sequenz kann in ein Set umgewandelt werden:"
   ]
  },
  {
   "cell_type": "code",
   "execution_count": null,
   "id": "36d87941-c70b-4d42-b64b-9cbf58e6e317",
   "metadata": {},
   "outputs": [],
   "source": [
    "set(\"Hallo HFU\")"
   ]
  },
  {
   "cell_type": "markdown",
   "id": "5c7b6366-5afa-449e-b363-7ce88161e962",
   "metadata": {},
   "source": [
    "Sets selbst sind Sammlungen (\"Collections\") und können als solche auch überall eingesetzt werden, wo Collections zulässig sind:"
   ]
  },
  {
   "cell_type": "code",
   "execution_count": null,
   "id": "3c48a7e7-e484-416e-9bf6-817d8c5c64ed",
   "metadata": {},
   "outputs": [],
   "source": [
    "\"\".join(set(\"Hallo HFU\"))"
   ]
  },
  {
   "cell_type": "markdown",
   "id": "80936a82-566f-470f-8c45-5e09c333d94e",
   "metadata": {},
   "source": [
    "Sammlungen von Paaren können in Dictionaries umgewandelt werden:"
   ]
  },
  {
   "cell_type": "code",
   "execution_count": null,
   "id": "32615613-8c66-4d8c-84ad-be29e40c58e9",
   "metadata": {},
   "outputs": [],
   "source": [
    "dict([(1,5), (2,10), (3,15)])"
   ]
  },
  {
   "cell_type": "markdown",
   "id": "8624e69b-d314-4b7d-aff1-b82b1ac9f119",
   "metadata": {
    "jp-MarkdownHeadingCollapsed": true
   },
   "source": [
    "# Lektion 9: Funktionale Programmierung"
   ]
  },
  {
   "cell_type": "markdown",
   "id": "84eec260-16af-4720-b830-1be5e4ece177",
   "metadata": {},
   "source": [
    "Wir haben in der Vergangenheit Funktionen definiert und verwendet.\n",
    "\n",
    "Zum Beispiel haben wir einen Notenschnitt mit Hilfe der Funktion `statistics.mean` gebildet:"
   ]
  },
  {
   "cell_type": "code",
   "execution_count": null,
   "id": "167fe1c2-f5cb-4211-8b68-6a65e80f6337",
   "metadata": {},
   "outputs": [],
   "source": [
    "from statistics import mean\n",
    "noten=[1.3, 2.7, 1.5, 4.0, 3.3]\n",
    "mean(noten)"
   ]
  },
  {
   "cell_type": "markdown",
   "id": "5f10dbbe-6eac-4770-a09d-978990c76d6d",
   "metadata": {},
   "source": [
    "Betrachten wir die Funktion einmal etwas genauer: Was passiert, wenn wir der Funktion keine Parameter übergeben?"
   ]
  },
  {
   "cell_type": "code",
   "execution_count": null,
   "id": "b98518de-964e-4507-a8bb-6d832d90ec36",
   "metadata": {},
   "outputs": [],
   "source": [
    "mean"
   ]
  },
  {
   "cell_type": "markdown",
   "id": "061f934d-15ab-49b3-827a-9fcb459ef9ee",
   "metadata": {},
   "source": [
    "Wie es scheint, ist der Name `mean` an ein Objekt gebunden. Fragen wir Python einmal, welchen Typ das Objekt hat:"
   ]
  },
  {
   "cell_type": "code",
   "execution_count": null,
   "id": "2e47db71-56c7-4bc9-bedf-66da853f7114",
   "metadata": {},
   "outputs": [],
   "source": [
    "type(mean)"
   ]
  },
  {
   "attachments": {},
   "cell_type": "markdown",
   "id": "8a71b0ac-e7fe-4524-8056-cf1ae2380195",
   "metadata": {},
   "source": [
    "Es scheint, dass Funktionen zu einem eigenen Typ gehören, der als `function` bezeichnet wird. Das bedeutet aber, dass Funktionen selbst Objekte sind!\n",
    "\n",
    "Tatsächlich ist der Klammeroperator `()`, den wir beim Aufruf verwenden, ein Operator, der auf Funktionen angewandt werden kann, genau so, wie der Index-Operator `[]` auf Listen und Dictionaries angewendet werden kann."
   ]
  },
  {
   "cell_type": "markdown",
   "id": "f2d3167d-3566-44b7-916c-2717a3cae587",
   "metadata": {
    "jp-MarkdownHeadingCollapsed": true
   },
   "source": [
    "## Funktionen als Parameter\n",
    "Das bedeutet aber, dass wir zum Beispiel Funktionen auch als Parameter an andere Funktionen übergeben können.\n",
    "\n",
    "Betrachten wir ein Beispiel: Wir haben eine Sequenz von Zahlen und möchten die Zahlen erhalten, die durch 3 teilbar sind.\n",
    "\n",
    "Wir definieren dafür eine Funktion `divisible_by_3`, die eine Zahl als Parameter erwartet und genau dann `True` zurückgibt, wenn die Zahl durch 3 teilbar ist:"
   ]
  },
  {
   "cell_type": "code",
   "execution_count": null,
   "id": "fe1af3a0-5ef1-4d80-81cf-2f57769f4d8d",
   "metadata": {},
   "outputs": [],
   "source": [
    "def divisible_by_3(n):\n",
    "    return n % 3 == 0"
   ]
  },
  {
   "cell_type": "markdown",
   "id": "370cdb03-03fc-45fc-8957-a9963e6033c9",
   "metadata": {},
   "source": [
    "Diese Funktion ist ein eigenständiges Objekt, das wir nun der Standardfunktion `filter()` zusammen mit der Liste von zu filternden Zahlen übergeben können. Die Funktion `filter` liefert uns dann ein sogenanntes **Generator**-Objekt, das wir im Verlauf dieser Lektion noch kennenlernen. Wir können es einfach in einer Liste konvertieren:"
   ]
  },
  {
   "cell_type": "code",
   "execution_count": null,
   "id": "7285880e-ed77-4b9d-bfe9-94a54487deb4",
   "metadata": {},
   "outputs": [],
   "source": [
    "list(filter(divisible_by_3, [1,2,3,5,9,14,15,27]))"
   ]
  },
  {
   "cell_type": "markdown",
   "id": "4f44a7eb-f3cf-4023-b90b-cee16b0b3436",
   "metadata": {},
   "source": [
    "Die Liste enthält offensichtlich alle Elemente, die durch drei teilbar sind."
   ]
  },
  {
   "cell_type": "markdown",
   "id": "3ee60ac5-400e-416f-8213-7e9c629e5711",
   "metadata": {},
   "source": [
    "Die Funktion `filter()` könnte wie folgt aussehen (wir nennen Sie hier `myfilter`, damit es keine Namenskollision gibt):"
   ]
  },
  {
   "cell_type": "code",
   "execution_count": null,
   "id": "45f7fa11-357d-4fe0-b320-6438eb93e362",
   "metadata": {},
   "outputs": [],
   "source": [
    "def myfilter(prädikat, liste):\n",
    "    resultat = []\n",
    "    for wert in liste:\n",
    "        if prädikat(wert):\n",
    "            resultat.append(wert)\n",
    "    return resultat\n",
    "myfilter(divisible_by_3, [1,2,3,5,9,14,15,27])"
   ]
  },
  {
   "cell_type": "code",
   "execution_count": null,
   "id": "67549c5f-bb02-4db2-8aec-958fd4a8d021",
   "metadata": {},
   "outputs": [],
   "source": [
    "divisible_by_3 = lambda n: n % 3 == 0"
   ]
  },
  {
   "cell_type": "code",
   "execution_count": null,
   "id": "f5b154ed-6bb5-4ecf-97f5-58732b3d10b9",
   "metadata": {},
   "outputs": [],
   "source": [
    "list(filter(lambda n: n % 3 == 0, [1,2,3,5,9,14,15,27]))"
   ]
  },
  {
   "cell_type": "code",
   "execution_count": null,
   "id": "3a0ce7fa-f0d9-4f9c-978b-ad13c7e758a5",
   "metadata": {},
   "outputs": [],
   "source": [
    "noten=[1.3, 2.7, 1.5, 4.0, 3.3]\n",
    "def is_better_than(limit):\n",
    "    return lambda n: n < limit\n",
    "\n",
    "list(filter(is_better_than(2.5), noten))"
   ]
  },
  {
   "cell_type": "code",
   "execution_count": null,
   "id": "9fafb005-a3b5-48f9-b891-95a2139fd85a",
   "metadata": {},
   "outputs": [],
   "source": [
    "list(filter(is_better_than(3), noten))"
   ]
  },
  {
   "cell_type": "markdown",
   "id": "d39e66ba-ac8f-49ae-8455-a05667981724",
   "metadata": {
    "jp-MarkdownHeadingCollapsed": true
   },
   "source": [
    "## Dekoratoren\n"
   ]
  },
  {
   "cell_type": "code",
   "execution_count": null,
   "id": "041fe203-f7e9-49e2-aced-03ce9d27ce7f",
   "metadata": {},
   "outputs": [],
   "source": [
    "def logit(func):\n",
    "    def wrapper(*args):\n",
    "        print(\"Vorher\")\n",
    "        func(*args)\n",
    "        print(\"Danach\")\n",
    "    return wrapper"
   ]
  },
  {
   "cell_type": "markdown",
   "id": "cf162a98-ece4-4e5e-9e35-60800cfac4e2",
   "metadata": {},
   "source": [
    "## Listen-Abstraktionen\n",
    "Wir wollen eine Liste aller Zahlen von 1 bis 99, die durch 3, aber nicht durch 2 teilbar sind:"
   ]
  },
  {
   "cell_type": "code",
   "execution_count": null,
   "id": "047938c8-5d07-4774-9d38-cd88b2a242d5",
   "metadata": {},
   "outputs": [],
   "source": [
    "liste=[]\n",
    "for i in range(1,99):\n",
    "    if i % 3 == 0 and i % 2 != 0:\n",
    "        liste.append(i)\n",
    "liste"
   ]
  },
  {
   "cell_type": "code",
   "execution_count": null,
   "id": "e19dec13-1757-4ccd-b863-2196accc17ad",
   "metadata": {},
   "outputs": [],
   "source": [
    "[i for i in range(1,99) if i % 3 == 0 and i % 2 != 0]"
   ]
  },
  {
   "cell_type": "markdown",
   "id": "0a369249-2c57-44b2-9e5a-177271ff1fac",
   "metadata": {
    "jp-MarkdownHeadingCollapsed": true
   },
   "source": [
    "# Lektion 10: Klassen"
   ]
  },
  {
   "cell_type": "markdown",
   "id": "9d354206-2860-458f-a165-7e29f7c022fa",
   "metadata": {},
   "source": [
    "Wir haben schon mit Objekten gearbeitet, aber bisher vorwiegend mit denen, die uns die Sprache direkt zur Verfügung stellt: Zahlen, Strings, Listen, ...\n",
    "\n",
    "Diese Objekte haben Eigenschaften (z.B. die Länge einer Liste oder den Wert einer Zahl) und Operationen (wie z.B. Addition, Subtraktion, Vergleich von Strings, Anfügen von Elementen an Listen, etc.). Wir können auf diese Eigenschaften und Operationen zugreifen, ohne genauer zu wissen, wie die Objekte im Speicher dargestellt werden.\n",
    "\n",
    "So kann eine Liste zum Beispiel dargestellt werden, indem die Elemente der Liste in aufeinanderfolgenden Speicherzellen gespeichert werden (ein sogenanntes **Array**). Oder aber man speichert zu jedem Element den Wert des Elements und einen Verweis auf das nächste Element in der Liste (eine sog. **verkettete Liste**).\n",
    "\n",
    "Für uns ist die Art der Speicherung im Wesentlichen irrelevant: Wir verwenden einfach die bereitgestellten Funktionen (z.B. `append`) um mit der Liste zu interagieren."
   ]
  },
  {
   "cell_type": "markdown",
   "id": "192ce3a9-a260-47df-815e-c57eb09ce0ff",
   "metadata": {},
   "source": [
    "Was aber, wenn wir nun einen eigenen Datentyp definieren wollen, zum Beispiel ein Bankkonto?\n",
    "\n",
    "Ein Bankkonto ist erstmal ein Objekt, dessen Struktur wir nicht kennen. Wir wissen nur, dass wir\n",
    "- ein Konto anlegen,\n",
    "- den Kontostand abrufen und\n",
    "- Einzahlungen oder Abhebungen\n",
    "durchführen können.\n",
    "\n",
    "Wir können das **abstrakt** definieren:\n",
    "- Ein neues Konto hat den Kontostand 0.\n",
    "- Durch eine Einzahlung erhöht sich der Kontostand um den eingezahlten Betrag.\n",
    "- Durch eine Abhebung verringert sich der Kontostand um den abgehobenen Betrag.\n",
    "\n",
    "Wir könnten ein Bankkonto nun einfach durch ein Dictionary mit dem Kontostand repräsentieren:"
   ]
  },
  {
   "cell_type": "code",
   "execution_count": null,
   "id": "97b6543c-19aa-40a6-8391-1f5ae34f3a70",
   "metadata": {},
   "outputs": [],
   "source": [
    "def neueskonto():\n",
    "    return {'kontostand':0}\n",
    "\n",
    "def stand(konto):\n",
    "    return konto['kontostand']\n",
    "\n",
    "def einzahlen(konto, betrag):\n",
    "    konto['kontostand'] += betrag\n",
    "    return konto\n",
    "\n",
    "def abheben(konto, betrag):\n",
    "    konto['kontostand'] -= betrag\n",
    "    return konto\n",
    "\n",
    "konto = neueskonto()\n",
    "konto2 = einzahlen(konto, 200)\n",
    "konto3 = abheben(konto, 100)\n",
    "stand(konto3)"
   ]
  },
  {
   "cell_type": "markdown",
   "id": "60ef34f0-9613-4cea-b022-1451e87ea784",
   "metadata": {},
   "source": [
    "Das ist etwas ungünstig. So geben zum Beispiel `einzahlen` und `abheben` beide einfach nur das aktuelle Kontoobjekt zurück. Wer auch immer die Funktion aufruft, hat dieses Objekt aber schon.\n",
    "\n",
    "Wir könnten die Implementierung etwas optimieren:"
   ]
  },
  {
   "cell_type": "code",
   "execution_count": null,
   "id": "016867d4-7e5e-444b-8e4d-840fbbe2b514",
   "metadata": {},
   "outputs": [],
   "source": [
    "def neueskonto():\n",
    "    return {'kontostand':0}\n",
    "\n",
    "def stand(konto):\n",
    "    return konto['kontostand']\n",
    "\n",
    "def einzahlen(konto, betrag):\n",
    "    konto['kontostand'] += betrag\n",
    "\n",
    "def abheben(konto, betrag):\n",
    "    konto['kontostand'] -= betrag\n",
    "\n",
    "konto = neueskonto()\n",
    "einzahlen(konto, 200)\n",
    "abheben(konto, 100)\n",
    "stand(konto)"
   ]
  },
  {
   "cell_type": "markdown",
   "id": "da494cc3-d156-4ff9-89c8-dbb73349df6b",
   "metadata": {},
   "source": [
    "Etwas ungünstig ist, dass das Objekt einfach nur den Typ `dict` hat:"
   ]
  },
  {
   "cell_type": "code",
   "execution_count": null,
   "id": "86f2090b-f017-4962-a67c-e149d6e9a7ef",
   "metadata": {},
   "outputs": [],
   "source": [
    "type(konto)"
   ]
  },
  {
   "cell_type": "markdown",
   "id": "472275dd-6d0f-4d52-9d98-a0838fc398a5",
   "metadata": {},
   "source": [
    "Vielleicht können wir einen eigenen Datentype definieren?"
   ]
  },
  {
   "cell_type": "markdown",
   "id": "3246412e-68aa-4db1-bd8a-1740619b87b5",
   "metadata": {
    "jp-MarkdownHeadingCollapsed": true
   },
   "source": [
    "## Klassen"
   ]
  },
  {
   "cell_type": "markdown",
   "id": "25b19906-3cdf-495a-b3eb-00b9030751d2",
   "metadata": {},
   "source": [
    "Mit Klassen ist das möglich. Klassen bündeln den Inhalt von Objekten über sogenannte Attribute und die Operationen auf Objekten über sogenannte Methoden.\n",
    "\n",
    "Das bedeutet, dass wir alle diese Elemente in einer Klasse zusammenfassen und die Klasse somit getrennt vom Rest unseres Programms testen und warten können. Die Implementierung ist in der Klasse versteckt und dadurch wird das Verständnis erleichtert: Wir müssen nicht immer alle Details der Implementierung im Kopf behalten.\n",
    "\n",
    "Klassen ermöglichen also eine einfache Bündelung von Operationen und Struktur eines Datenbobjekts."
   ]
  },
  {
   "cell_type": "markdown",
   "id": "2ed82db5-8ad2-415e-a31a-ed527ddfbcf2",
   "metadata": {},
   "source": [
    "Für unsere Banknote kann dies wie folgt aussehen:"
   ]
  },
  {
   "cell_type": "code",
   "execution_count": null,
   "id": "206f1fab-050b-4221-8e12-f28a56e66252",
   "metadata": {},
   "outputs": [],
   "source": [
    "class Bankkonto:\n",
    "    def __init__(self):\n",
    "        self.kontostand = 0\n",
    "    \n",
    "    def einzahlen(self, betrag):\n",
    "        self.kontostand += betrag\n",
    "    \n",
    "    def abheben(self, betrag):\n",
    "        self.kontostand -= betrag\n",
    "    \n",
    "    def stand(self):\n",
    "        return self.kontostand"
   ]
  },
  {
   "cell_type": "markdown",
   "id": "29982901-d328-40d3-bea7-4db32904e860",
   "metadata": {},
   "source": [
    "Wir deklarieren die Klasse mit einem `class`-Block, dem wir den Namen der Klasse geben. In dem Block definieren wir die Elemente der Klasse - hier sind das einige Funktionen. Bevor wir auf die Bedeutung der Funktionen eingehen, wenden wir die Klasse mal in unserem Beispiel an:"
   ]
  },
  {
   "cell_type": "code",
   "execution_count": null,
   "id": "98080381-5be6-4000-96b7-8ef3540447fd",
   "metadata": {},
   "outputs": [],
   "source": [
    "konto = Bankkonto()\n",
    "konto.einzahlen(200)\n",
    "konto.abheben(100)\n",
    "konto.stand()"
   ]
  },
  {
   "cell_type": "markdown",
   "id": "a9f478b7-4e16-49b2-a452-e834995da8f5",
   "metadata": {},
   "source": [
    "Der Typ des Kontoobjekts ist nun auch ein anderer:"
   ]
  },
  {
   "cell_type": "code",
   "execution_count": null,
   "id": "7567f134-142f-42f4-be2d-f40e16c0e612",
   "metadata": {},
   "outputs": [],
   "source": [
    "type(konto)"
   ]
  },
  {
   "cell_type": "markdown",
   "id": "3342a977-3781-4349-9898-043431cf7a47",
   "metadata": {
    "jp-MarkdownHeadingCollapsed": true
   },
   "source": [
    "## Inhalt einer Klasse"
   ]
  },
  {
   "cell_type": "markdown",
   "id": "ebb2be7e-bce7-4c61-88e8-d3785592e029",
   "metadata": {},
   "source": [
    "Unsere Klasse enthält ein paar wesentliche Elemente:\n",
    "- Die **Methoden** `einzahlen`, `abheben` und `stand`, die die einfachen Operationen definieren, die wir auf dem Objekt ausführen können.\n",
    "- Die spezielle Funktion `__init__`. Dies ist der sogenannte **Konstruktor**."
   ]
  },
  {
   "cell_type": "markdown",
   "id": "c3522f52-dbd3-4dc7-8013-a23237dbd044",
   "metadata": {
    "jp-MarkdownHeadingCollapsed": true
   },
   "source": [
    "### Methoden"
   ]
  },
  {
   "cell_type": "markdown",
   "id": "2e6cf085-f0df-4728-936d-61ecde55e88d",
   "metadata": {},
   "source": [
    "Methode sind die Operationen unserer Klasse. Haben wir ein Objekt `obj` unserer Klasse, so können wir eine Methode mit `obj.methode(<Argumente>)` aufrufen.\n",
    "\n",
    "Die eigentliche Funktion erhält ein Argument mehr, das wir hier mit `self` bezeichnet haben:\n",
    "```python\n",
    "def abheben(self, betrag):\n",
    "    self.kontostand -= betrag\n",
    "```\n",
    "\n",
    "Dieses Argument enthält eine Referenz auf das Objekt, auf dem die Methode arbeiten soll."
   ]
  },
  {
   "cell_type": "markdown",
   "id": "b3b25462-9760-4e5f-991b-883b5b779c96",
   "metadata": {},
   "source": [
    "### Der Konstruktor: `__init__`\n",
    "Die spezielle Methode `__init__` ist der sogenannte Konstruktor der Klasse. Er wird indirekt bei der Erstellung des Objekts aufgerufen:\n",
    "```python\n",
    "konto = Bankkonto()\n",
    "```\n",
    "\n",
    "Der Konstruktor ist dazu da, den anfänglichen Zustand des Objekts herzustellen - hier also den Kontostand auf 0 zu setzen."
   ]
  },
  {
   "cell_type": "markdown",
   "id": "9c71c858-59af-4b29-9849-2d144b3ff290",
   "metadata": {
    "jp-MarkdownHeadingCollapsed": true
   },
   "source": [
    "### Objektattribute"
   ]
  },
  {
   "cell_type": "markdown",
   "id": "d95820c5-d99a-4371-9bc1-1ecfb8eed7ba",
   "metadata": {},
   "source": [
    "Jedes Objekt kann null oder mehrere Attribute haben. In unserem Beispiel ist `kontostand` ein solches Attribut der Objekte der Klasse `Bankkonto`.\n",
    "\n",
    "Attribute können wir einfach durch Zuweisung erzeugen, wie hier im Konstruktor:\n",
    "```python\n",
    "def __init__(self):\n",
    "    self.kontostand = 0\n",
    "```\n",
    "\n",
    "Zugriff auf ein Attribut erhalten wir über die Punkt-Notation:\n",
    "```python\n",
    "obj.attribut = wert # Weist dem Attribut `attribut` den Wert `wert` zu\n",
    "obj.attribut # Wird durch den Wert des Attributs `attribut` ersetzt\n",
    "```\n",
    "\n",
    "Attribute verhalten sich wie Variablen."
   ]
  },
  {
   "cell_type": "markdown",
   "id": "2ca15632-3848-49bc-8d6c-abf62d886811",
   "metadata": {},
   "source": [
    "Greifen wir auf nicht existente Attribute zu, so wird Python uns dazu eine Fehlermeldung liefern:"
   ]
  },
  {
   "cell_type": "code",
   "execution_count": null,
   "id": "3c67d840-09c2-46d0-ab38-76463d2a36b5",
   "metadata": {},
   "outputs": [],
   "source": [
    "class Punkt:\n",
    "    def __init__(self, x, y):\n",
    "        self.y = y\n",
    "\n",
    "p = Punkt(10, 5)\n",
    "p.x"
   ]
  },
  {
   "cell_type": "markdown",
   "id": "f8ec937e-7e02-421a-ac08-5da626202d84",
   "metadata": {},
   "source": [
    "Attribute müssen also mindestens einmal zugewiesen werden, bevor man sie lesen kann. Üblicherweise geschieht dies im Konstruktor."
   ]
  },
  {
   "cell_type": "markdown",
   "id": "e28bebc8-0d17-4133-b655-108a7a243a9a",
   "metadata": {
    "jp-MarkdownHeadingCollapsed": true
   },
   "source": [
    "## Probieren Sie es selbst!\n",
    "Implementieren Sie die Klasse `Vektor`:"
   ]
  },
  {
   "cell_type": "code",
   "execution_count": null,
   "id": "d56664ca-8d73-4d3f-a661-5842aa4381ab",
   "metadata": {},
   "outputs": [],
   "source": [
    "class Vektor:\n",
    "    \"\"\"Ein Vektor im zweidimensionalen euklidischen Raum.\n",
    "    Er hat eine x- und eine y-Komponente.\"\"\"\n",
    "    def __init__(self, x, y):\n",
    "        \"\"\"Initialisiere den Vektor mit den angegebenen x-\n",
    "        und y-Komponenten\"\"\"\n",
    "        self.x = x\n",
    "        self.y = y\n",
    "    \n",
    "    def add(self, other):\n",
    "        \"\"\"Erstelle einen Vektor, der die Summe\n",
    "        dieses Vektors und des Vektors `other` repräsentiert\"\"\"\n",
    "        return Vektor(self.x+other.x, self.y+other.y)"
   ]
  },
  {
   "cell_type": "markdown",
   "id": "62f07e73-9185-4170-8353-093173bcf7ff",
   "metadata": {
    "jp-MarkdownHeadingCollapsed": true
   },
   "source": [
    "## Zugriff auf Attribute von Außen\n",
    "Aktuell kann auf die Attribute auch \"von außen\" zugegriffen werden:"
   ]
  },
  {
   "cell_type": "code",
   "execution_count": null,
   "id": "97470788-d93c-46a5-bade-f4d32b99f392",
   "metadata": {},
   "outputs": [],
   "source": [
    "class Punkt:\n",
    "    def __init__(self, x, y):\n",
    "        self.x = x\n",
    "        self.y = y\n",
    "\n",
    "p = Punkt(10, 5)\n",
    "p.x"
   ]
  },
  {
   "cell_type": "markdown",
   "id": "f1eace43-a0cf-4d9c-9ffc-eedf9b315083",
   "metadata": {},
   "source": [
    "Dadurch kann aber ein Teil der Implementierung offenbart werden - diese Details wollen wir aber verbergen!\n",
    "\n",
    "Wir können Attribute auch verbergen. Dies ist ein wesentliches Element der sogenannten \"objektorientierten Programmierung\" und wird auch als **data hiding** (engl. \"Daten verstecken\") bezeichnet.\n",
    "\n",
    "Um Attribute nur von innerhalb der Klasse zugreifbar zu machen, muss ihr Name mit zwei Unterstrichen (`_`) beginnen:"
   ]
  },
  {
   "cell_type": "code",
   "execution_count": null,
   "id": "14feed08-53c7-4a14-93b2-7d02966b31b9",
   "metadata": {},
   "outputs": [],
   "source": [
    "class Punkt:\n",
    "    def __init__(self, x, y):\n",
    "        self.__x = x\n",
    "        self.__y = y"
   ]
  },
  {
   "cell_type": "markdown",
   "id": "f920fadd-080a-4105-885e-b17f195b4b92",
   "metadata": {},
   "source": [
    "Jetzt können wir von außen nicht mehr auf die Attribute zugreifen:"
   ]
  },
  {
   "cell_type": "code",
   "execution_count": null,
   "id": "8014b7a3-abb2-44f8-ab7f-a614126d156f",
   "metadata": {},
   "outputs": [],
   "source": [
    "p=Punkt(9, 3)\n",
    "p.__x"
   ]
  },
  {
   "cell_type": "markdown",
   "id": "c6c666dd-6e04-4e72-9f66-ebaa5c294c2a",
   "metadata": {},
   "source": [
    "Wenn wir nun Zugriff ermöglichen wollen, können wir eine sogenannte **Getter-Methode** hinzufügen. Diese kann aufgerufen werden, um den Wert des Attributs zu erhalten:"
   ]
  },
  {
   "cell_type": "code",
   "execution_count": null,
   "id": "8089f5d7-fe78-4881-aa23-0eebef72b981",
   "metadata": {},
   "outputs": [],
   "source": [
    "class Punkt:\n",
    "    def __init__(self, x, y):\n",
    "        self.__x = x\n",
    "        self.__y = y\n",
    "    def getX(self):\n",
    "        return self.__x\n",
    "\n",
    "p = Punkt(9,3)\n",
    "p.getX()"
   ]
  },
  {
   "cell_type": "markdown",
   "id": "39a3fa58-1b99-4b25-b98b-a207e92078d7",
   "metadata": {},
   "source": [
    "Analog dazu können wir auch eine **Setter-Methode** hinzufügen, um den kontrollierten Schreibzugriff zu ermöglichen:"
   ]
  },
  {
   "cell_type": "code",
   "execution_count": null,
   "id": "ffaf156b-f91a-477a-ae8a-ec9f68a8787d",
   "metadata": {},
   "outputs": [],
   "source": [
    "class Punkt:\n",
    "    def __init__(self, x, y):\n",
    "        self.__x = x\n",
    "        self.__y = y\n",
    "    def getX(self):\n",
    "        return self.__x\n",
    "    def setX(self, newX):\n",
    "        self.__x = newX\n",
    "\n",
    "p = Punkt(9,3)\n",
    "p.setX(10)\n",
    "p.getX()"
   ]
  },
  {
   "cell_type": "markdown",
   "id": "6c29c59f-2cd9-4f42-8854-4f5a3c1ef6be",
   "metadata": {},
   "source": [
    "Diese Art von Zugriff könnten wir natürlich auch haben, wenn wir die Attribute einfach nicht verstecken. Sinn und Zweck ist jedoch, dass wir bei einer Veränderung der Implementierung Getter und Setter so umschreiben können, dass das alte Attribut im Rahmen der neuen Implementierung quasi simuliert wird.\n",
    "\n",
    "Der Getter berechnet den Wert des Attributs dann auf Basis der neuen Implementierung, und der Setter verändert den Zustand des Objekts dann so, dass derselbe Effekt erreicht wird, als wäre in der alten Implementierung das zugehörige Attribut verändert worden."
   ]
  },
  {
   "cell_type": "markdown",
   "id": "30cc4659-f09c-4e12-91c7-c4b4bd4a3794",
   "metadata": {
    "jp-MarkdownHeadingCollapsed": true
   },
   "source": [
    "## Properties"
   ]
  },
  {
   "cell_type": "markdown",
   "id": "abfb0c81-c006-4d4d-a5f0-564445459ec5",
   "metadata": {},
   "source": [
    "Der Zugriff über Getter und Setter ist zwar vollkommen adäquat - sieht allerdings nicht so schön aus wie ein Zugriff auf das Attribut. Python bietet uns sogenannte **Properties**. Hier wird in der Klasse der Zugriff über Getter und Setter implementiert, aber von außen sieht der Zugriff wie ein normaler Attributzugriff aus."
   ]
  },
  {
   "cell_type": "code",
   "execution_count": null,
   "id": "830f8cab-4649-40d4-85d2-43aa5b1b957f",
   "metadata": {},
   "outputs": [],
   "source": [
    "class Punkt:\n",
    "    def __init__(self, x, y):\n",
    "        self.__x = x\n",
    "        self.__y = y\n",
    "\n",
    "    @property\n",
    "    def x(self):\n",
    "        print(\"getting x\")\n",
    "        return self.__x;\n",
    "\n",
    "p=Punkt(9,3)\n",
    "p.x"
   ]
  },
  {
   "cell_type": "markdown",
   "id": "4d717b27-cf0e-4f4b-8e85-2380c809c4a5",
   "metadata": {},
   "source": [
    "Hier ist jetzt nur der Lesezugriff möglich:"
   ]
  },
  {
   "cell_type": "code",
   "execution_count": null,
   "id": "7930cd40-77aa-4375-be2a-09e90ce952af",
   "metadata": {},
   "outputs": [],
   "source": [
    "p.x = 10"
   ]
  },
  {
   "cell_type": "markdown",
   "id": "876dcc75-2c10-48a0-85ff-8c7f4c1d02c3",
   "metadata": {},
   "source": [
    "Um auch den Schreibzugriff zu ermöglichen, müssen wir noch einen Setter hinzufügen:"
   ]
  },
  {
   "cell_type": "code",
   "execution_count": null,
   "id": "02ba12ee-c48c-4d2d-a40c-7ae57a8a3690",
   "metadata": {},
   "outputs": [],
   "source": [
    "class Punkt:\n",
    "    def __init__(self, x, y):\n",
    "        self.__x = x\n",
    "        self.__y = y\n",
    "\n",
    "    @property\n",
    "    def x(self):\n",
    "        print(\"getting x\")\n",
    "        return self.__x;\n",
    "\n",
    "    @x.setter\n",
    "    def x(self, value):\n",
    "        print(f\"setting x to {value}\")\n",
    "        self.__x = value\n",
    "\n",
    "p=Punkt(9,3)\n",
    "p.x = 10\n",
    "p.x"
   ]
  },
  {
   "cell_type": "markdown",
   "id": "1d36a233-87f1-47c1-a100-89d2de5b058b",
   "metadata": {
    "jp-MarkdownHeadingCollapsed": true
   },
   "source": [
    "## Schöne Ausgabe von Objekten"
   ]
  },
  {
   "cell_type": "markdown",
   "id": "34f9622a-ac13-46ba-aba2-7aa933e2bf28",
   "metadata": {},
   "source": [
    "Standardobjekte wie Zahlen und Listen können wir schön mit `print` ausgeben:"
   ]
  },
  {
   "cell_type": "code",
   "execution_count": null,
   "id": "cd064989-2781-41fb-b7b3-5ad80a7896fb",
   "metadata": {},
   "outputs": [],
   "source": [
    "l=[1,2,3,4]\n",
    "print(l)"
   ]
  },
  {
   "cell_type": "markdown",
   "id": "19cbe86a-2af8-4c71-84e5-9854337de1e8",
   "metadata": {},
   "source": [
    "Wenn wir dies mit unserem Punkt-Objekt versuchen, kommt nichts schönes heraus:"
   ]
  },
  {
   "cell_type": "code",
   "execution_count": null,
   "id": "55805df4-ab93-4a00-ac63-83f07d7cd105",
   "metadata": {},
   "outputs": [],
   "source": [
    "p"
   ]
  },
  {
   "cell_type": "markdown",
   "id": "6c233fc1-6df1-4ee2-8d0c-ca776088ac97",
   "metadata": {},
   "source": [
    "Die Ausgabe können wir über die Methode `__str__` verbessern. Denn `print` konvertiert unsere Objekte zunächst mit `str(objekt)` in Strings, und `str` ruft die Methode `__str__` auf dem Objekt auf, wenn sie existiert.\n",
    "\n",
    "Diese Methode können wir also selbst definieren:"
   ]
  },
  {
   "cell_type": "code",
   "execution_count": null,
   "id": "f906f730-9a0b-4ed5-a417-b24bba587ec6",
   "metadata": {},
   "outputs": [],
   "source": [
    "class Punkt:\n",
    "    def __init__(self, x, y):\n",
    "        self.__x = x\n",
    "        self.__y = y\n",
    "    def __str__(self):\n",
    "        return f\"Punkt({self.__x}, {self.__y})\"\n",
    "\n",
    "p = Punkt(9,3)\n",
    "str(p)"
   ]
  },
  {
   "cell_type": "markdown",
   "id": "02d2ba5a-121f-48d6-a19e-cc4eb659489a",
   "metadata": {},
   "source": [
    "Um nun noch eine schöne Ausgabe in Jupyter zu bekommen, müssen wir noch die Methode `__repr__` implementieren:"
   ]
  },
  {
   "cell_type": "code",
   "execution_count": null,
   "id": "9d1587fa-2397-468c-a74a-f121bf0f438c",
   "metadata": {},
   "outputs": [],
   "source": [
    "class Punkt:\n",
    "    def __init__(self, x, y):\n",
    "        self.__x = x\n",
    "        self.__y = y\n",
    "    def __str__(self):\n",
    "        return f\"Punkt({self.__x}, {self.__y})\"\n",
    "    def __repr__(self):\n",
    "        return str(self)\n",
    "\n",
    "p = Punkt(9,3)\n",
    "p"
   ]
  },
  {
   "cell_type": "markdown",
   "id": "cbf959fe-c9ff-415d-9a84-c3113a4dfde4",
   "metadata": {
    "jp-MarkdownHeadingCollapsed": true
   },
   "source": [
    "## Objekte als Schlüssel"
   ]
  },
  {
   "cell_type": "markdown",
   "id": "022c7e14-f0c5-4e85-89ca-eb3bac9cf48e",
   "metadata": {},
   "source": [
    "Nehmen wir als Beispiel einmal die Klasse `Matrikel`:"
   ]
  },
  {
   "cell_type": "code",
   "execution_count": null,
   "id": "0856b819-68f7-4693-adca-1acfabe9d1d4",
   "metadata": {},
   "outputs": [],
   "source": [
    "class Matrikel:\n",
    "    def __init__(self, nachname, vorname, matrnr):\n",
    "        self.__nachname = nachname\n",
    "        self.__vorname = vorname\n",
    "        self.__matrnr = matrnr"
   ]
  },
  {
   "cell_type": "markdown",
   "id": "ba05e32d-5c11-4f01-a784-25bbededbaa5",
   "metadata": {},
   "source": [
    "Wir möchten zu unseren Matrikeln die Noten aus einer Klausur in einem Dictionary speichern. Dazu verwenden wir die Matrikel-Objekte als Schlüssel:"
   ]
  },
  {
   "cell_type": "code",
   "execution_count": null,
   "id": "7609f6c9-dba2-4d67-934b-a1e47b21b335",
   "metadata": {},
   "outputs": [],
   "source": [
    "m1 = Matrikel(\"Picard\", \"Jean-Luc\", 23050713)\n",
    "d={ m1: 1.7 }\n",
    "m2 = Matrikel(\"Picard\", \"Jean-Luc\", 23050713)\n",
    "d[m2] = 1.3\n",
    "len(d)"
   ]
  },
  {
   "cell_type": "markdown",
   "id": "e305da2c-76f2-4b6a-bbf6-f2cbea0bb23a",
   "metadata": {},
   "source": [
    "Obwohl die beiden Matrikel aus unserer Sicht objektiv identisch sind, wurden zwei Einträge im Dictionary angelegt. Ohne weitere Vorkehrungen betrachtet Python bei den Objekten nämlich nicht die Gleichheit, sondern die Identität.\n",
    "\n",
    "Gleichheit bedeutet: Der Inhalt der Objekte ist gleich. Identität heißt: Es handelt sich um exakt dasselbe Objekt.\n",
    "\n",
    "Die Identität eines Objekts können wir mit der Funktion `id` feststellen:"
   ]
  },
  {
   "cell_type": "code",
   "execution_count": null,
   "id": "84d44c3a-2bc5-4e60-b7ee-5c5c1025ffea",
   "metadata": {},
   "outputs": [],
   "source": [
    "id(m1)"
   ]
  },
  {
   "cell_type": "code",
   "execution_count": null,
   "id": "90e28681-266d-465b-b01b-e57cbe7c1d4f",
   "metadata": {},
   "outputs": [],
   "source": [
    "id(m2)"
   ]
  },
  {
   "cell_type": "markdown",
   "id": "dd91dd61-f3bb-4421-b90c-8cab5592eba4",
   "metadata": {},
   "source": [
    "Wir sehen, dass unsere beiden Objekte unterschiedliche Identitäten haben."
   ]
  },
  {
   "cell_type": "markdown",
   "id": "8d781a23-48ab-43ef-926f-4ee493c3dca9",
   "metadata": {},
   "source": [
    "Wir können mit dem `is`-Operator prüfen, ob zwei Objekte dieselbe Identität haben:"
   ]
  },
  {
   "cell_type": "code",
   "execution_count": null,
   "id": "5855a01b-cd6d-4ccf-89ed-f2a43c9ffeed",
   "metadata": {},
   "outputs": [],
   "source": [
    "m1 is m2"
   ]
  },
  {
   "cell_type": "code",
   "execution_count": null,
   "id": "af8f86ce-e3f5-4437-8c2a-879f24011f9f",
   "metadata": {},
   "outputs": [],
   "source": [
    "m1 is m1"
   ]
  },
  {
   "cell_type": "markdown",
   "id": "189c4363-b6c2-495b-9499-cca0609173c9",
   "metadata": {},
   "source": [
    "Die Negation lautet `is not`:"
   ]
  },
  {
   "cell_type": "code",
   "execution_count": null,
   "id": "b4cc5ba1-b782-4c00-9614-5f36a9fa81c8",
   "metadata": {},
   "outputs": [],
   "source": [
    "m1 is not m2"
   ]
  },
  {
   "cell_type": "code",
   "execution_count": null,
   "id": "c8f749dc-97f8-486a-9dc1-beabdb090fdf",
   "metadata": {},
   "outputs": [],
   "source": [
    "m1 is not m1"
   ]
  },
  {
   "cell_type": "markdown",
   "id": "4cd05c39-cba7-4d9c-9ead-65183992487f",
   "metadata": {},
   "source": [
    "Anders der `==`-Operator, dieser prüft auf Gleichheit. Allerdings erhalten wir auch hier erstmal ein unerwartetes Ergebnis, wenn wir die beiden gleichen Objekte vergleichen:"
   ]
  },
  {
   "cell_type": "code",
   "execution_count": null,
   "id": "6b985b95-b465-46c5-b92d-a180dd9d247e",
   "metadata": {},
   "outputs": [],
   "source": [
    "m1 == m2"
   ]
  },
  {
   "cell_type": "markdown",
   "id": "0697c95b-3b97-4491-b582-d753b210c743",
   "metadata": {},
   "source": [
    "Ohne weitere Schritte verwendet Python auch für diesen Vergleich die Identität. Dies können wir aber ändern, indem wir die besondere Methode `__eq__` implementieren. Dabei gehen wir im Beispiel davon aus, dass zwei Matrikel mit derselben Matrikelnummer auch das gleiche Matrikel darstellen:"
   ]
  },
  {
   "cell_type": "code",
   "execution_count": null,
   "id": "0b906be2-8602-49a2-875a-2339b3aa8a19",
   "metadata": {},
   "outputs": [],
   "source": [
    "class Matrikel:\n",
    "    def __init__(self, nachname, vorname, matrnr):\n",
    "        self.__nachname = nachname\n",
    "        self.__vorname = vorname\n",
    "        self.__matrnr = matrnr\n",
    "    \n",
    "    def __eq__(self, other):\n",
    "        return self.__matrnr == other.__matrnr\n",
    "m1 = Matrikel(\"Picard\", \"Jean-Luc\", 23050713)\n",
    "m2 = Matrikel(\"Picard\", \"Jean-Luc\", 23050713)\n",
    "m1 == m2"
   ]
  },
  {
   "cell_type": "markdown",
   "id": "808d3761-487a-40e2-a5a7-0d87264d0254",
   "metadata": {},
   "source": [
    "Wollen wir die Matrikel nun auch als Schlüssel für ein Dictionary verwenden, müssen wir auch die Methode `__hash__` implementieren. Diese Methode liefert eine Ganzzahl, die dann vom Dictionary verwendet wird, um das Element zu finden.\n",
    "\n",
    "Dabei muss sichergestellt sein, dass für zwei gleiche Objekte (für die `==` `True` zurückliefert) `__hash__` auch den gleichen Wert zurückliefert.\n",
    "\n",
    "Sobald diese Methode sinnvoll implementiert ist (wir verwenden `hash` um einen Hash-Wert für die Matrikelnummer zu ermitteln), funktioniert auch unser Dictionary-Zugriff:"
   ]
  },
  {
   "cell_type": "code",
   "execution_count": null,
   "id": "5dc9337f-e4f0-4818-8936-e88d9231b3fc",
   "metadata": {},
   "outputs": [],
   "source": [
    "class Matrikel:\n",
    "    def __init__(self, nachname, vorname, matrnr):\n",
    "        self.__nachname = nachname\n",
    "        self.__vorname = vorname\n",
    "        self.__matrnr = matrnr\n",
    "    \n",
    "    def __eq__(self, other):\n",
    "        return self.__matrnr == other.__matrnr\n",
    "    \n",
    "    def __hash__(self):\n",
    "        return hash(self.__matrnr)\n",
    "\n",
    "m1 = Matrikel(\"Picard\", \"Jean-Luc\", 23050713)\n",
    "d={ m1: 1.7 }\n",
    "m2 = Matrikel(\"Picard\", \"Jean-Luc\", 23050713)\n",
    "d[m2] = 1.3\n",
    "len(d)"
   ]
  },
  {
   "cell_type": "markdown",
   "id": "faaa4e2c-7f91-47b6-85e9-67e25eec5b87",
   "metadata": {
    "jp-MarkdownHeadingCollapsed": true
   },
   "source": [
    "# Lektion 11: Exceptions und Entwicklungswerkzeuge"
   ]
  },
  {
   "cell_type": "markdown",
   "id": "929f2d88-1bd3-4d00-b6b4-a6668c4324da",
   "metadata": {},
   "source": [
    "In vergangenen Beispielen haben wir ab und zu einen `TypeError` gemeldet erhalten:"
   ]
  },
  {
   "cell_type": "code",
   "execution_count": null,
   "id": "f9374896-4f81-460c-8505-44a082e14310",
   "metadata": {},
   "outputs": [],
   "source": [
    "\"Hello\"-\"HFU\""
   ]
  },
  {
   "cell_type": "markdown",
   "id": "3402225b-ff3c-4dc4-9a25-c3b4b07141b8",
   "metadata": {},
   "source": [
    "`TypeError` ist ein Python-Datentyp, und genauer eine **Exception** (engl. \"Ausnahmefehler\").\n",
    "\n",
    "Exceptions sind ein Weg für Python - oder für eigenen Code - zu signalisieren, dass etwas nicht so ist wie erwartet. Ein weiteres Beispiel:"
   ]
  },
  {
   "cell_type": "code",
   "execution_count": null,
   "id": "bfee835f-02d9-431c-8d59-a887a736f841",
   "metadata": {},
   "outputs": [],
   "source": [
    "x=[1,2,3,4]\n",
    "x[5]"
   ]
  },
  {
   "cell_type": "code",
   "execution_count": null,
   "id": "754c8307-6292-4926-a09e-ed8690b4c6d4",
   "metadata": {},
   "outputs": [],
   "source": [
    "int(type)"
   ]
  },
  {
   "cell_type": "markdown",
   "id": "39d782aa-efd1-4138-87b4-e6fda7ae1674",
   "metadata": {},
   "source": [
    "Tritt eine Exception auf, so wird der normale Programmfluss unterbrochen. Exceptions können entweder innerhalb des Codes behandelt werden, oder sie führen zum Abbruch des Programms (wie wir es bisher beobachtet haben)."
   ]
  },
  {
   "cell_type": "markdown",
   "id": "88d7f76b-b115-4c6f-976c-a7047ee3e634",
   "metadata": {},
   "source": [
    "## Behandlung von Exceptions: `try`...`except`"
   ]
  },
  {
   "cell_type": "markdown",
   "id": "94f86362-7682-4d13-8647-98f3e945ff13",
   "metadata": {},
   "source": [
    "Wir können Exceptions mit Hilfe des `try`-`except`-Konstrukts abfangen. Zuerst wird der Code im `try`-Block ausgeführt. Tritt eine Exception auf, wird der Code im `except`-Block ausgeführt.\n",
    "\n",
    "Tritt keine Exception auf, wird der Code im `except`-Block einfach übersprungen."
   ]
  },
  {
   "cell_type": "markdown",
   "id": "8d7f94a3-4389-4253-aac2-89f0d7f9f393",
   "metadata": {},
   "source": [
    "Hier ein Beispiel für die Eingabe von Zahlen:"
   ]
  },
  {
   "cell_type": "code",
   "execution_count": null,
   "id": "422620ba-f5ae-407f-be95-a44d00d3f060",
   "metadata": {},
   "outputs": [],
   "source": [
    "try:\n",
    "    a = int(input(\"Geben Sie eine Zahl ein:\"))\n",
    "except:\n",
    "    print(\"Sie haben keine Zahl eingegeben!\")"
   ]
  },
  {
   "cell_type": "markdown",
   "id": "eb0b8c90-4296-409a-88eb-590ca8314765",
   "metadata": {},
   "source": [
    "Wir können auch spezifische Exceptions abfangen:"
   ]
  },
  {
   "cell_type": "code",
   "execution_count": null,
   "id": "2c37b997-d2e7-49a7-b9e6-56be63038852",
   "metadata": {},
   "outputs": [],
   "source": [
    "try:\n",
    "    a = int(input(\"Geben Sie den Dividenden ein:\"))\n",
    "    b = int(input(\"Geben Sie den Divisor (ungleich Null) ein:\"))\n",
    "    print(f\"Der Quotient beträgt {a/b}\")\n",
    "except ValueError:\n",
    "    print(\"Sie haben keine Zahl eingegeben\")\n",
    "except ZeroDivisionError:\n",
    "    print(\"Ihr Divisor ist Null!\")\n",
    "except:\n",
    "    print(\"Irgendetwas anderes ist schiefgegangen!\")"
   ]
  },
  {
   "cell_type": "markdown",
   "id": "e5cd5b04-c829-4635-bb58-c6248de6bd6c",
   "metadata": {},
   "source": [
    "Die entsprechenden `except`-Blöcke werden nur ausgeführt, wenn die Exception den entsprechenden Typ hat. Der allgemeine `except`-Block wird dann ausgeführt, wenn keiner der anderen Blöcke auf die Exception passt."
   ]
  },
  {
   "cell_type": "markdown",
   "id": "d80e0312-b6f3-408a-8ae4-cf848de93513",
   "metadata": {},
   "source": [
    "## Selbst Exceptions erzeugen: `raise`"
   ]
  },
  {
   "cell_type": "markdown",
   "id": "a451b51b-9dc9-465f-a00e-be57cf015cf7",
   "metadata": {},
   "source": [
    "Mit Hilfe der `raise`-Anweisung können wir Exceptions selbst auslösen:"
   ]
  },
  {
   "cell_type": "code",
   "execution_count": null,
   "id": "41407993-ace4-4cf8-8ce4-cc925aec1293",
   "metadata": {},
   "outputs": [],
   "source": [
    "raise ValueError(\"Ganzzahl wurde erwartet\")"
   ]
  },
  {
   "cell_type": "markdown",
   "id": "0192e5bd-5661-4bcc-8156-b40c598ad579",
   "metadata": {},
   "source": [
    "Allgemeiner hat die Anweisung die Form `raise <Ausdruck>`. Der Ausdruck wird ausgewertet und sein Wert als Exception *geworfen*. Im Beispiel erzeugt der Ausdruck ein Objekt vom Typ `ValueError`, indem der Konstruktor der entsprechenden Klasse aufgerufen wird.\n",
    "\n",
    "Hier kann aber auch eine Funktion aufgerufen werden, die ein entsprechendes Objekt zurückliefert."
   ]
  },
  {
   "cell_type": "markdown",
   "id": "9ce84b5f-2844-4e1d-b7af-8f9ad3db8cc9",
   "metadata": {},
   "source": [
    "## Was tun, wenn eine Exception auftritt?\n",
    "Wenn eine Exception auftritt, haben wir drei Möglichkeiten, damit umzugehen:\n",
    "1. Wir tun nichts! Zum Beispiel können wir das Ergebnis durch einen Standardwert ersetzen. Das ist üblicherweise eine schlechte Idee, da wir kein Feedback zum Fehler erhalten.\n",
    "2. Wir beseitigen den Fehler (wenn möglich). Wir können den Nutzer oder die Nutzerin etwa zu einer erneuten (jetzt korrekten) Eingabe auffordern. Das ist nicht immer möglich, und wenn doch, müssen wir uns entscheiden, wie oft wir das wiederholen.\n",
    "3. Wir melden den Fehler an eine höhere Stelle. Um etwa die Exception einfach weiterzugeben, können wir den Befehl `raise` ohne Argument verwenden. Alternativ können wir auch eine neue Exception erzeugen - etwa, um Implementierungsdetails zu verbergen."
   ]
  },
  {
   "cell_type": "markdown",
   "id": "81160f6f-ce7d-431e-9098-ebfd773e5491",
   "metadata": {},
   "source": [
    "## Erweiterungen\n",
    "Als Erweiterung gibt es noch...\n",
    "- ...den `finally`-Block: Der Code in diesem Block wird in jedem Fall ausgeführt, egal, ob eine Exception auftritt oder nicht. Das ist gut zum \"Aufräumen\" geeignet.\n",
    "- ...den `else`-Block: Dieser Codeblock wird ausgeführt, wenn keine Exception auftrat.\n",
    "\n",
    "Diese Konstrukte betrachten wir aber in diesem Kurs nicht."
   ]
  },
  {
   "cell_type": "markdown",
   "id": "b1e2c572-8a47-4b5b-add8-1c07309f9637",
   "metadata": {},
   "source": [
    "## Zusicherungen\n",
    "Bei der Entwicklung machen wir häufig Annahmen über Eingaben, aber aus Ausgaben. Im folgenden Codestück etwa gehen wir davon aus, dass die Liste `werte` nicht leer ist, da ansonsten eine Division durch Null auftreten würde:\n",
    "```python\n",
    "def mittelwert(werte):\n",
    "    summe = 0\n",
    "    for wert in werte:\n",
    "        summe += wert\n",
    "    return summe / len(werte)\n",
    "```"
   ]
  },
  {
   "cell_type": "markdown",
   "id": "4eb09634-b8c8-42b4-9f8c-fea661209a09",
   "metadata": {},
   "source": [
    "Diese Annahme können wir durch eine Zusicherung explizit machen:"
   ]
  },
  {
   "cell_type": "code",
   "execution_count": null,
   "id": "c471e206-7e6a-47b6-9c5e-f7a909e817cb",
   "metadata": {},
   "outputs": [],
   "source": [
    "def mittelwert(werte):\n",
    "    assert len(werte) != 0, \"Die Liste der Werte darf nicht leer sein!\"\n",
    "    summe = 0\n",
    "    for wert in werte:\n",
    "        summe += wert\n",
    "    return summe / len(werte)\n",
    "\n",
    "mittelwert([])"
   ]
  },
  {
   "cell_type": "markdown",
   "id": "f29f8a10-e939-498f-8fd3-fe3cff53717f",
   "metadata": {},
   "source": [
    "Die `assert`-Anweisung prüft, ob ihr erster Parameter `True` ist. Ist dies nicht der Fall, wird eine Exception vom Typ `AssertionError` erzeugt. Der optionale zweite Parameter der `assert`-Anweisung wird dabei an den Konstruktor der Klasse `AssertionError` übergeben und kann als zusätzliche Erläuterung dienen."
   ]
  },
  {
   "cell_type": "markdown",
   "id": "2a54653c-b4cc-4a56-aae3-b1d00cf2fa09",
   "metadata": {},
   "source": [
    "Der `AssertionError` ist eine Exception, aber sie dient einem spezifischen Zweck:\n",
    "\n",
    "- Normale Exceptions werden zur Erkennung und Behandlung abnormaler Eingaben oder Ausgaben verwendet. Diese Fehler sollen dann ggf. durch das Programm behandelt werden.\n",
    "- Ein `assert` stellt aber eine Annahme dar, von der wir grundsätzlich annehmen, dass sie zutrifft - ansonsten wäre ein Fehler im Programm, nicht in der Eingabe.\n",
    "\n",
    "Das primäre Ziel von `assert`-Anweisungen ist es, während der Entwicklung Programmfehler zu finden. Außerdem können wir über `assert` auch mit Mitentwicklerinnen und -entwicklern kommunizieren: \"Dieser Code nimmt an, dass diese Bedingung zutrifft.\""
   ]
  },
  {
   "cell_type": "markdown",
   "id": "cd44e3fd-7f7f-4567-a18a-adf63522fc9a",
   "metadata": {},
   "source": [
    "Assertions können wir während der Entwicklung aktiviert lassen. Durch einen globalen Schalter können sie aber bei der Auslieferung unseres Codes abgeschaltet werden."
   ]
  },
  {
   "cell_type": "markdown",
   "id": "ff10f539-da95-422a-b2c5-e0fb71887848",
   "metadata": {
    "jp-MarkdownHeadingCollapsed": true
   },
   "source": [
    "# Lektion 12: Datenformate, Tests und Debugging"
   ]
  },
  {
   "cell_type": "markdown",
   "id": "01926c94-379b-4360-a3cf-bad5b3935129",
   "metadata": {},
   "source": [
    "In dieser letzten Lektion betrachten wir nun noch, wie wir unsere Daten geeignet abspeichern und wieder laden können. Die Jupyter-Umgebung unterstützt zwar Debugging, aber keine Unit-Tests. Somit sind diese Themen besser in einer Entwicklungsumgebung wie PyCharm zu behandeln."
   ]
  },
  {
   "cell_type": "markdown",
   "id": "705cab96-0922-4d81-abe9-dd8617126359",
   "metadata": {},
   "source": [
    "In der Vergangenheit haben wir Daten vor allem aus Tabellendateien (Comma Separated Value, CSV) importiert. Dabei konnten wir auch nur Daten importieren, die als Tabellen repräsentiert werden konnten.\n",
    "\n",
    "Komplexere Strukturen waren da eher nicht möglich:\n",
    "- Name\n",
    "- Vorname\n",
    "- Adresse\n",
    "    - Straßenname\n",
    "    - Nummer\n",
    "    - PLZ\n",
    "    - Ort\n",
    "- Kontaktmöglichkeiten\n",
    "    - E-Mail\n",
    "    - Telefon\n",
    "    - Mobilfunk\n",
    "    - ...\n",
    "- ..."
   ]
  },
  {
   "cell_type": "markdown",
   "id": "fc551943-e40e-4a6e-8195-b9595fd6441c",
   "metadata": {},
   "source": [
    "In Python selbst können wir solche Datenstrukturen als geschachtelte Dictionaries und Listen repräsentieren:"
   ]
  },
  {
   "cell_type": "code",
   "execution_count": null,
   "id": "65f66a44-0d6b-4812-9fb7-4ebffd126902",
   "metadata": {},
   "outputs": [],
   "source": [
    "personen = [\n",
    "    {\n",
    "        'name': 'Picard',\n",
    "        'vorname': 'Jean-Luc',\n",
    "        'rang': 'Captain',\n",
    "        'geburt': {\n",
    "            'datum': {\n",
    "                'jahr': 2305,\n",
    "                'monat': 7,\n",
    "                'tag': 13\n",
    "            },\n",
    "            'ort': {\n",
    "                'ort': 'La Barre',\n",
    "                'planet': 'Erde'\n",
    "            }\n",
    "        }\n",
    "    },\n",
    "    {\n",
    "        'name': 'Troi',\n",
    "        'vorname': 'Deanna',\n",
    "        'rang': 'Commander',\n",
    "        'geburt': {\n",
    "            'datum': {\n",
    "                'jahr': 2336,\n",
    "                'monat': 3,\n",
    "                'tag': 29\n",
    "            },\n",
    "            'ort': {\n",
    "                'planet': 'Betazed'\n",
    "            }\n",
    "        }\n",
    "    },\n",
    "    {\n",
    "        'name': 'Riker',\n",
    "        'vorname': 'William Thomas',\n",
    "        'rang': 'Commander',\n",
    "        'geburt': {\n",
    "            'datum': {\n",
    "                'jahr': 2335,\n",
    "                'monat': 4,\n",
    "                'tag': 15\n",
    "            },\n",
    "            'ort': {\n",
    "                'ort': 'Alaska',\n",
    "                'planet': 'Erde',\n",
    "            }\n",
    "        }\n",
    "    },\n",
    "]"
   ]
  },
  {
   "cell_type": "markdown",
   "id": "6840ecb4-f1c9-4d52-b856-f85faec53433",
   "metadata": {},
   "source": [
    "Wie aber können wir solche Daten in Python möglichst einfach laden und speichern?"
   ]
  },
  {
   "cell_type": "markdown",
   "id": "122e72da-82b2-439e-9a53-f8590a2f89a9",
   "metadata": {
    "jp-MarkdownHeadingCollapsed": true
   },
   "source": [
    "## Pickle: Das Einmachglas für Python"
   ]
  },
  {
   "cell_type": "markdown",
   "id": "f8aa8f15-9982-4ce5-af25-93d9194fe406",
   "metadata": {},
   "source": [
    "Pickle-Dateien - benannt nach dem englischen Wort für Einmachglas: \"pickle jar\" - speichert beliebige Python-Objekte als Binärdatei ab und lädt sie auch wieder. Die dazugehörigen Funktionen sind Teil der Standardbibliothek."
   ]
  },
  {
   "cell_type": "code",
   "execution_count": null,
   "id": "36f5b543-4d19-493a-8d11-0f36c2e1e0d3",
   "metadata": {},
   "outputs": [],
   "source": [
    "import pickle\n",
    "\n",
    "# Daten als Pickle-Datei speichern\n",
    "with open(\"StarTrekPersonen.pickle\",\"wb\") as outfile:\n",
    "    pickle.dump(personen, outfile)\n",
    "\n",
    "# Daten von Pickle-Datei laden\n",
    "with open(\"StarTrekPersonen.pickle\", \"rb\") as infile:\n",
    "    personen2 = pickle.load(infile)\n",
    "personen2"
   ]
  },
  {
   "cell_type": "markdown",
   "id": "4cc7f854-25e3-498c-8de3-b662c5bd7862",
   "metadata": {},
   "source": [
    "Die so erstellen Dateien können nicht mit einem Texteditor bearbeitet werden. Probieren Sie es: Öffnen Sie `StarTrekPersonen.pickle` mit einem Texteditor!\n",
    "\n",
    "Das ist auch der Grund, dass bei `open` `\"wb\"` und `\"rb\"` als Optionen angegeben wurden:\n",
    "- Das `\"wb\"` spezifiziert, dass die Datei zum Schreiben geöffnet wird (`\"w\"`) und Binärdaten geschrieben werden.\n",
    "- Das `\"rb\"` spezifiziert entsprechendes für den Lesezugriff.\n",
    "\n",
    "Das verhindert, das Konvertierungen erfolgen, wie sie sonst bei Textdateien angewendet werden, zum Beispiel die Umwandlung von `\"\\r\\n\"` in `\"\\n\"`. Eine solche Konvertierung darf bei Binärdateien nicht durchgeführt werden - sonst würden ja die Daten verändert."
   ]
  },
  {
   "cell_type": "markdown",
   "id": "2140f802-9453-4c0e-9ba4-752ffa7b730d",
   "metadata": {
    "jp-MarkdownHeadingCollapsed": true
   },
   "source": [
    "## JSON: Ein de-facto Standard im Internet"
   ]
  },
  {
   "cell_type": "markdown",
   "id": "9dce5610-ee23-4dda-bea5-6d953ad09501",
   "metadata": {},
   "source": [
    "\"JSON\" steht für \"JavaScript Objekt Notation\". JavaScript ist eine Programmiersprache, die häufig für Webanwendungen verwendet wird. Die JavaScript Objekt Notation ist ein Textformat, das Konstrukte aus JavaScript verwendet, um Datenstrukturen darzustellen. Dadurch sind sie einfach zu bearbeiten, und das Format ist gut geeignet, zwischen einem JavaScript-Frontend auf dem Browser und dem Backend auf dem Server ausgetauscht zu werden.\n",
    "\n",
    "Allerdings sind die Darstellungsmöglichkeiten eingeschränkt. Pickle kann alle Python-Objekte repräsentieren, JSON nur Listen, Dictionaries, Warheitswerte und Zahlen. Übrigens heißen die Dictionaries im JSON-Jargon \"Objekte\"."
   ]
  },
  {
   "cell_type": "code",
   "execution_count": null,
   "id": "bb461bef-5976-43f7-aa4a-8b4b7241157c",
   "metadata": {},
   "outputs": [],
   "source": [
    "import json\n",
    "\n",
    "# Daten als JSON-Datei speichern\n",
    "with open(\"StarTrekPersonen.json\",\"w\") as outfile:\n",
    "    json.dump(personen, outfile)\n",
    "\n",
    "# Daten von JSON-Datei laden\n",
    "with open(\"StarTrekPersonen.json\", \"r\") as infile:\n",
    "    personen2 = json.load(infile)\n",
    "personen2"
   ]
  },
  {
   "cell_type": "markdown",
   "id": "f02045df-d591-409c-923f-716e3b865263",
   "metadata": {},
   "source": [
    "Hier ein Auszug aus der JSON-Datei:\n",
    "```json\n",
    "[\n",
    "  {\n",
    "    \"name\": \"Picard\",\n",
    "    \"vorname\": \"Jean-Luc\",\n",
    "    \"rang\": \"Captain\",\n",
    "    \"geburt\": {\n",
    "      \"datum\": {\n",
    "        \"jahr\": 2305,\n",
    "        \"monat\": 7,\n",
    "        \"tag\": 13\n",
    "      },\n",
    "      \"ort\": {\n",
    "        \"ort\": \"La Barre\",\n",
    "        \"planet\": \"Erde\"\n",
    "      }\n",
    "    }\n",
    "  },\n",
    "  {\n",
    "    \"name\": \"Troi\",\n",
    "    \"vorname\": \"Deanna\",\n",
    "    \"rang\": \"Commander\",\n",
    "    \"geburt\": {\n",
    "      \"datum\": {\n",
    "        \"jahr\": 2336,\n",
    "        \"monat\": 3,\n",
    "        \"tag\": 29\n",
    "      },\n",
    "      \"ort\": {\n",
    "        \"planet\": \"Betazed\"\n",
    "      }\n",
    "    }\n",
    "  },\n",
    "  {\n",
    "    \"name\": \"Riker\",\n",
    "    \"vorname\": \"William Thomas\",\n",
    "    \"rang\": \"Commander\",\n",
    "    \"geburt\": {\n",
    "      \"datum\": {\n",
    "        \"jahr\": 2335,\n",
    "        \"monat\": 4,\n",
    "        \"tag\": 15\n",
    "      },\n",
    "      \"ort\": {\n",
    "        \"ort\": \"Alaska\",\n",
    "        \"planet\": \"Erde\"\n",
    "      }\n",
    "    }\n",
    "  }\n",
    "]\n",
    "```"
   ]
  },
  {
   "cell_type": "markdown",
   "id": "494c5a05-7d75-4b6a-8ebd-01024fe08438",
   "metadata": {},
   "source": [
    "Mit Hilfe der (zusätzlich zu installierenden) `requests`-Bibliothek können wir auch Anfragen an Web-APIs stellen. Ein API (engl. Abkürzung für \"Application Programming Interface\", Schnittstelle zur Anwendungsprogrammierung) stellt einen Zugriff auf bestimmte Dienste zur Verfügung, die zum Beispiel von Programmen direkt verwendet werden können. Dabei werden keine für die Programme unnötigen Informationen übertragen wie zum Beispiel Formatierungsanweisungen, wie sie für menschenlesbare Webseiten vorgesehen sind.\n",
    "\n",
    "Die `requests`-Bibliothek müssen wir extra installieren:\n",
    "```shell\n",
    "pip install requests\n",
    "```"
   ]
  },
  {
   "cell_type": "markdown",
   "id": "c963ae75-07fd-4085-b252-8192ee94d9e1",
   "metadata": {},
   "source": [
    "Wir können zum Beispiel die Liste der Projekte eines bestimmten Nutzers im GitLab der Fakultät abrufen:"
   ]
  },
  {
   "cell_type": "code",
   "execution_count": null,
   "id": "7abdb0e9-4561-48b6-b595-d1f148f913fc",
   "metadata": {},
   "outputs": [],
   "source": [
    "import requests\n",
    "r = requests.get(\n",
    "    \"https://gitlab.informatik.hs-furtwangen.de/api/v4/users\",\n",
    "    data={\n",
    "        'username': 'ger3897'\n",
    "})\n",
    "r.json()"
   ]
  },
  {
   "cell_type": "markdown",
   "id": "18053bb3-1026-4c91-9ce6-e645a8406993",
   "metadata": {
    "jp-MarkdownHeadingCollapsed": true
   },
   "source": [
    "## YAML: Noch mehr Markup?\n",
    "YAML (\"YAML Ain’t Markup Language\") ist ein weiteres weitverbreitetes Speicherformat, das vor allem für Konfigurationsdateien verwendet wird. Ursprünglich stand die Abkürzung für \"Yet Another Markup Language\". Es ist in der Lage, Dictionaries, Listen und verschiedene Formen von Skalaren darzustellen.\n",
    "\n",
    "YAML-Dateien sind auch Textdateien, wie JSON-Dateien. Allerdings folgen Sie einem etwas anderen Format.\n",
    "\n",
    "Die Funktionen für den Zugriff auf YAML-Dateien sind nicht in der Python-Standardbibliothek enthalten. Hierfür muss das Paket `pyyaml` installiert werden, z.B. vom Python Projekt Inventory mit Hilfe von `pip`:\n",
    "```shell\n",
    "pip install pyyaml\n",
    "```\n",
    "\n",
    "Die Verwendung ist ähnlich der von JSON:"
   ]
  },
  {
   "cell_type": "code",
   "execution_count": null,
   "id": "31c2ee05-178f-4ec8-a857-8985bc16755f",
   "metadata": {},
   "outputs": [],
   "source": [
    "import yaml\n",
    "\n",
    "# Daten als YAML-Datei speichern\n",
    "with open(\"StarTrekPersonen.yaml\",\"w\") as outfile:\n",
    "    yaml.dump(personen, outfile)\n",
    "\n",
    "# Daten von YAML-Datei laden\n",
    "with open(\"StarTrekPersonen.yaml\", \"r\") as infile:\n",
    "    personen2 = yaml.safe_load(infile)"
   ]
  },
  {
   "cell_type": "markdown",
   "id": "0223f0fc-dff9-4e67-b1d3-1f52a845240b",
   "metadata": {},
   "source": [
    "Hier ein Auszug aus der entstehenden Datei:\n",
    "```yaml\n",
    "- geburt:\n",
    "    datum:\n",
    "      jahr: 2305\n",
    "      monat: 7\n",
    "      tag: 13\n",
    "    ort:\n",
    "      ort: La Barre\n",
    "      planet: Erde\n",
    "  name: Picard\n",
    "  rang: Captain\n",
    "  vorname: Jean-Luc\n",
    "- geburt:\n",
    "    datum:\n",
    "      jahr: 2336\n",
    "      monat: 3\n",
    "      tag: 29\n",
    "    ort:\n",
    "      planet: Betazed\n",
    "  name: Troi\n",
    "  rang: Commander\n",
    "  vorname: Deanna\n",
    "- geburt:\n",
    "    datum:\n",
    "      jahr: 2335\n",
    "      monat: 4\n",
    "      tag: 15\n",
    "    ort:\n",
    "      ort: Alaska\n",
    "      planet: Erde\n",
    "  name: Riker\n",
    "  rang: Commander\n",
    "  vorname: William Thomas\n",
    "```"
   ]
  }
 ],
 "metadata": {
  "kernelspec": {
   "display_name": "Python 3 (ipykernel)",
   "language": "python",
   "name": "python3"
  },
  "language_info": {
   "codemirror_mode": {
    "name": "ipython",
    "version": 3
   },
   "file_extension": ".py",
   "mimetype": "text/x-python",
   "name": "python",
   "nbconvert_exporter": "python",
   "pygments_lexer": "ipython3",
   "version": "3.11.6"
  }
 },
 "nbformat": 4,
 "nbformat_minor": 5
}
