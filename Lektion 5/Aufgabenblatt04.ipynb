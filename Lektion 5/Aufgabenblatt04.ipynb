{
 "cells": [
  {
   "cell_type": "markdown",
   "id": "7e6a602e-be87-4212-ba8b-21cdcc9c97e1",
   "metadata": {},
   "source": [
    "# Tutorium Programmieren (Prof. Dr. Ralf Gerlich)\n",
    "# Aufgabenblatt 4"
   ]
  },
  {
   "cell_type": "markdown",
   "id": "fad14ee1-e243-4b19-8592-55192fcf5cca",
   "metadata": {},
   "source": [
    "## Aufgabe 1: Fibonacci-Zahlen\n",
    "Leonardo da Pisa (Beiname: \"figlio de Bonacci\", \"Sohn des Bonacci\") untersuchte im dreizehnten Jahrhundert das Wachstum einer Kaninchenpopulation.\n",
    "Das Ergebnis war die sogenannte [Fibonacci-Folge](https://de.wikipedia.org/wiki/Fibonacci-Folge): 1, 1, 2, 3, 5, 8, 13, ...\n",
    "\n",
    "Die Folge erhält man, indem man die ersten zwei Elemente der Folge auf 1 setzt und die jeweils nachfolgenden Elemente als die Summe Ihrer zwei Vorgänger berechnet: 1, 1, 1+1=2, 1+2=3, 2+3=5, 3+5=8, 5+8=13, ...\n",
    "\n",
    "Das k-te-Element der Folge gibt an, wie Kaninchenpaare im Monat k vorhanden sind, wenn jedes Kaninchenpaar jeden Monat ein weiteres Kaninchenpaar zur Welt bringt, aber die Kaninchen erst nach zwei Monaten geschlechtsreif sind.\n",
    "\n",
    "Unabhängig davon, wie realistisch diese Annahmen sind, hat die Folge eine interessante mathematische Eigenschaft: Der Quotient aus einem Element der Folge und seinem Vorgänger strebt gegen den sogenannten [Goldenen Schnitt](https://de.wikipedia.org/wiki/Goldener_Schnitt): $\\frac{1+\\sqrt{5}}{2} \\approx 1,6180$.\n",
    "\n",
    "Überzeugen Sie sich davon, indem Sie die ersten 20 Werte der Fibonacci-Folge berechnen und ausgeben. Geben Sie zusätzlich jeweils den Quotienten der jeweils zwei letzten Wert aus.\n",
    "\n",
    "Die Ausgabe sollte so aussehen:\n",
    "```\n",
    "f_3 = 2 2.000000000000000\n",
    "f_4 = 3 1.500000000000000\n",
    "f_5 = 5 1.666666666666667\n",
    "f_6 = 8 1.600000000000000\n",
    "f_7 = 13 1.625000000000000\n",
    "f_8 = 21 1.615384615384615\n",
    "f_9 = 34 1.619047619047619\n",
    "f_10 = 55 1.617647058823529\n",
    "f_11 = 89 1.618181818181818\n",
    "f_12 = 144 1.617977528089888\n",
    "f_13 = 233 1.618055555555556\n",
    "f_14 = 377 1.618025751072961\n",
    "f_15 = 610 1.618037135278515\n",
    "f_16 = 987 1.618032786885246\n",
    "f_17 = 1597 1.618034447821682\n",
    "f_18 = 2584 1.618033813400125\n",
    "f_19 = 4181 1.618034055727554\n",
    "f_20 = 6765 1.618033963166706\n",
    "```"
   ]
  },
  {
   "cell_type": "code",
   "execution_count": 2,
   "id": "4bcb372e-a5e0-4dd3-8de2-adbc90cfdfc9",
   "metadata": {},
   "outputs": [
    {
     "name": "stdout",
     "output_type": "stream",
     "text": [
      "f_1 = 1 1.0\n",
      "f_2 = 1 1.0\n",
      "f_3 = 2 2.0\n",
      "f_4 = 3 1.5\n",
      "f_5 = 5 1.6666666666666667\n",
      "f_6 = 8 1.6\n",
      "f_7 = 13 1.625\n",
      "f_8 = 21 1.6153846153846154\n",
      "f_9 = 34 1.619047619047619\n",
      "f_10 = 55 1.6176470588235294\n",
      "f_11 = 89 1.6181818181818182\n",
      "f_12 = 144 1.6179775280898876\n",
      "f_13 = 233 1.6180555555555556\n",
      "f_14 = 377 1.6180257510729614\n",
      "f_15 = 610 1.6180371352785146\n",
      "f_16 = 987 1.618032786885246\n",
      "f_17 = 1597 1.618034447821682\n",
      "f_18 = 2584 1.6180338134001253\n",
      "f_19 = 4181 1.618034055727554\n",
      "f_20 = 6765 1.6180339631667064\n"
     ]
    }
   ],
   "source": [
    "zahlen = [1,1,]\n",
    "for i in range(20):\n",
    "    if i > 1:\n",
    "        zahlen.append(zahlen[i-1] + zahlen[i-2])\n",
    "    print(\"f_\"+str(i+1)+\" =\", zahlen[i], zahlen[i]/zahlen[i-1])\n",
    "    "
   ]
  },
  {
   "cell_type": "markdown",
   "id": "d442f829-dd3e-4716-9ae7-2de555584f70",
   "metadata": {},
   "source": [
    "## Aufgabe 2: Bubble-Sort\n",
    "Bubble-Sort ist ein Sortieralgorithmus, bei dem die Einträge in einer Liste so lange paarweise vertauscht werden, bis die Reihenfolge korrekt ist. Stellt man sich die zu sortierende Liste als Säule vor, so kann man sich vorstellen, dass die größten/kleinsten Einträge Schritt für Schritt wie eine Luftblase (engl. \"bubble\") nach oben steigen.\n",
    "\n",
    "- Beim Bubble-Sort wird die zu sortierende Liste wiederholt von vorne nach hinten durchlaufen.\n",
    "- Ist ein Element der Liste größer als sein Nachfolger, so wird dass Element mit seinem Nachfolger vertauscht.\n",
    "- Dies wird so lange wiederholt, bis kein Tausch mehr erforderlich ist.\n",
    "\n",
    "Aufgrund seiner Eigenschaften lässt sich Bubble-Sort als sogenannter *In-Place-Sortieralgorithmus* implementieren, da statt der Erstellung einer komplett neuen Liste auch die bestehende Liste einfach modifiziert werden kann. Das Ergebnis wird also an der Stelle gespeichert, an dem auch die Eingabe lag (\"in place\").\n",
    "\n",
    "Implementieren Sie den Bubble-Sort in Python. Der folgende Code kann dafür verwendet werden, eine zufällige Folge von Zahlen zwischen 0 und 999 zu erstellen:"
   ]
  },
  {
   "cell_type": "code",
   "execution_count": 19,
   "id": "bd1b595f-738d-47b1-b99c-9275985604e7",
   "metadata": {},
   "outputs": [
    {
     "name": "stdout",
     "output_type": "stream",
     "text": [
      "[62, 380, 810, 103, 698, 16, 998, 555, 233, 368]\n",
      "[16, 62, 103, 233, 368, 380, 555, 698, 810, 998]\n"
     ]
    }
   ],
   "source": [
    "import random\n",
    "random.seed()\n",
    "numbers = [random.randint(0,999) for i in range(10)]\n",
    "print(numbers)\n",
    "for i in range(9):\n",
    "    for j in range(9):\n",
    "        if numbers[j] > numbers[j+1]:\n",
    "            x = numbers[j+1]\n",
    "            numbers[j+1] = numbers[j]\n",
    "            numbers[j] = x\n",
    "print(numbers)"
   ]
  },
  {
   "cell_type": "markdown",
   "id": "944c2eb7-9386-4760-a03e-cb4c6d0b97bb",
   "metadata": {},
   "source": [
    "## Aufgabe 3: Episodenliste\n",
    "Als Anlage zu diesem Übungsblatt finden Sie die Datei `StarTrekTNG.csv` aus der Vorlesung, die eine Liste der Episoden der Science-Fiction-Serie \"Star Trek: Die nächste Generation\" enthält. Hier ein Ausschnitt der Datei:\n",
    "\n",
    "```\n",
    "Titel;Staffel;Episode;Disk\n",
    "Encounter at Farpoint;1;01/02;1\n",
    "The Naked Now;1;03;1\n",
    "...\n",
    "```\n",
    "\n",
    "Schreiben Sie ein Programm, das alle Folgen ausgibt, die ein vom Nutzer oder der Nutzerin vorgegebenes Textfragment im Titel enthalten. Das Programm sollte\n",
    "1. die Datei einlesen,\n",
    "2. Nutzer oder Nutzerin nach einem Titelfragment fragen und\n",
    "3. alle Episoden ausgeben, deren Titel das Fragment enthalten, inklusive Staffel-, Epsioden- und Disk-Nummer.\n",
    "\n",
    "Die Felder sollen in geeigneter Weise formatiert werden.\n",
    "\n",
    "**Hinweise**:\n",
    "* Staffel- und Disk-Nummern müssen ggf. in Zahlen umgewandelt werden.\n",
    "* Episoden-Nummern sind nicht immer Zahlen (z.B. \"01/02\" für Doppelfolgen).\n",
    "* Nutzen Sie den `in`-Operator, um auf das Vorhandensein eines Titelfragments zu prüfen.\n",
    "* Groß- und Kleinschreibung sollen ignoriert werden sein, d.h. die Episode \"The Naked Now\" sollte auch aufgelistet werden, wenn der Suchstring \"naked\" (klein geschrieben) lautet. Sie können den Ausdruck `s.lower()` verwenden, um den String `s` in Kleinbuchstaben zu verwandeln."
   ]
  },
  {
   "cell_type": "code",
   "execution_count": 5,
   "id": "6accb648-7ec4-4110-99c4-efd10b92cf26",
   "metadata": {},
   "outputs": [
    {
     "name": "stdout",
     "output_type": "stream",
     "text": [
      "Gefundene Einträge:\n",
      "Titel: First Contact | Staffel: 4 | Episode: 15 | Disk: 4\n"
     ]
    }
   ],
   "source": [
    "fragment = input(\"Bitte den Titel Suchbegriff eingeben\")\n",
    "datei = open(\"StarTrekTNG.csv\",\"r\", encoding=\"utf-8\")\n",
    "liste = []\n",
    "i = 0\n",
    "for line in datei:\n",
    "    liste.append(line.rstrip())\n",
    "    liste[i] = liste[i].split(\";\")\n",
    "    i = i + 1\n",
    "datei.close()\n",
    "\n",
    "del liste[0]\n",
    "print(\"Gefundene Einträge:\")\n",
    "for item in liste:\n",
    "    item[1] = int(item[1])\n",
    "    item[3] = int(item[3])\n",
    "    if fragment.lower() in item[0].lower():\n",
    "        print(\"Titel:\",item[0],\"| Staffel:\",item[1],\"| Episode:\",item[2],\"| Disk:\",item[3])\n"
   ]
  },
  {
   "cell_type": "markdown",
   "id": "35d63cfb-600d-4174-86c2-61d316611abc",
   "metadata": {},
   "source": [
    "# Aufgabe 4: Telefonliste\n",
    "Schreiben Sie ein Programm, das eine Liste mit Namen und Telefonnummern verwaltet. Die Liste soll in einer Datei gespeichert werden.\n",
    "\n",
    "Zum Start soll das Programm fragen, ob ein Eintrag hinzugefügt oder gesucht werden soll.\n",
    "\n",
    "Soll ein Eintrag gesucht werden, so soll nach einem Suchtext gefragt werden und alle Einträge ausgegeben werden, deren Namen den Suchtext enthalten. Hier soll Groß- und Kleinschreibung irrelevant sein.\n",
    "\n",
    "Soll ein Eintrag hinzugefügt werden, so soll nach dem Namen und der Telefonnummer gefragt werden. Fügen Sie den neuen Eintrag der Liste von Einträgen hinzu und schreiben Sie die Datenbankdatei neu so, dass alle Einträge inklusive des neuen Eintrags darin enthalten sind.\n",
    "\n",
    "Sie können das Programm mit fiktiven Namen und Telefonnummern testen."
   ]
  },
  {
   "cell_type": "code",
   "execution_count": null,
   "id": "8ce957cc-428a-4109-a24b-28cad6fe9494",
   "metadata": {},
   "outputs": [],
   "source": [
    "def suchen():\n",
    "    eingabe = input(\"Bitte Suc\")\n",
    "def anlegen():\n",
    "    pass\n",
    "eingabe = input(\"Suchen (S) oder Anlegen (A)?\")\n",
    "if eingabe == \"S\":\n",
    "    suchen()\n",
    "elif eingabe == \"A\":\n",
    "    anlegen()"
   ]
  }
 ],
 "metadata": {
  "kernelspec": {
   "display_name": "Python 3",
   "language": "python",
   "name": "python3"
  },
  "language_info": {
   "codemirror_mode": {
    "name": "ipython",
    "version": 3
   },
   "file_extension": ".py",
   "mimetype": "text/x-python",
   "name": "python",
   "nbconvert_exporter": "python",
   "pygments_lexer": "ipython3",
   "version": "3.10.12"
  }
 },
 "nbformat": 4,
 "nbformat_minor": 5
}
