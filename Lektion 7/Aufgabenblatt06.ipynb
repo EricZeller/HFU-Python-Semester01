{
 "cells": [
  {
   "cell_type": "markdown",
   "id": "7e6a602e-be87-4212-ba8b-21cdcc9c97e1",
   "metadata": {},
   "source": [
    "# Tutorium Programmieren (Prof. Dr. Ralf Gerlich)\n",
    "# Aufgabenblatt 6"
   ]
  },
  {
   "cell_type": "markdown",
   "id": "8b50a277-c02f-42c9-8cb8-8ec985d92b2d",
   "metadata": {},
   "source": [
    "## Aufgabe 1: Statistik\n",
    "In der Statistik werden häufig sogenannte Zentrale Tendenzmaße wie Mittelwert oder Median berechnet.\n",
    "\n",
    "Implementieren Sie ein Stück Code, das eine Liste mit 1000 Zufallszahlen füllt und dann den Median und den Mittelwert berechnet. Nutzen Sie für die Erzeugung einer Zufallszahl die Funktion `randint` aus dem `random`-Modul und für die Berechnung von Mittelwert und Median entsprechende Funktionen aus dem Modul `statistics`.\n",
    "\n",
    "Die Liste der vorhandenen Module finden Sie unter \"Library Reference\" in der [Standard-Python-Dokumentation](https://docs.python.org).\n"
   ]
  },
  {
   "cell_type": "code",
   "execution_count": 1,
   "id": "b24c91ae-1176-4d84-b2df-b2f29a571ede",
   "metadata": {},
   "outputs": [],
   "source": [
    "# TODO"
   ]
  },
  {
   "cell_type": "markdown",
   "id": "09fa2bd8-2e7e-41ab-965a-0ba531e9ea11",
   "metadata": {},
   "source": [
    "## Aufgabe 2: Nullstellensuche\n",
    "Eine wichtige Eigenschaft des Kosinus ist, dass $\\cos \\frac{\\pi}{2}=0$ gilt (sofern man mit Winkeln im Bogenmaß arbeitet). Schreiben Sie eine Funktion `pi_half`, die den Wert von $\\frac{\\pi}{2}$ bis auf eine vorgegebene Maximalabweichung `epsilon` genau bestimmt, indem Sie mit Hilfe eines Bisektionsalgorithmus die einzige Nullstelle im Bereich zwischen $0$ und $2$ finden. Verwenden Sie explizit *nicht* die Konstante `pi` aus der Bibliothek `math`!\n",
    "\n",
    "Der Wert von `epsilon` soll per Aufrufparameter festlegbar sein. Wird der Parameter `epsilon` nicht angegeben, so soll als Standardwert `1E-5` (also $10^{-5}$) angenommen werden.\n",
    "\n",
    "Fügen Sie der Funktion einen passenden Docstring hinzu, der die Verwendung der Funktion, nicht jedoch ihre Implementierung erläutert.\n",
    "\n",
    "Verwenden Sie die Funktion `cos` aus dem `math`-Modul zur Berechnung des Kosinus. Diese erwarte einen Wert im Bogenmaß. Bedenken Sie, dass der Kosinus in diesem Wertebereich monoton fallend ist, d.h. der Kosinus wird kleiner, je größer der Winkel wird."
   ]
  },
  {
   "cell_type": "code",
   "execution_count": null,
   "id": "98fb76ed-9f96-48e3-8fa9-b1479ff6f3f9",
   "metadata": {},
   "outputs": [],
   "source": [
    "# TODO"
   ]
  },
  {
   "cell_type": "markdown",
   "id": "ba88a61c-ef25-42e6-8af7-60e65297f1a6",
   "metadata": {},
   "source": [
    "## Aufgabe 3: Zeitmessung\n",
    "Ein wichtiger Faktor bei der Auswahl von Algorithmen ist die Ausführungszeit.\n",
    "\n",
    "Implementieren Sie ein Stück Code, das eine Liste mit 1000, 100 000 und 10 000 000 Zufallszahlen füllt und dann mit Hilfe der `sorted`-Funktion sortiert. Messen Sie jeweils die Zeit, die zur Ausführung benötigt wird, und geben Sie diese Zeit aus. Nutzen Sie für die Erzeugung einer Zufallszahl die Funktion `randint` aus dem `random`-Modul.\n",
    "\n",
    "Zur Zeitmessung können Sie die Funktion [`process_time_ns` aus dem Modul `time`](https://docs.python.org/3/library/time.html#time.process_time_ns) verwenden. Diese liefert einen Zeitwert in Nanosekunden (1 Sekunde enthält 1 Milliarde Nanosekunden), den Sie verwenden können, um Ausführungszeiten zu messen.\n",
    "\n",
    "Das Prinzip ist einfach: Sie bestimmen den Zeitwert vor und nach der Ausführung des relevanten Codestücks. Die Differenz zwischen den beiden Zeiten ist die Ausführungszeit des Codestücks - hier eben in Nanosekunden."
   ]
  },
  {
   "cell_type": "code",
   "execution_count": 1,
   "id": "a7818810-01aa-4e4e-8937-f73651c74989",
   "metadata": {},
   "outputs": [],
   "source": [
    "# TODO"
   ]
  },
  {
   "cell_type": "markdown",
   "id": "5b634adf-1270-4c00-8f56-44f6f71180eb",
   "metadata": {},
   "source": [
    "## Aufgabe 4: Eigenes Modul\n",
    "Erstellen Sie ein Modul `vektoren`, in dem Sie die Vektorfunktionen `vektor_summe`, `skalar_produkt` und `skaliere` aus Aufgabe 1 im Aufgabenblatt 3 bereitstellen.\n",
    "\n",
    "Versehen Sie Modul und Funktionen mit entsprechenden Docstrings zur Dokumentation.\n",
    "\n",
    "Schreiben Sie ein Testcode, der das Modul importiert und jede der Funktionen mindestens einmal verwendet."
   ]
  },
  {
   "cell_type": "code",
   "execution_count": 2,
   "id": "0a7b7753-1550-40fc-bcb9-ab5ded4a681c",
   "metadata": {},
   "outputs": [],
   "source": [
    "# TODO"
   ]
  }
 ],
 "metadata": {
  "kernelspec": {
   "display_name": "Python 3 (ipykernel)",
   "language": "python",
   "name": "python3"
  },
  "language_info": {
   "codemirror_mode": {
    "name": "ipython",
    "version": 3
   },
   "file_extension": ".py",
   "mimetype": "text/x-python",
   "name": "python",
   "nbconvert_exporter": "python",
   "pygments_lexer": "ipython3",
   "version": "3.12.2"
  }
 },
 "nbformat": 4,
 "nbformat_minor": 5
}
