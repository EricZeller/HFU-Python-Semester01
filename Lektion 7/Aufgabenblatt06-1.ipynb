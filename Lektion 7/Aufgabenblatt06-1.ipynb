{
 "cells": [
  {
   "cell_type": "markdown",
   "id": "7e6a602e-be87-4212-ba8b-21cdcc9c97e1",
   "metadata": {},
   "source": [
    "# Tutorium Programmieren (Prof. Dr. Ralf Gerlich)\n",
    "# Aufgabenblatt 6"
   ]
  },
  {
   "cell_type": "markdown",
   "id": "8b50a277-c02f-42c9-8cb8-8ec985d92b2d",
   "metadata": {},
   "source": [
    "## Aufgabe 1: Statistik\n",
    "In der Statistik werden häufig sogenannte Zentrale Tendenzmaße wie Mittelwert oder Median berechnet.\n",
    "\n",
    "Implementieren Sie ein Stück Code, das eine Liste mit 1000 Zufallszahlen füllt und dann den Median und den Mittelwert berechnet. Nutzen Sie für die Erzeugung einer Zufallszahl die Funktion `randint` aus dem `random`-Modul und für die Berechnung von Mittelwert und Median entsprechende Funktionen aus dem Modul `statistics`.\n",
    "\n",
    "Die Liste der vorhandenen Module finden Sie unter \"Library Reference\" in der [Standard-Python-Dokumentation](https://docs.python.org).\n"
   ]
  },
  {
   "cell_type": "code",
   "execution_count": 2,
   "id": "b24c91ae-1176-4d84-b2df-b2f29a571ede",
   "metadata": {},
   "outputs": [
    {
     "name": "stdout",
     "output_type": "stream",
     "text": [
      "[62595, 83379, 88463, 59745, 1960, 62928, 77096, 44367, 77771, 23312, 64802, 70521, 73119, 18258, 13954, 87831, 90419, 56154, 92484, 64740, 90936, 57467, 13670, 71911, 17318, 51060, 31634, 2269, 1793, 87191, 98128, 14986, 2704, 19634, 75885, 23552, 26500, 85250, 99706, 68278, 34055, 72577, 75632, 57251, 25645, 95208, 93537, 65133, 40657, 98458, 56202, 23103, 24535, 74610, 91808, 19157, 92202, 47930, 75170, 32668, 60650, 31741, 62366, 59530, 49038, 69028, 5112, 1764, 88083, 46742, 84219, 8244, 30026, 74584, 23998, 93521, 4998, 84853, 5606, 1834, 99227, 15702, 30820, 4115, 39559, 84818, 6012, 19310, 92047, 57761, 606, 69647, 68295, 94768, 7993, 19121, 14205, 24465, 88882, 26061, 38692, 9939, 16861, 44616, 9797, 58008, 6491, 1527, 22105, 97479, 5374, 61913, 33079, 81146, 49024, 38973, 66717, 33727, 61007, 40805, 89594, 68083, 16780, 90772, 66586, 54979, 76267, 70612, 24010, 61996, 67171, 57046, 84779, 27645, 66487, 12262, 99231, 1444, 78442, 91251, 53838, 50250, 96179, 51047, 11233, 10337, 31854, 41746, 54506, 12260, 37298, 77611, 69368, 35324, 96301, 4198, 18197, 54896, 27422, 59479, 68637, 49925, 92647, 73339, 67241, 72742, 98594, 65016, 32946, 40410, 22968, 63999, 90815, 98465, 67277, 65277, 36595, 89353, 85686, 49124, 88795, 45062, 64309, 84189, 4085, 21943, 34076, 81473, 37092, 15345, 51188, 40641, 24327, 2988, 1528, 79337, 52180, 24100, 5013, 18323, 91525, 32251, 46296, 62038, 27652, 33545, 29425, 2027, 58729, 62288, 76064, 42743, 2256, 72889, 47284, 27804, 5619, 80927, 31694, 92982, 35597, 40127, 78582, 55544, 37110, 17469, 72059, 99388, 81872, 45442, 5581, 38748, 47737, 31756, 65483, 97219, 11759, 67792, 43536, 43626, 80228, 16394, 24532, 41754, 71705, 65897, 42868, 73182, 14079, 89492, 88185, 60952, 40111, 53115, 11835, 81401, 22532, 68620, 37122, 85417, 66737, 52752, 5331, 97921, 99732, 46437, 83758, 50350, 68691, 23535, 88632, 77145, 39153, 58696, 20865, 87273, 31554, 322, 6470, 33658, 42420, 57313, 1652, 94072, 6578, 50921, 91679, 16899, 14546, 65157, 41860, 59187, 32336, 93724, 12488, 79704, 44069, 5652, 17616, 74981, 12612, 3007, 70428, 86468, 19839, 68906, 92623, 41077, 81666, 54145, 72958, 47100, 68028, 78005, 55310, 70612, 55869, 96944, 8677, 77879, 28984, 24448, 20833, 68158, 36932, 54447, 85620, 35118, 92987, 53559, 48073, 45735, 34445, 70540, 85123, 22336, 20874, 11682, 27414, 27494, 17006, 13531, 91686, 25562, 20555, 73706, 89575, 92593, 21667, 40382, 90905, 64360, 56520, 9534, 11600, 26843, 74230, 9971, 30107, 80787, 1311, 62781, 84248, 83566, 29924, 85874, 81451, 76561, 31649, 95046, 43646, 71958, 79515, 52131, 66745, 36918, 51320, 32703, 82471, 57756, 32583, 76014, 57839, 9319, 80583, 12082, 87099, 54971, 88436, 50114, 76034, 45557, 50275, 71326, 25286, 33806, 63580, 4665, 47535, 83447, 80981, 85333, 28746, 74330, 71792, 23649, 60075, 89345, 40899, 36322, 97311, 20293, 50446, 95996, 19331, 79541, 97087, 67995, 18001, 36927, 37558, 12640, 16938, 59100, 85159, 58275, 35375, 80450, 15425, 12551, 168, 69201, 74140, 82126, 35962, 11911, 29613, 42634, 43689, 52798, 41015, 13374, 60623, 34019, 94300, 93025, 92651, 49513, 75253, 70978, 92685, 86800, 24872, 61174, 40421, 41291, 28256, 84775, 13894, 12533, 14374, 12556, 99326, 82865, 23938, 88120, 28880, 63886, 48101, 86839, 84075, 76247, 8506, 18716, 18682, 23866, 56096, 77855, 36385, 31702, 79709, 9781, 1887, 38675, 29097, 16476, 99071, 15567, 65367, 24258, 91028, 93061, 43857, 95622, 92579, 17743, 46086, 77591, 38020, 82497, 72315, 92041, 45289, 686, 70621, 56539, 94866, 38126, 28571, 31649, 2358, 28036, 266, 51741, 7843, 62342, 15451, 53944, 24376, 43628, 38898, 43315, 12226, 39972, 30599, 81599, 53001, 31326, 95844, 95287, 5035, 90733, 44419, 28818, 3588, 67921, 2614, 15630, 36672, 64759, 53706, 24443, 83923, 78633, 59774, 25717, 66989, 93900, 65942, 8635, 6879, 92730, 72316, 76828, 31190, 18148, 92635, 43540, 91004, 41307, 40477, 7008, 99885, 29762, 22056, 37308, 11410, 7452, 81295, 46591, 59977, 87796, 11469, 2920, 46855, 78640, 37651, 26541, 58257, 78829, 27948, 30853, 93276, 7821, 70469, 93389, 1404, 27542, 28560, 27434, 77792, 46229, 13902, 2011, 32572, 61347, 40237, 19618, 37636, 93111, 34805, 17380, 81224, 85195, 51432, 18569, 420, 23992, 15295, 33498, 70462, 66991, 7477, 36821, 73346, 87071, 63787, 28264, 98239, 27071, 94319, 57382, 85278, 8236, 6996, 24802, 75239, 49420, 974, 44377, 19200, 62974, 41425, 68543, 47985, 92578, 43893, 57197, 21699, 65626, 7886, 69789, 12275, 26586, 2264, 36826, 6662, 1781, 26539, 94310, 2171, 73973, 65963, 23649, 20690, 46691, 93911, 17539, 3681, 26733, 17631, 87414, 54713, 59565, 86803, 36522, 21949, 90937, 32574, 14868, 40079, 85460, 81862, 22040, 73291, 18026, 1436, 23298, 85525, 47095, 7302, 35200, 56733, 85330, 32041, 95316, 29840, 40949, 25053, 28637, 36652, 79831, 93714, 41629, 94803, 29764, 40041, 15543, 25168, 32944, 9133, 3620, 76925, 9131, 81532, 90439, 11544, 19537, 24323, 60545, 42357, 89070, 76383, 14076, 68107, 16325, 41272, 66393, 73525, 13404, 47263, 14359, 45288, 98801, 9768, 8915, 68754, 97654, 5628, 91456, 1053, 11022, 82571, 42412, 9580, 34998, 40394, 55320, 70664, 67140, 99464, 13524, 62284, 17570, 46709, 77537, 42931, 93269, 21121, 22509, 85029, 47201, 80930, 80005, 32682, 58921, 24220, 39654, 29275, 95924, 60407, 78682, 81901, 78263, 57414, 95691, 33676, 66606, 45602, 70834, 60618, 67108, 20532, 68521, 36402, 64311, 4437, 44166, 96654, 96735, 18026, 49136, 79058, 37227, 52830, 62746, 78719, 83484, 5454, 90010, 58833, 72421, 12175, 53800, 65375, 67501, 44288, 57840, 59455, 12503, 99548, 89029, 90739, 30396, 88685, 46231, 64393, 56132, 7499, 23768, 190, 16406, 39556, 9779, 20856, 60581, 89512, 38026, 32353, 96431, 32026, 73072, 65155, 7471, 29376, 23139, 351, 45438, 18726, 77073, 70378, 57446, 24614, 32790, 86665, 52233, 47712, 89506, 56040, 6050, 71398, 65022, 85148, 63550, 38946, 32704, 38985, 10883, 52550, 96581, 23896, 74270, 61238, 82777, 53294, 53202, 89453, 65759, 16045, 16058, 71109, 84179, 26170, 25648, 57116, 55058, 72097, 20765, 11588, 65394, 56140, 31403, 8603, 57709, 87927, 13443, 7353, 28725, 28924, 85717, 31994, 62510, 17693, 75336, 56232, 62841, 2088, 81112, 36744, 12364, 55887, 26009, 9909, 44110, 65244, 23394, 18173, 2626, 47508, 98984, 6692, 66579, 50887, 79842, 76881, 49035, 7655, 14184, 60181, 25773, 84092, 17285, 34651, 67007, 54238, 48761, 88294, 47051, 7787, 22998, 23092, 98788, 10563, 29522, 5550, 37961, 79340, 47623, 64657, 36556, 46598, 70915, 99813, 7182, 11980, 7891, 14527, 61489, 65312, 88619, 18934, 13314, 65297, 18891, 42471, 30871, 74120, 72781, 22932, 69645, 75402, 23155, 78460, 28546, 10501, 80172, 84609, 59058, 44440, 74046, 74029, 18555, 39015, 80517, 57075, 9940, 68042, 73895, 89121, 37270, 61577, 81190, 1645, 20873, 77648, 65081, 26297, 73429, 61128, 86340, 74013, 64962, 50591, 20511, 71705, 91775, 63546, 79773, 6725, 91344, 19389, 86961, 44431, 33268, 11048, 2222, 15042, 9589, 69814, 57580]\n",
      "Median: 47957.5 | Mittelwert: 49202.055\n"
     ]
    }
   ],
   "source": [
    "import random\n",
    "import statistics\n",
    "\n",
    "numbers = [random.randint(0, 99999) for i in range(1000)]\n",
    "print(numbers)\n",
    "median = statistics.median(numbers) #Median\n",
    "mittelwert = statistics.mean(numbers) #Mittelwert\n",
    "\n",
    "print(f\"Median: {median} | Mittelwert: {mittelwert}\")"
   ]
  },
  {
   "cell_type": "markdown",
   "id": "09fa2bd8-2e7e-41ab-965a-0ba531e9ea11",
   "metadata": {},
   "source": [
    "## Aufgabe 2: Nullstellensuche\n",
    "Eine wichtige Eigenschaft des Kosinus ist, dass $\\cos \\frac{\\pi}{2}=0$ gilt (sofern man mit Winkeln im Bogenmaß arbeitet). Schreiben Sie eine Funktion `pi_half`, die den Wert von $\\frac{\\pi}{2}$ bis auf eine vorgegebene Maximalabweichung `epsilon` genau bestimmt, indem Sie mit Hilfe eines Bisektionsalgorithmus die einzige Nullstelle im Bereich zwischen $0$ und $2$ finden. Verwenden Sie explizit *nicht* die Konstante `pi` aus der Bibliothek `math`!\n",
    "\n",
    "Der Wert von `epsilon` soll per Aufrufparameter festlegbar sein. Wird der Parameter `epsilon` nicht angegeben, so soll als Standardwert `1E-5` (also $10^{-5}$) angenommen werden.\n",
    "\n",
    "Fügen Sie der Funktion einen passenden Docstring hinzu, der die Verwendung der Funktion, nicht jedoch ihre Implementierung erläutert.\n",
    "\n",
    "Verwenden Sie die Funktion `cos` aus dem `math`-Modul zur Berechnung des Kosinus. Diese erwarte einen Wert im Bogenmaß. Bedenken Sie, dass der Kosinus in diesem Wertebereich monoton fallend ist, d.h. der Kosinus wird kleiner, je größer der Winkel wird."
   ]
  },
  {
   "cell_type": "code",
   "execution_count": 7,
   "id": "98fb76ed-9f96-48e3-8fa9-b1479ff6f3f9",
   "metadata": {},
   "outputs": [
    {
     "name": "stdout",
     "output_type": "stream",
     "text": [
      "Näherung für Pi/2: 1.5707969665527344\n"
     ]
    }
   ],
   "source": [
    "from math import cos\n",
    "\n",
    "def pi_half(epsilon=10**-5):\n",
    "    \"\"\"Berechnet Pi/2 bis auf eine variable Maximalabweichung\"\"\"\n",
    "    links = 0\n",
    "    rechts = 2\n",
    "    while (rechts - links) > epsilon:\n",
    "        mitte = (links + rechts) / 2\n",
    "        if cos(mitte) == 0:\n",
    "            return mitte\n",
    "        elif cos(links) * cos(mitte) < 0:\n",
    "            rechts = mitte\n",
    "        else:\n",
    "            links = mitte\n",
    "    return (links + rechts) / 2\n",
    "\n",
    "eps = input(\"Bitte geben Sie die gewünschte Maximalabweichung ein oder wählen Sie nichts für den Standardwert\")\n",
    "if eps == \"\":\n",
    "    print(f\"Näherung für Pi/2: {pi_half()}\")\n",
    "else:\n",
    "    print(f\"Näherung für Pi/2: {pi_half(float(eps))}\")\n"
   ]
  },
  {
   "cell_type": "markdown",
   "id": "ba88a61c-ef25-42e6-8af7-60e65297f1a6",
   "metadata": {},
   "source": [
    "## Aufgabe 3: Zeitmessung\n",
    "Ein wichtiger Faktor bei der Auswahl von Algorithmen ist die Ausführungszeit.\n",
    "\n",
    "Implementieren Sie ein Stück Code, das eine Liste mit 1000, 100 000 und 10 000 000 Zufallszahlen füllt und dann mit Hilfe der `sorted`-Funktion sortiert. Messen Sie jeweils die Zeit, die zur Ausführung benötigt wird, und geben Sie diese Zeit aus. Nutzen Sie für die Erzeugung einer Zufallszahl die Funktion `randint` aus dem `random`-Modul.\n",
    "\n",
    "Zur Zeitmessung können Sie die Funktion [`process_time_ns` aus dem Modul `time`](https://docs.python.org/3/library/time.html#time.process_time_ns) verwenden. Diese liefert einen Zeitwert in Nanosekunden (1 Sekunde enthält 1 Milliarde Nanosekunden), den Sie verwenden können, um Ausführungszeiten zu messen.\n",
    "\n",
    "Das Prinzip ist einfach: Sie bestimmen den Zeitwert vor und nach der Ausführung des relevanten Codestücks. Die Differenz zwischen den beiden Zeiten ist die Ausführungszeit des Codestücks - hier eben in Nanosekunden."
   ]
  },
  {
   "cell_type": "code",
   "execution_count": 1,
   "id": "a7818810-01aa-4e4e-8937-f73651c74989",
   "metadata": {},
   "outputs": [
    {
     "name": "stdout",
     "output_type": "stream",
     "text": [
      "Benötigte Zeit bei 1 000 Zahlen: 1.376354 Sekunden\n",
      "Benötigte Zeit bei 100 000 Zahlen: 1.495069 Sekunden\n",
      "Benötigte Zeit bei 10 000 000 Zahlen: 14.715483 Sekunden\n"
     ]
    }
   ],
   "source": [
    "import random\n",
    "from time import process_time_ns\n",
    "x = 0\n",
    "start = process_time_ns()\n",
    "s_numbers = [random.randint(0, 99999999) for i in range(1000)]\n",
    "sorted(s_numbers)\n",
    "stop = process_time_ns()\n",
    "x = process_time_ns() / 1000000000\n",
    "print(f\"Benötigte Zeit bei 1 000 Zahlen: {x} Sekunden\")\n",
    "\n",
    "start = process_time_ns()\n",
    "m_numbers = [random.randint(0, 99999999) for i in range(100000)]\n",
    "sorted(m_numbers)\n",
    "stop = process_time_ns()\n",
    "x = process_time_ns() / 1000000000\n",
    "print(f\"Benötigte Zeit bei 100 000 Zahlen: {x} Sekunden\")\n",
    "\n",
    "start = process_time_ns()\n",
    "b_numbers = [random.randint(0, 99999999) for i in range(10000000)]\n",
    "sorted(b_numbers)\n",
    "stop = process_time_ns()\n",
    "x = process_time_ns() / 1000000000\n",
    "print(f\"Benötigte Zeit bei 10 000 000 Zahlen: {x} Sekunden\")"
   ]
  },
  {
   "cell_type": "markdown",
   "id": "5b634adf-1270-4c00-8f56-44f6f71180eb",
   "metadata": {},
   "source": [
    "## Aufgabe 4: Eigenes Modul\n",
    "Erstellen Sie ein Modul `vektoren`, in dem Sie die Vektorfunktionen `vektor_summe`, `skalar_produkt` und `skaliere` aus Aufgabe 1 im Aufgabenblatt 3 bereitstellen.\n",
    "\n",
    "Versehen Sie Modul und Funktionen mit entsprechenden Docstrings zur Dokumentation.\n",
    "\n",
    "Schreiben Sie ein Testcode, der das Modul importiert und jede der Funktionen mindestens einmal verwendet."
   ]
  },
  {
   "cell_type": "code",
   "execution_count": 8,
   "id": "0a7b7753-1550-40fc-bcb9-ab5ded4a681c",
   "metadata": {},
   "outputs": [
    {
     "name": "stdout",
     "output_type": "stream",
     "text": [
      "(2, 4, 6, 8)\n",
      "55\n",
      "(2, 4, 6, 8, 10)\n"
     ]
    }
   ],
   "source": [
    "import vektoren\n",
    "\n",
    "print(vektoren.vektor_summe((1, 2, 3, 4), (1, 2, 3, 4)))\n",
    "\n",
    "print(vektoren.skalar_produkt((1, 2, 3, 4, 5), (1, 2, 3, 4, 5)))\n",
    "\n",
    "print(vektoren.skaliere(2, (1, 2, 3, 4, 5)))"
   ]
  }
 ],
 "metadata": {
  "kernelspec": {
   "display_name": "Python 3",
   "language": "python",
   "name": "python3"
  },
  "language_info": {
   "codemirror_mode": {
    "name": "ipython",
    "version": 3
   },
   "file_extension": ".py",
   "mimetype": "text/x-python",
   "name": "python",
   "nbconvert_exporter": "python",
   "pygments_lexer": "ipython3",
   "version": "3.13.0"
  }
 },
 "nbformat": 4,
 "nbformat_minor": 5
}
