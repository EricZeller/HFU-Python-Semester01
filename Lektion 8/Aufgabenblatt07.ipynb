{
 "cells": [
  {
   "cell_type": "markdown",
   "id": "7e6a602e-be87-4212-ba8b-21cdcc9c97e1",
   "metadata": {},
   "source": [
    "# Tutorium Programmieren (Prof. Dr. Ralf Gerlich)\n",
    "# Aufgabenblatt 7"
   ]
  },
  {
   "attachments": {},
   "cell_type": "markdown",
   "id": "d5d7a433-0bfc-441e-9eb0-73f4d9d1a822",
   "metadata": {},
   "source": [
    "## Aufgabe 1: Anagramme\n",
    "Ein Anagramm ist ein Wort, das durch Umstellung der Buchstabenreihenfolge aus einem anderen Wort hervorgeht. So ist \"Erbgut\" ein Anagramm von \"Betrug\", oder \"Lagerregal\" ist ein Anagramm von \"Regallager\". Weitere Beispiele sind \"Tokio\" und \"Kioto\".\n",
    "\n",
    "Damit ein Wort `s` also ein Anagramm eines Wortes `t` ist, dürfen `s` und `t` nicht gleich sein, aber alle Buchstaben müssen in beiden Worten gleich häufig vorkommen. Groß- und Kleinschreibung ist dabei nicht relevant. Für einen String `s` liefert der Ausdruck `s.lower()` den äquivalenten String, bei dem alle Großbuchstaben in Kleinbuchstaben umgewandelt wurden.\n",
    "\n",
    "Schreiben Sie ein Programm, das zwei Worte einliest und prüft, ob sie Anagramme voneinander sind."
   ]
  },
  {
   "cell_type": "code",
   "execution_count": null,
   "id": "9bbc747d-22fd-43a9-be11-368579911f6a",
   "metadata": {},
   "outputs": [
    {
     "name": "stdout",
     "output_type": "stream",
     "text": [
      "Diese Wörter sind Anagramme!\n",
      "['i', 'k', 'o', 'o', 't'] ['i', 'k', 'o', 'o', 't']\n"
     ]
    }
   ],
   "source": [
    "def anagramm(s, t):\n",
    "    if s == t:\n",
    "        print(\"Bitte nicht das gleiche Wort eingeben!\")\n",
    "    else:\n",
    "        s = list(s)\n",
    "        s.sort()\n",
    "        t = list(t)\n",
    "        t.sort()\n",
    "        if s == t:\n",
    "            print(\"Diese Wörter sind Anagramme!\")\n",
    "        else:\n",
    "            print(\"Diese Wörter sind keine Anagramme!\")\n",
    "\n",
    "s = input(\"Bitte geben Sie das erste Wort ein: \").lower()\n",
    "t = input(\"Bitte geben Sie das zweite Wort ein: \").lower()\n",
    "anagramm(s, t)"
   ]
  },
  {
   "cell_type": "markdown",
   "id": "590fa8be-fa49-4500-a7ab-6ef486f6de94",
   "metadata": {},
   "source": [
    "## Aufgabe 2: Worthäufigkeit\n",
    "Der folgende Code liest den Text eines Billy-Joel-Lieds aus dem Jahr 1977 ein und liefert eine Liste von Worten in der Datei (alle in Kleinbuchstaben).\n",
    "\n",
    "Ergänzen Sie das Programm so, dass es das am häufigsten vorkommende Wort ausgibt."
   ]
  },
  {
   "cell_type": "code",
   "execution_count": 10,
   "id": "529f3b36-7813-4c32-adfa-31315b1368ab",
   "metadata": {},
   "outputs": [
    {
     "name": "stdout",
     "output_type": "stream",
     "text": [
      "Das Wort 'she' kommt im Song 41x vor.\n"
     ]
    }
   ],
   "source": [
    "import re\n",
    "with open(\"shes-always-a-woman.txt\", \"r\", encoding=\"utf-8\") as infile:\n",
    "    lyrics = infile.read()\n",
    "words = list(map(lambda s: s.lower(), re.split(r'\\W+', lyrics)))\n",
    "wordD = {}\n",
    "for w in words: wordD[w] = words.count(w)\n",
    "print(f\"Das Wort '{max(wordD, key=wordD.get)}' kommt im Song {wordD[max(wordD,key=wordD.get)]}x vor.\")"
   ]
  },
  {
   "cell_type": "markdown",
   "id": "c092b378-3252-456f-ac9e-d69d98fed7de",
   "metadata": {},
   "source": [
    "## Aufgabe 3: Speisekarte\n",
    "Das Dictionary `speisekarte` im folgenden Codestück enthält die Namen von Getränken und Gerichten sowie deren Preise.\n",
    "\n",
    "Schreiben Sie ein Programm, mit dem in einem Restaurant für einen Tisch abgerechnet werden kann. Führen Sie dazu folgende Schritte aus:\n",
    "1. Setzen Sie die Variable `summe` auf 0.\n",
    "2. Geben Sie die Liste der Gerichte (ohne Preis) aus.\n",
    "3. Lassen Sie Nutzer oder Nutzerin den Namen eines Gerichts eingeben.\n",
    "4. Wenn ein leerer String eingegeben wurde, geben Sie den Wert von `summe` aus und beenden Sie das Programm.\n",
    "5. Wenn für das Gericht ein Eintrag im Dictionary existiert, addieren Sie den Preis zur Variablen `summe` hinzu und setzen Sie bei Schritt 2 fort.\n",
    "6. Wenn für das Gericht kein Eintrag im Dictionary existiert, geben Sie eine Fehlermeldung aus und setzen Sie bei Schritt 2 fort."
   ]
  },
  {
   "cell_type": "code",
   "execution_count": 11,
   "id": "7b510a97-03ce-446e-be5f-a6eb8ed1c76b",
   "metadata": {},
   "outputs": [
    {
     "name": "stdout",
     "output_type": "stream",
     "text": [
      "Stilles Wasser\n",
      "Mineralwasser\n",
      "Cola\n",
      "Bitter Lemon\n",
      "Orangensaft\n",
      "Espresso\n",
      "Heiße Schokolade\n",
      "Salat\n",
      "Flädlesuppe\n",
      "Maultaschen\n",
      "Kässpätzle\n",
      "Schweinelendchen\n",
      "Ofenkartoffeln\n",
      "Gebratener Ziegenkäse\n",
      "Ihre Summe beträgt: 0.00€.\n"
     ]
    }
   ],
   "source": [
    "speisekarte = {\n",
    "    'Stilles Wasser': 2.90,\n",
    "    'Mineralwasser': 2.90,\n",
    "    'Cola': 2.90,\n",
    "    'Bitter Lemon': 3.60,\n",
    "    'Orangensaft': 3.90,\n",
    "    'Espresso': 2.30,\n",
    "    'Heiße Schokolade': 4.10,\n",
    "    'Salat': 6.50,\n",
    "    'Flädlesuppe': 6.50,\n",
    "    'Maultaschen': 16.80,\n",
    "    'Kässpätzle': 15.30,\n",
    "    'Schweinelendchen': 23.90,\n",
    "    'Ofenkartoffeln': 14.90,\n",
    "    'Gebratener Ziegenkäse': 15.50\n",
    "}\n",
    "summe = 0\n",
    "keys = speisekarte.keys()\n",
    "for key in keys:\n",
    "    print(key)\n",
    "while True:\n",
    "    eingabe = input(\"Bitte geben Sie ein Gericht ein: \")\n",
    "    if eingabe == \"\":\n",
    "        print(f\"Ihre Summe beträgt: {summe:.2f}€.\")\n",
    "        break\n",
    "    elif eingabe in keys:\n",
    "        preis = speisekarte.get(eingabe)\n",
    "        summe += preis\n",
    "    else:\n",
    "        print(\"Gericht nicht vorhanden!\")"
   ]
  },
  {
   "cell_type": "markdown",
   "id": "a449f808-aca0-4297-84be-75dccdd4f774",
   "metadata": {},
   "source": [
    "## Aufgabe 4: Hauptstädte\n",
    "In der Datei `capitals.csv` sind 262 Hauptstädte von 246 Ländern enthalten. Jede Zeile in der Datei enthält den Namen eines Landes und den Namen seiner Hauptstadt. Diese sind durch ein Semikolon (`;`) getrennt (das Format ist ähnlich der Star-Trek-Episodenliste aus Aufgabenblatt 4).\n",
    "\n",
    "Sie sehen es an den Zahlen: Einige der Länder haben mehr als eine Hauptstadt (z.B. Abidjan und Yamoussourkou für die Elfenbeinküste). Meist ist eines die Hauptstadt nach gesetzlicher Festlegung, aber die Regierungseinrichtungen befinden sich in der anderen Stadt.\n",
    "\n",
    "Lesen Sie die Liste ein und geben Sie für alle Länder mit mehr als einer Hauptstadt jeweils den Namen des Landes und die Namen seiner Hauptstädte aus.\n",
    "\n",
    "**Hinweis**: Nutzen Sie für die Speicherung ein Dictionary, das den Landesnamen auf eine Liste von Hauptstädten abbildet."
   ]
  },
  {
   "cell_type": "code",
   "execution_count": 17,
   "id": "81d3f68a-9cb3-475a-9ed6-eab4a95664f8",
   "metadata": {},
   "outputs": [
    {
     "name": "stdout",
     "output_type": "stream",
     "text": [
      "Land: Ivory Coast (Côte d'Ivoire) Hauptstädte: Abidjan (former capital - still hosts some government offices); UND Yamoussoukro (de jure)\n",
      "Land: Yemen Hauptstädte: Aden (de facto, temporary); UND Sanaa (de jure)\n",
      "Land: Netherlands Hauptstädte: Amsterdam (official); UND The Hague (de facto)\n",
      "Land: South Africa Hauptstädte: Bloemfontein (judicial); UND Cape Town (legislative); UND Pretoria (executive)\n",
      "Land: Montserrat Hauptstädte: Brades (de facto); UND Plymouth (de jure)\n",
      "Land: Sri Lanka Hauptstädte: Colombo (executive, judicial); UND Sri Jayawardenepura Kotte (official)\n",
      "Land: Benin Hauptstädte: Cotonou (de facto); UND Porto-Novo (official)\n",
      "Land: Burundi Hauptstädte: Gitega (de jure); UND Bujumbura (de facto)\n",
      "Land: Palestine Hauptstädte: Jerusalem; UND Ramallah (de facto)\n",
      "Land: Malaysia Hauptstädte: Kuala Lumpur (de jure, legislative and royal); UND Putrajaya (administrative and judicial)\n",
      "Land: Bolivia Hauptstädte: La Paz (administrative); UND Sucre (constitutional)\n",
      "Land: Western Sahara Hauptstädte: Laayoune (declared); UND Tifariti (de facto)\n",
      "Land: Eswatini Hauptstädte: Lobamba (royal and legislative); UND Mbabane (administrative)\n",
      "Land: British Indian Ocean Territory Hauptstädte: London (administration); UND Diego Garcia (de facto)\n",
      "Land: Honduras Hauptstädte: Tegucigalpa; UND Comayagüela\n"
     ]
    }
   ],
   "source": [
    "datei = open(\"capitals.csv\", \"r\", encoding=\"utf-8\")\n",
    "eintraege = {}\n",
    "for line in datei:\n",
    "    line = line.rstrip()\n",
    "    s = line.split(\";\")\n",
    "    land = s[0]\n",
    "    stadt = s[1]\n",
    "    if land not in eintraege.keys(): eintraege[land] = []\n",
    "    eintraege[land].append(stadt)\n",
    "datei.close()\n",
    "for land, hauptstaedte in eintraege.items():\n",
    "    if len(hauptstaedte) > 1:\n",
    "        hauptstaedte_text = \"; UND \".join(hauptstaedte)\n",
    "        print(f\"Land: {land} Hauptstädte: {hauptstaedte_text}\")"
   ]
  },
  {
   "cell_type": "code",
   "execution_count": null,
   "id": "bc53a371",
   "metadata": {},
   "outputs": [],
   "source": []
  }
 ],
 "metadata": {
  "kernelspec": {
   "display_name": "Python 3",
   "language": "python",
   "name": "python3"
  },
  "language_info": {
   "codemirror_mode": {
    "name": "ipython",
    "version": 3
   },
   "file_extension": ".py",
   "mimetype": "text/x-python",
   "name": "python",
   "nbconvert_exporter": "python",
   "pygments_lexer": "ipython3",
   "version": "3.13.1"
  }
 },
 "nbformat": 4,
 "nbformat_minor": 5
}
